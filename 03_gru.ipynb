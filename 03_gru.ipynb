{
  "cells": [
    {
      "cell_type": "code",
      "execution_count": 1,
      "metadata": {
        "id": "iv8Pl5gUTvlm",
        "outputId": "9904fa6d-3c66-4e0f-b9f3-4e588be420e2",
        "colab": {
          "base_uri": "https://localhost:8080/"
        }
      },
      "outputs": [
        {
          "output_type": "stream",
          "name": "stdout",
          "text": [
            "Mounted at /content/drive\n"
          ]
        }
      ],
      "source": [
        "from google.colab import drive\n",
        "drive.mount('/content/drive')"
      ]
    },
    {
      "cell_type": "code",
      "execution_count": 2,
      "metadata": {
        "id": "fL7m8cDoTvlo",
        "outputId": "16ec2c70-bde3-4e27-b6cd-41bbd0568828",
        "colab": {
          "base_uri": "https://localhost:8080/"
        }
      },
      "outputs": [
        {
          "output_type": "stream",
          "name": "stdout",
          "text": [
            "2.8.2\n",
            "2.8.0\n"
          ]
        }
      ],
      "source": [
        "import tensorflow as tf\n",
        "from tensorflow import keras\n",
        "print(tf.__version__)\n",
        "print(keras.__version__)"
      ]
    },
    {
      "cell_type": "code",
      "source": [
        "shuffle = False\n",
        "import pandas as pd\n",
        "from sklearn.model_selection import train_test_split\n",
        "\n",
        "\n",
        "dataset = pd.read_csv('/content/drive/MyDrive/datasets/movie.csv', sep=\",\")\n",
        "X = dataset[\"text\"]\n",
        "y = dataset[\"label\"]\n",
        "\n",
        "X_train, X_test, y_train, y_test = train_test_split(X, y, test_size=0.8, shuffle=shuffle)\n",
        "\n",
        "X_train, y_train"
      ],
      "metadata": {
        "id": "2vJl8Bs6T87X",
        "outputId": "660780e5-352f-45d8-d4f4-0cb158b2df12",
        "colab": {
          "base_uri": "https://localhost:8080/"
        }
      },
      "execution_count": 3,
      "outputs": [
        {
          "output_type": "execute_result",
          "data": {
            "text/plain": [
              "(0       I grew up (b. 1965) watching and loving the Th...\n",
              " 1       When I put this movie in my DVD player, and sa...\n",
              " 2       Why do people who do not know what a particula...\n",
              " 3       Even though I have great interest in Biblical ...\n",
              " 4       Im a die hard Dads Army fan and nothing will e...\n",
              "                               ...                        \n",
              " 7995    *May contain spoilers*<br /><br />I bent over ...\n",
              " 7996    Be very afraid of anyone who likes this film. ...\n",
              " 7997    Can they possibly get any worse than this? Pro...\n",
              " 7998    I give it a 2, because of the beautiful Medite...\n",
              " 7999    I'm not a fan of Adam Sandler. In fact, I don'...\n",
              " Name: text, Length: 8000, dtype: object, 0       0\n",
              " 1       0\n",
              " 2       0\n",
              " 3       0\n",
              " 4       1\n",
              "        ..\n",
              " 7995    0\n",
              " 7996    0\n",
              " 7997    0\n",
              " 7998    0\n",
              " 7999    1\n",
              " Name: label, Length: 8000, dtype: int64)"
            ]
          },
          "metadata": {},
          "execution_count": 3
        }
      ]
    },
    {
      "cell_type": "markdown",
      "metadata": {
        "id": "Oi2i3efQTvlr"
      },
      "source": [
        "## GRU"
      ]
    },
    {
      "cell_type": "code",
      "execution_count": 6,
      "metadata": {
        "id": "GA_2Rg9FTvls",
        "outputId": "3bfa39fa-417d-425b-c562-b188b0509d4d",
        "colab": {
          "base_uri": "https://localhost:8080/"
        }
      },
      "outputs": [
        {
          "output_type": "stream",
          "name": "stdout",
          "text": [
            "Model: \"sequential_1\"\n",
            "_________________________________________________________________\n",
            " Layer (type)                Output Shape              Param #   \n",
            "=================================================================\n",
            " text_vectorization_1 (TextV  (None, None)             0         \n",
            " ectorization)                                                   \n",
            "                                                                 \n",
            " embedding_1 (Embedding)     (None, None, 64)          3200000   \n",
            "                                                                 \n",
            " bidirectional_1 (Bidirectio  (None, 64)               18816     \n",
            " nal)                                                            \n",
            "                                                                 \n",
            " dense_2 (Dense)             (None, 24)                1560      \n",
            "                                                                 \n",
            " dense_3 (Dense)             (None, 1)                 25        \n",
            "                                                                 \n",
            "=================================================================\n",
            "Total params: 3,220,401\n",
            "Trainable params: 3,220,401\n",
            "Non-trainable params: 0\n",
            "_________________________________________________________________\n"
          ]
        }
      ],
      "source": [
        "from keras.models import Sequential\n",
        "from keras.callbacks import History, EarlyStopping\n",
        "from keras.layers import Embedding, TextVectorization, Dense, LSTM, Input, Bidirectional\n",
        "\n",
        "vectorize_layer = TextVectorization(max_tokens=50000)\n",
        "vectorize_layer.adapt(X_train)\n",
        "\n",
        "history_Adam = History()\n",
        "\n",
        "model = Sequential()\n",
        "\n",
        "# Vectorization\n",
        "model.add(Input(shape=(1,), dtype=tf.string))\n",
        "model.add(vectorize_layer)\n",
        "\n",
        "# Embedding\n",
        "model.add(Embedding(input_dim=len(vectorize_layer.get_vocabulary()), output_dim=64))\n",
        "\n",
        "\n",
        "model.add(Bidirectional(tf.keras.layers.GRU(32)))\n",
        "model.add(Dense(24, activation='relu'))\n",
        "model.add(Dense(1, activation='sigmoid'))\n",
        "\n",
        "\n",
        "model.summary()\n"
      ]
    },
    {
      "cell_type": "code",
      "execution_count": 7,
      "metadata": {
        "id": "O-qc8rF_Tvlt",
        "outputId": "7c608e79-2891-497a-e787-ace3cd28c6d3",
        "colab": {
          "base_uri": "https://localhost:8080/"
        }
      },
      "outputs": [
        {
          "output_type": "stream",
          "name": "stdout",
          "text": [
            "Epoch 1/20\n",
            "80/80 [==============================] - 29s 299ms/step - loss: 0.6912 - accuracy: 0.5309 - val_loss: 0.6778 - val_accuracy: 0.6102\n",
            "Epoch 2/20\n",
            "80/80 [==============================] - 15s 185ms/step - loss: 0.5134 - accuracy: 0.7517 - val_loss: 0.4506 - val_accuracy: 0.8023\n",
            "Epoch 3/20\n",
            "80/80 [==============================] - 19s 239ms/step - loss: 0.2057 - accuracy: 0.9220 - val_loss: 0.4515 - val_accuracy: 0.8148\n",
            "Epoch 4/20\n",
            "80/80 [==============================] - 22s 278ms/step - loss: 0.0644 - accuracy: 0.9809 - val_loss: 0.5781 - val_accuracy: 0.8108\n",
            "Epoch 5/20\n",
            "80/80 [==============================] - 16s 198ms/step - loss: 0.0252 - accuracy: 0.9930 - val_loss: 0.7510 - val_accuracy: 0.8217\n",
            "Epoch 5: early stopping\n"
          ]
        },
        {
          "output_type": "execute_result",
          "data": {
            "text/plain": [
              "<keras.callbacks.History at 0x7f4980146d90>"
            ]
          },
          "metadata": {},
          "execution_count": 7
        }
      ],
      "source": [
        "model.compile(loss=\"binary_crossentropy\",optimizer=\"adam\", metrics=[\"accuracy\"])\n",
        "\n",
        "early_stopping = EarlyStopping(monitor='val_loss', patience=3, mode='min', verbose=1)\n",
        "model.fit(X_train, y_train, validation_data=(X_test, y_test), epochs=20, batch_size=100, callbacks=[history_Adam, early_stopping])"
      ]
    },
    {
      "cell_type": "code",
      "execution_count": 8,
      "metadata": {
        "id": "qV2p_nZYTvlu",
        "outputId": "f792b233-ed06-4cb6-92df-750a9ebd6c30",
        "colab": {
          "base_uri": "https://localhost:8080/"
        }
      },
      "outputs": [
        {
          "output_type": "stream",
          "name": "stdout",
          "text": [
            "1000/1000 [==============================] - 24s 24ms/step - loss: 0.7500 - accuracy: 0.8217\n"
          ]
        },
        {
          "output_type": "execute_result",
          "data": {
            "text/plain": [
              "[0.7499738931655884, 0.8216562271118164]"
            ]
          },
          "metadata": {},
          "execution_count": 8
        }
      ],
      "source": [
        "model.evaluate(X_test,y_test)"
      ]
    },
    {
      "cell_type": "code",
      "execution_count": 9,
      "metadata": {
        "id": "zVG6RYRdTvlv",
        "outputId": "f77d43bd-8c41-4626-910f-bfaac235211d",
        "colab": {
          "base_uri": "https://localhost:8080/",
          "height": 265
        }
      },
      "outputs": [
        {
          "output_type": "display_data",
          "data": {
            "text/plain": [
              "<Figure size 432x288 with 1 Axes>"
            ],
            "image/png": "[encoded data removed]"
          },
          "metadata": {
            "needs_background": "light"
          }
        }
      ],
      "source": [
        "import matplotlib.pyplot as plt\n",
        "\n",
        "plt.plot(history_Adam.history['loss'], label = \"train\")\n",
        "plt.plot(history_Adam.history['val_loss'], label = \"test \")\n",
        "plt.legend()\n",
        "plt.show()"
      ]
    },
    {
      "cell_type": "code",
      "execution_count": 10,
      "metadata": {
        "id": "5-iAWDVPTvlw",
        "outputId": "486ac5bb-d246-431f-d61c-a60c145f8a11",
        "colab": {
          "base_uri": "https://localhost:8080/",
          "height": 265
        }
      },
      "outputs": [
        {
          "output_type": "display_data",
          "data": {
            "text/plain": [
              "<Figure size 432x288 with 1 Axes>"
            ],
            "image/png": "[encoded data removed]"
          },
          "metadata": {
            "needs_background": "light"
          }
        }
      ],
      "source": [
        "plt.plot(history_Adam.history['accuracy'], label = \"train\")\n",
        "plt.plot(history_Adam.history['val_accuracy'], label = \"test \")\n",
        "plt.legend()\n",
        "plt.show()"
      ]
    },
    {
      "cell_type": "markdown",
      "metadata": {
        "id": "5nB45KYYTvlx"
      },
      "source": [
        "## GRU Bidirectional"
      ]
    },
    {
      "cell_type": "code",
      "execution_count": 11,
      "metadata": {
        "id": "UOtO5mqdTvly",
        "outputId": "816ab60c-625a-40a2-f75e-105233fc5f41",
        "colab": {
          "base_uri": "https://localhost:8080/"
        }
      },
      "outputs": [
        {
          "output_type": "stream",
          "name": "stdout",
          "text": [
            "Model: \"sequential_2\"\n",
            "_________________________________________________________________\n",
            " Layer (type)                Output Shape              Param #   \n",
            "=================================================================\n",
            " text_vectorization_2 (TextV  (None, None)             0         \n",
            " ectorization)                                                   \n",
            "                                                                 \n",
            " embedding_2 (Embedding)     (None, None, 64)          3200000   \n",
            "                                                                 \n",
            " bidirectional_2 (Bidirectio  (None, None, 128)        49920     \n",
            " nal)                                                            \n",
            "                                                                 \n",
            " dense_4 (Dense)             (None, None, 32)          4128      \n",
            "                                                                 \n",
            " dense_5 (Dense)             (None, None, 1)           33        \n",
            "                                                                 \n",
            "=================================================================\n",
            "Total params: 3,254,081\n",
            "Trainable params: 3,254,081\n",
            "Non-trainable params: 0\n",
            "_________________________________________________________________\n"
          ]
        }
      ],
      "source": [
        "from keras.models import Sequential\n",
        "from keras.callbacks import History, EarlyStopping\n",
        "from keras.layers import Embedding, TextVectorization, Dense, LSTM, Input, Bidirectional, GRU\n",
        "\n",
        "vectorize_layer = TextVectorization(max_tokens=50000)\n",
        "vectorize_layer.adapt(X_train)\n",
        "\n",
        "history_Adam = History()\n",
        "\n",
        "model = Sequential()\n",
        "\n",
        "# Vectorization\n",
        "model.add(Input(shape=(1,), dtype=tf.string))\n",
        "model.add(vectorize_layer)\n",
        "\n",
        "# Embedding\n",
        "model.add(Embedding(input_dim=len(vectorize_layer.get_vocabulary()), output_dim=64))\n",
        "\n",
        "\n",
        "model.add(Bidirectional(GRU(64, return_sequences=True)))\n",
        "model.add(Dense(32, activation='relu'))\n",
        "model.add(Dense(1, activation='sigmoid'))\n",
        "\n",
        "model.summary()"
      ]
    },
    {
      "cell_type": "code",
      "execution_count": 12,
      "metadata": {
        "id": "NeoPM1FUTvlz",
        "outputId": "8ac9d49e-027e-458f-9a41-8e91dd86400f",
        "colab": {
          "base_uri": "https://localhost:8080/",
          "height": 541
        }
      },
      "outputs": [
        {
          "output_type": "stream",
          "name": "stdout",
          "text": [
            "Epoch 1/20\n",
            "80/80 [==============================] - 20s 212ms/step - loss: 0.6914 - accuracy: 0.5172 - val_loss: 0.6812 - val_accuracy: 0.5382\n",
            "Epoch 2/20\n",
            "80/80 [==============================] - 16s 203ms/step - loss: 0.6594 - accuracy: 0.5787 - val_loss: 0.6715 - val_accuracy: 0.5751\n",
            "Epoch 3/20\n",
            "80/80 [==============================] - 19s 235ms/step - loss: 0.4771 - accuracy: 0.7719 - val_loss: 0.5588 - val_accuracy: 0.7260\n",
            "Epoch 4/20\n",
            "80/80 [==============================] - 17s 215ms/step - loss: 0.3423 - accuracy: 0.8838 - val_loss: 0.4796 - val_accuracy: 0.8298\n",
            "Epoch 5/20\n",
            "80/80 [==============================] - 17s 219ms/step - loss: 0.2330 - accuracy: 0.9313 - val_loss: 0.5335 - val_accuracy: 0.8155\n",
            "Epoch 6/20\n",
            "80/80 [==============================] - 16s 204ms/step - loss: 0.1655 - accuracy: 0.9554 - val_loss: 0.5548 - val_accuracy: 0.8225\n",
            "Epoch 7/20\n",
            "80/80 [==============================] - 16s 203ms/step - loss: 0.2104 - accuracy: 0.9399 - val_loss: 0.7048 - val_accuracy: 0.7915\n",
            "Epoch 7: early stopping\n"
          ]
        },
        {
          "output_type": "display_data",
          "data": {
            "text/plain": [
              "<Figure size 432x288 with 1 Axes>"
            ],
            "image/png": "[encoded data removed]"
          },
          "metadata": {
            "needs_background": "light"
          }
        }
      ],
      "source": [
        "model.compile(loss=\"binary_crossentropy\",optimizer=\"adam\", metrics=[\"accuracy\"])\n",
        "\n",
        "early_stopping = EarlyStopping(monitor='val_loss', patience=3, mode='min', verbose=1)\n",
        "\n",
        "model.fit(X_train, y_train, validation_data=(X_test, y_test), epochs=20, batch_size=100, callbacks=[history_Adam, early_stopping])\n",
        "\n",
        "plt.plot(history_Adam.history['accuracy'], label = \"train\")\n",
        "plt.plot(history_Adam.history['val_accuracy'], label = \"test \")\n",
        "\n",
        "plt.legend()\n",
        "plt.show()\n"
      ]
    },
    {
      "cell_type": "code",
      "execution_count": 13,
      "metadata": {
        "id": "euICOlL9Tvl0",
        "outputId": "87c4e458-a42f-4b71-cb88-60034468fe59",
        "colab": {
          "base_uri": "https://localhost:8080/"
        }
      },
      "outputs": [
        {
          "output_type": "stream",
          "name": "stdout",
          "text": [
            "1000/1000 [==============================] - 25s 25ms/step - loss: 0.6888 - accuracy: 0.7904\n"
          ]
        },
        {
          "output_type": "execute_result",
          "data": {
            "text/plain": [
              "[0.6887593865394592, 0.7904340028762817]"
            ]
          },
          "metadata": {},
          "execution_count": 13
        }
      ],
      "source": [
        "model.evaluate(X_test,y_test)"
      ]
    },
    {
      "cell_type": "code",
      "execution_count": 14,
      "metadata": {
        "id": "mJrFpmTDTvl0",
        "outputId": "3318c705-7879-4d45-e0df-d89b6ac3c89d",
        "colab": {
          "base_uri": "https://localhost:8080/",
          "height": 265
        }
      },
      "outputs": [
        {
          "output_type": "display_data",
          "data": {
            "text/plain": [
              "<Figure size 432x288 with 1 Axes>"
            ],
            "image/png": "[encoded data removed]"
          },
          "metadata": {
            "needs_background": "light"
          }
        }
      ],
      "source": [
        "import matplotlib.pyplot as plt\n",
        "\n",
        "plt.plot(history_Adam.history['loss'], label = \"train\")\n",
        "plt.plot(history_Adam.history['val_loss'], label = \"test \")\n",
        "\n",
        "plt.legend()\n",
        "plt.show()"
      ]
    },
    {
      "cell_type": "code",
      "execution_count": 15,
      "metadata": {
        "id": "0BrdnWtoTvl1",
        "outputId": "3427551a-6f6b-49ba-a6a6-e682168a1260",
        "colab": {
          "base_uri": "https://localhost:8080/",
          "height": 265
        }
      },
      "outputs": [
        {
          "output_type": "display_data",
          "data": {
            "text/plain": [
              "<Figure size 432x288 with 1 Axes>"
            ],
            "image/png": "[encoded data removed]"
          },
          "metadata": {
            "needs_background": "light"
          }
        }
      ],
      "source": [
        "plt.plot(history_Adam.history['accuracy'], label = \"train\")\n",
        "plt.plot(history_Adam.history['val_accuracy'], label = \"test \")\n",
        "\n",
        "plt.legend()\n",
        "plt.show()"
      ]
    },
    {
      "cell_type": "markdown",
      "metadata": {
        "id": "MMSk4aNMTvl1"
      },
      "source": [
        "## Approach 5 - TwoLayer - Bidirectional GRU - with standarization\n",
        "https://www.dialog-21.ru/media/3380/arkhipenkoetal.pdf"
      ]
    },
    {
      "cell_type": "code",
      "execution_count": 18,
      "metadata": {
        "id": "3Q2TVISuTvl2",
        "outputId": "9a18a554-a6fb-4acb-c8ee-da3edb151acf",
        "colab": {
          "base_uri": "https://localhost:8080/"
        }
      },
      "outputs": [
        {
          "output_type": "stream",
          "name": "stdout",
          "text": [
            "Model: \"sequential_4\"\n",
            "_________________________________________________________________\n",
            " Layer (type)                Output Shape              Param #   \n",
            "=================================================================\n",
            " text_vectorization_4 (TextV  (None, None)             0         \n",
            " ectorization)                                                   \n",
            "                                                                 \n",
            " embedding_4 (Embedding)     (None, None, 64)          3200000   \n",
            "                                                                 \n",
            " bidirectional_5 (Bidirectio  (None, None, 256)        148992    \n",
            " nal)                                                            \n",
            "                                                                 \n",
            " bidirectional_6 (Bidirectio  (None, 128)              123648    \n",
            " nal)                                                            \n",
            "                                                                 \n",
            " dense_8 (Dense)             (None, 32)                4128      \n",
            "                                                                 \n",
            " dense_9 (Dense)             (None, 1)                 33        \n",
            "                                                                 \n",
            "=================================================================\n",
            "Total params: 3,476,801\n",
            "Trainable params: 3,476,801\n",
            "Non-trainable params: 0\n",
            "_________________________________________________________________\n"
          ]
        }
      ],
      "source": [
        "from keras.models import Sequential\n",
        "from keras.callbacks import History, EarlyStopping\n",
        "from keras.layers import Embedding, TextVectorization, Dense, LSTM, Input, Bidirectional, GRU\n",
        "\n",
        "vectorize_layer = TextVectorization(\n",
        "    max_tokens=50000,\n",
        "    standardize=\"lower_and_strip_punctuation\"\n",
        "  )\n",
        "vectorize_layer.adapt(X_train)\n",
        "\n",
        "history_Adam = History()\n",
        "\n",
        "model = Sequential()\n",
        "\n",
        "# Vectorization\n",
        "model.add(Input(shape=(1,), dtype=tf.string))\n",
        "model.add(vectorize_layer)\n",
        "\n",
        "# Embedding\n",
        "model.add(Embedding(input_dim=len(vectorize_layer.get_vocabulary()), output_dim=64))\n",
        "\n",
        "\n",
        "model.add(Bidirectional(GRU(128, return_sequences=True)))\n",
        "model.add(Bidirectional(GRU(64)))\n",
        "model.add(Dense(32, activation='relu'))\n",
        "model.add(Dense(1, activation='sigmoid'))\n",
        "\n",
        "model.summary()\n"
      ]
    },
    {
      "cell_type": "code",
      "execution_count": 19,
      "metadata": {
        "id": "NmdfmqtyTvl2",
        "outputId": "44ca4b49-2d48-497d-cc67-58685a8b70c6",
        "colab": {
          "base_uri": "https://localhost:8080/"
        }
      },
      "outputs": [
        {
          "output_type": "stream",
          "name": "stdout",
          "text": [
            "Epoch 1/20\n",
            "80/80 [==============================] - 79s 741ms/step - loss: 0.6548 - accuracy: 0.6035 - val_loss: 0.6027 - val_accuracy: 0.6752\n",
            "Epoch 2/20\n",
            "80/80 [==============================] - 43s 537ms/step - loss: 0.4191 - accuracy: 0.8156 - val_loss: 0.4968 - val_accuracy: 0.7858\n",
            "Epoch 3/20\n",
            "80/80 [==============================] - 61s 764ms/step - loss: 0.1733 - accuracy: 0.9373 - val_loss: 0.5620 - val_accuracy: 0.7965\n",
            "Epoch 4/20\n",
            "80/80 [==============================] - 56s 698ms/step - loss: 0.0696 - accuracy: 0.9794 - val_loss: 0.7072 - val_accuracy: 0.7834\n",
            "Epoch 5/20\n",
            "80/80 [==============================] - 55s 697ms/step - loss: 0.0312 - accuracy: 0.9914 - val_loss: 0.8644 - val_accuracy: 0.7984\n",
            "Epoch 5: early stopping\n"
          ]
        },
        {
          "output_type": "execute_result",
          "data": {
            "text/plain": [
              "<keras.callbacks.History at 0x7f48af8c9350>"
            ]
          },
          "metadata": {},
          "execution_count": 19
        }
      ],
      "source": [
        "model.compile(loss=\"binary_crossentropy\",optimizer=\"adam\", metrics=[\"accuracy\"])\n",
        "\n",
        "early_stopping = EarlyStopping(monitor='val_loss', patience=3, mode='min', verbose=1)\n",
        "model.fit(X_train, y_train, validation_data=(X_test, y_test), epochs=20, batch_size=100, callbacks=[early_stopping, history_Adam])"
      ]
    },
    {
      "cell_type": "code",
      "execution_count": 20,
      "metadata": {
        "id": "J8kQeqpGTvl3",
        "outputId": "6bb34409-a885-4b58-90ad-badaaca584f0",
        "colab": {
          "base_uri": "https://localhost:8080/"
        }
      },
      "outputs": [
        {
          "output_type": "stream",
          "name": "stdout",
          "text": [
            "1000/1000 [==============================] - 46s 44ms/step - loss: 0.8617 - accuracy: 0.7984\n"
          ]
        },
        {
          "output_type": "execute_result",
          "data": {
            "text/plain": [
              "[0.8617469668388367, 0.7984374761581421]"
            ]
          },
          "metadata": {},
          "execution_count": 20
        }
      ],
      "source": [
        "model.evaluate(X_test,y_test)"
      ]
    },
    {
      "cell_type": "code",
      "execution_count": 21,
      "metadata": {
        "id": "DSgD3w7tTvl3",
        "outputId": "c4b18b3e-f403-4f06-e298-e8a2e0609289",
        "colab": {
          "base_uri": "https://localhost:8080/",
          "height": 265
        }
      },
      "outputs": [
        {
          "output_type": "display_data",
          "data": {
            "text/plain": [
              "<Figure size 432x288 with 1 Axes>"
            ],
            "image/png": "[encoded data removed]"
          },
          "metadata": {
            "needs_background": "light"
          }
        }
      ],
      "source": [
        "import matplotlib.pyplot as plt\n",
        "plt.plot(history_Adam.history['loss'], label = \"train\")\n",
        "plt.plot(history_Adam.history['val_loss'], label = \"test \")\n",
        "plt.legend()\n",
        "plt.show()"
      ]
    },
    {
      "cell_type": "code",
      "execution_count": 22,
      "metadata": {
        "id": "vUJIu5G8Tvl4",
        "outputId": "49fdc882-4ece-405d-8874-409b27aea0cd",
        "colab": {
          "base_uri": "https://localhost:8080/",
          "height": 265
        }
      },
      "outputs": [
        {
          "output_type": "display_data",
          "data": {
            "text/plain": [
              "<Figure size 432x288 with 1 Axes>"
            ],
            "image/png": "[encoded data removed]"
          },
          "metadata": {
            "needs_background": "light"
          }
        }
      ],
      "source": [
        "plt.plot(history_Adam.history['accuracy'], label = \"train\")\n",
        "plt.plot(history_Adam.history['val_accuracy'], label = \"test \")\n",
        "plt.legend()\n",
        "plt.show()"
      ]
    },
    {
      "cell_type": "markdown",
      "metadata": {
        "id": "NEtU99zmTvl4"
      },
      "source": [
        "## Approach 6 - TwoLayer - GRU - with standarization and bigrams\n",
        "https://www.dialog-21.ru/media/3380/arkhipenkoetal.pdf"
      ]
    },
    {
      "cell_type": "code",
      "execution_count": 23,
      "metadata": {
        "id": "oJgxM_lXTvl5",
        "outputId": "6aa42848-385a-41b8-b559-1eb8e84e7c7b",
        "colab": {
          "base_uri": "https://localhost:8080/"
        }
      },
      "outputs": [
        {
          "output_type": "stream",
          "name": "stdout",
          "text": [
            "Model: \"sequential_5\"\n",
            "_________________________________________________________________\n",
            " Layer (type)                Output Shape              Param #   \n",
            "=================================================================\n",
            " text_vectorization_5 (TextV  (None, None)             0         \n",
            " ectorization)                                                   \n",
            "                                                                 \n",
            " embedding_5 (Embedding)     (None, None, 64)          3200000   \n",
            "                                                                 \n",
            " bidirectional_7 (Bidirectio  (None, None, 256)        148992    \n",
            " nal)                                                            \n",
            "                                                                 \n",
            " bidirectional_8 (Bidirectio  (None, 128)              123648    \n",
            " nal)                                                            \n",
            "                                                                 \n",
            " dense_10 (Dense)            (None, 32)                4128      \n",
            "                                                                 \n",
            " dense_11 (Dense)            (None, 1)                 33        \n",
            "                                                                 \n",
            "=================================================================\n",
            "Total params: 3,476,801\n",
            "Trainable params: 3,476,801\n",
            "Non-trainable params: 0\n",
            "_________________________________________________________________\n"
          ]
        }
      ],
      "source": [
        "from keras.models import Sequential\n",
        "from keras.callbacks import History, EarlyStopping\n",
        "from keras.layers import Embedding, TextVectorization, Dense, LSTM, Input, Bidirectional, GRU\n",
        "\n",
        "vectorize_layer = TextVectorization(\n",
        "    max_tokens=50000,\n",
        "    standardize=\"lower_and_strip_punctuation\",\n",
        "    ngrams = 2\n",
        "  )\n",
        "vectorize_layer.adapt(X_train)\n",
        "\n",
        "history_Adam = History()\n",
        "\n",
        "model = Sequential()\n",
        "\n",
        "# Vectorization\n",
        "model.add(Input(shape=(1,), dtype=tf.string))\n",
        "model.add(vectorize_layer)\n",
        "\n",
        "# Embedding\n",
        "model.add(Embedding(input_dim=len(vectorize_layer.get_vocabulary()), output_dim=64))\n",
        "\n",
        "\n",
        "model.add(Bidirectional(GRU(128, return_sequences=True)))\n",
        "model.add(Bidirectional(GRU(64)))\n",
        "model.add(Dense(32, activation='relu'))\n",
        "model.add(Dense(1, activation='sigmoid'))\n",
        "\n",
        "model.summary()\n"
      ]
    },
    {
      "cell_type": "code",
      "execution_count": 24,
      "metadata": {
        "id": "yKjHdRPQTvl6",
        "outputId": "4f53f3b6-357a-4743-837e-a512cda5de13",
        "colab": {
          "base_uri": "https://localhost:8080/"
        }
      },
      "outputs": [
        {
          "output_type": "stream",
          "name": "stdout",
          "text": [
            "Epoch 1/20\n",
            "80/80 [==============================] - 116s 1s/step - loss: 0.6343 - accuracy: 0.6122 - val_loss: 0.6142 - val_accuracy: 0.6714\n",
            "Epoch 2/20\n",
            "80/80 [==============================] - 110s 1s/step - loss: 0.4485 - accuracy: 0.8069 - val_loss: 0.4399 - val_accuracy: 0.8179\n",
            "Epoch 3/20\n",
            "80/80 [==============================] - 110s 1s/step - loss: 0.2819 - accuracy: 0.8972 - val_loss: 0.4194 - val_accuracy: 0.8190\n",
            "Epoch 4/20\n",
            "80/80 [==============================] - 110s 1s/step - loss: 0.1430 - accuracy: 0.9539 - val_loss: 0.5432 - val_accuracy: 0.7989\n",
            "Epoch 5/20\n",
            "80/80 [==============================] - 110s 1s/step - loss: 0.0636 - accuracy: 0.9819 - val_loss: 0.6262 - val_accuracy: 0.8164\n",
            "Epoch 6/20\n",
            "80/80 [==============================] - 110s 1s/step - loss: 0.0253 - accuracy: 0.9945 - val_loss: 0.7930 - val_accuracy: 0.7859\n",
            "Epoch 6: early stopping\n"
          ]
        },
        {
          "output_type": "execute_result",
          "data": {
            "text/plain": [
              "<keras.callbacks.History at 0x7f4913b0fe50>"
            ]
          },
          "metadata": {},
          "execution_count": 24
        }
      ],
      "source": [
        "model.compile(loss=\"binary_crossentropy\",optimizer=\"adam\", metrics=[\"accuracy\"])\n",
        "\n",
        "early_stopping = EarlyStopping(monitor='val_loss', patience=3, mode='min', verbose=1)\n",
        "model.fit(X_train, y_train, validation_data=(X_test, y_test), epochs=20, batch_size=100, callbacks=[early_stopping, history_Adam])"
      ]
    },
    {
      "cell_type": "code",
      "execution_count": 25,
      "metadata": {
        "id": "T6JSKqiRTvl7",
        "outputId": "e874882f-0ed0-4bf9-cd00-2ab3c8319b9b",
        "colab": {
          "base_uri": "https://localhost:8080/"
        }
      },
      "outputs": [
        {
          "output_type": "stream",
          "name": "stdout",
          "text": [
            "1000/1000 [==============================] - 84s 83ms/step - loss: 0.7916 - accuracy: 0.7861\n"
          ]
        },
        {
          "output_type": "execute_result",
          "data": {
            "text/plain": [
              "[0.7916190028190613, 0.786062479019165]"
            ]
          },
          "metadata": {},
          "execution_count": 25
        }
      ],
      "source": [
        "model.evaluate(X_test,y_test)"
      ]
    },
    {
      "cell_type": "code",
      "execution_count": 26,
      "metadata": {
        "id": "YdSI2tpATvl7",
        "outputId": "4b95a617-72a6-48d8-83ef-76df646f3dd2",
        "colab": {
          "base_uri": "https://localhost:8080/",
          "height": 265
        }
      },
      "outputs": [
        {
          "output_type": "display_data",
          "data": {
            "text/plain": [
              "<Figure size 432x288 with 1 Axes>"
            ],
            "image/png": "[encoded data removed]"
          },
          "metadata": {
            "needs_background": "light"
          }
        }
      ],
      "source": [
        "import matplotlib.pyplot as plt\n",
        "plt.plot(history_Adam.history['loss'], label = \"train\")\n",
        "plt.plot(history_Adam.history['val_loss'], label = \"test \")\n",
        "plt.legend()\n",
        "plt.show()"
      ]
    },
    {
      "cell_type": "code",
      "execution_count": 27,
      "metadata": {
        "id": "BaooyaLETvl7",
        "outputId": "32853a3c-f090-4d69-fa6d-74ae9d599916",
        "colab": {
          "base_uri": "https://localhost:8080/",
          "height": 265
        }
      },
      "outputs": [
        {
          "output_type": "display_data",
          "data": {
            "text/plain": [
              "<Figure size 432x288 with 1 Axes>"
            ],
            "image/png": "[encoded data removed]"
          },
          "metadata": {
            "needs_background": "light"
          }
        }
      ],
      "source": [
        "plt.plot(history_Adam.history['accuracy'], label = \"train\")\n",
        "plt.plot(history_Adam.history['val_accuracy'], label = \"test \")\n",
        "plt.legend()\n",
        "plt.show()"
      ]
    }
  ],
  "metadata": {
    "interpreter": {
      "hash": "aee8b7b246df8f9039afb4144a1f6fd8d2ca17a180786b69acc140d282b71a49"
    },
    "kernelspec": {
      "display_name": "Python 3.9.10 64-bit",
      "language": "python",
      "name": "python3"
    },
    "language_info": {
      "name": "python",
      "version": "3.9.10"
    },
    "orig_nbformat": 4,
    "colab": {
      "name": "03_gru.ipynb",
      "provenance": []
    },
    "accelerator": "GPU"
  },
  "nbformat": 4,
  "nbformat_minor": 0
}