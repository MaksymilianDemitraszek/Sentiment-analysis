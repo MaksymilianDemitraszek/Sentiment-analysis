{
  "cells": [
    {
      "cell_type": "markdown",
      "metadata": {
        "id": "tYi4md_XUM_6"
      },
      "source": [
        "## Dataset\n",
        "https://www.kaggle.com/datasets/yasserh/imdb-movie-ratings-sentiment-analysis\n",
        "\n",
        "## References\n",
        "https://aclanthology.org/C14-1008.pdf\n",
        "https://www.bioinf.jku.at/publications/older/2604.pdf\n",
        "\n"
      ]
    },
    {
      "cell_type": "code",
      "source": [
        "from google.colab import drive\n",
        "drive.mount('/content/drive')"
      ],
      "metadata": {
        "id": "fx_UdcKlWK_Y",
        "outputId": "87f2b83a-6c19-4bbd-8699-f7932df4909c",
        "colab": {
          "base_uri": "https://localhost:8080/"
        }
      },
      "execution_count": 3,
      "outputs": [
        {
          "output_type": "stream",
          "name": "stdout",
          "text": [
            "Mounted at /content/drive\n"
          ]
        }
      ]
    },
    {
      "cell_type": "code",
      "execution_count": 4,
      "metadata": {
        "id": "6SeOQL6WUM_8",
        "outputId": "4e367d01-99e2-4132-82d6-674580e963cd",
        "colab": {
          "base_uri": "https://localhost:8080/"
        }
      },
      "outputs": [
        {
          "output_type": "execute_result",
          "data": {
            "text/plain": [
              "(0       I grew up (b. 1965) watching and loving the Th...\n",
              " 1       When I put this movie in my DVD player, and sa...\n",
              " 2       Why do people who do not know what a particula...\n",
              " 3       Even though I have great interest in Biblical ...\n",
              " 4       Im a die hard Dads Army fan and nothing will e...\n",
              "                               ...                        \n",
              " 7995    *May contain spoilers*<br /><br />I bent over ...\n",
              " 7996    Be very afraid of anyone who likes this film. ...\n",
              " 7997    Can they possibly get any worse than this? Pro...\n",
              " 7998    I give it a 2, because of the beautiful Medite...\n",
              " 7999    I'm not a fan of Adam Sandler. In fact, I don'...\n",
              " Name: text, Length: 8000, dtype: object, 0       0\n",
              " 1       0\n",
              " 2       0\n",
              " 3       0\n",
              " 4       1\n",
              "        ..\n",
              " 7995    0\n",
              " 7996    0\n",
              " 7997    0\n",
              " 7998    0\n",
              " 7999    1\n",
              " Name: label, Length: 8000, dtype: int64)"
            ]
          },
          "metadata": {},
          "execution_count": 4
        }
      ],
      "source": [
        "shuffle = False\n",
        "import pandas as pd\n",
        "from sklearn.model_selection import train_test_split\n",
        "\n",
        "\n",
        "dataset = pd.read_csv('/content/drive/MyDrive/datasets/movie.csv', sep=\",\")\n",
        "X = dataset[\"text\"]\n",
        "y = dataset[\"label\"]\n",
        "\n",
        "X_train, X_test, y_train, y_test = train_test_split(X, y, test_size=0.8, shuffle=shuffle)\n",
        "\n",
        "X_train, y_train"
      ]
    },
    {
      "cell_type": "markdown",
      "metadata": {
        "id": "dzB9uJyyUM_-"
      },
      "source": [
        "## Approach 1 - RRN"
      ]
    },
    {
      "cell_type": "code",
      "execution_count": 5,
      "metadata": {
        "id": "Jy09BNy1UM_-",
        "outputId": "3f67af96-5a4c-4cfa-eb6a-c2b1ae081c29",
        "colab": {
          "base_uri": "https://localhost:8080/"
        }
      },
      "outputs": [
        {
          "output_type": "stream",
          "name": "stdout",
          "text": [
            "2.8.0\n",
            "2.8.0\n"
          ]
        }
      ],
      "source": [
        "import tensorflow as tf\n",
        "from tensorflow import keras\n",
        "print(tf.__version__)\n",
        "print(keras.__version__)"
      ]
    },
    {
      "cell_type": "code",
      "execution_count": null,
      "metadata": {
        "id": "rE4wMVCmUNAA",
        "outputId": "cbdb195c-dfab-46d0-f76c-ed04f4c32d7d"
      },
      "outputs": [
        {
          "name": "stdout",
          "output_type": "stream",
          "text": [
            "Model: \"sequential_57\"\n",
            "_________________________________________________________________\n",
            " Layer (type)                Output Shape              Param #   \n",
            "=================================================================\n",
            " text_vectorization_57 (Text  (None, None)             0         \n",
            " Vectorization)                                                  \n",
            "                                                                 \n",
            " embedding_42 (Embedding)    (None, None, 32)          1451232   \n",
            "                                                                 \n",
            " lstm_11 (LSTM)              (None, 32)                8320      \n",
            "                                                                 \n",
            " dense_57 (Dense)            (None, 16)                528       \n",
            "                                                                 \n",
            " dense_58 (Dense)            (None, 1)                 17        \n",
            "                                                                 \n",
            "=================================================================\n",
            "Total params: 1,460,097\n",
            "Trainable params: 1,460,097\n",
            "Non-trainable params: 0\n",
            "_________________________________________________________________\n"
          ]
        }
      ],
      "source": [
        "from keras.models import Sequential\n",
        "from keras.callbacks import History, EarlyStopping\n",
        "from keras.layers import Embedding, TextVectorization, Dense, LSTM, Input\n",
        "\n",
        "vectorize_layer = TextVectorization(max_tokens=50000)\n",
        "vectorize_layer.adapt(X_train)\n",
        "\n",
        "history_Adam = History()\n",
        "\n",
        "model = Sequential()\n",
        "\n",
        "# Vectorization\n",
        "model.add(Input(shape=(1,), dtype=tf.string))\n",
        "model.add(vectorize_layer)\n",
        "\n",
        "# Embedding\n",
        "model.add(Embedding(input_dim=len(vectorize_layer.get_vocabulary()), output_dim=32))\n",
        "\n",
        "model.add(LSTM(32, activation='softsign'))\n",
        "model.add(Dense(16, activation='relu'))\n",
        "model.add(Dense(1, activation='sigmoid'))\n",
        "\n",
        "\n",
        "model.summary()\n"
      ]
    },
    {
      "cell_type": "code",
      "execution_count": null,
      "metadata": {
        "id": "ZbdRSCb1UNAB",
        "outputId": "7ed6bec4-106b-4513-f158-019209b3b293"
      },
      "outputs": [
        {
          "name": "stdout",
          "output_type": "stream",
          "text": [
            "Epoch 1/20\n",
            "125/125 [==============================] - 67s 532ms/step - loss: 0.6929 - accuracy: 0.5155 - val_loss: 0.6938 - val_accuracy: 0.4988\n",
            "Epoch 2/20\n",
            "125/125 [==============================] - 64s 514ms/step - loss: 0.6929 - accuracy: 0.5155 - val_loss: 0.6940 - val_accuracy: 0.4988\n",
            "Epoch 3/20\n",
            "125/125 [==============================] - 68s 544ms/step - loss: 0.6927 - accuracy: 0.5238 - val_loss: 0.6935 - val_accuracy: 0.5020\n",
            "Epoch 4/20\n",
            "125/125 [==============================] - 70s 565ms/step - loss: 0.6921 - accuracy: 0.5278 - val_loss: 0.6933 - val_accuracy: 0.5025\n",
            "Epoch 5/20\n",
            "125/125 [==============================] - 69s 554ms/step - loss: 0.7162 - accuracy: 0.5175 - val_loss: 0.6949 - val_accuracy: 0.4988\n",
            "Epoch 6/20\n",
            "125/125 [==============================] - 63s 508ms/step - loss: 0.6914 - accuracy: 0.5225 - val_loss: 0.6942 - val_accuracy: 0.5009\n",
            "Epoch 7/20\n",
            "125/125 [==============================] - 69s 553ms/step - loss: 0.6897 - accuracy: 0.5297 - val_loss: 0.6933 - val_accuracy: 0.5031\n",
            "Epoch 8/20\n",
            "125/125 [==============================] - 67s 538ms/step - loss: 0.6846 - accuracy: 0.5310 - val_loss: 0.6972 - val_accuracy: 0.5029\n",
            "Epoch 9/20\n",
            "125/125 [==============================] - 64s 518ms/step - loss: 0.6815 - accuracy: 0.5307 - val_loss: 0.6937 - val_accuracy: 0.5034\n",
            "Epoch 10/20\n",
            "125/125 [==============================] - 70s 559ms/step - loss: 0.6773 - accuracy: 0.5293 - val_loss: 0.6950 - val_accuracy: 0.5037\n",
            "Epoch 11/20\n",
            "125/125 [==============================] - 68s 546ms/step - loss: 0.6771 - accuracy: 0.5318 - val_loss: 0.6958 - val_accuracy: 0.5041\n",
            "Epoch 12/20\n",
            "125/125 [==============================] - 65s 521ms/step - loss: 0.6758 - accuracy: 0.5347 - val_loss: 0.6965 - val_accuracy: 0.5045\n",
            "Epoch 13/20\n",
            "125/125 [==============================] - 66s 529ms/step - loss: 0.6751 - accuracy: 0.5330 - val_loss: 0.6966 - val_accuracy: 0.5045\n",
            "Epoch 14/20\n",
            "125/125 [==============================] - 65s 522ms/step - loss: 0.6749 - accuracy: 0.5315 - val_loss: 0.6993 - val_accuracy: 0.5038\n",
            "Epoch 15/20\n",
            "125/125 [==============================] - 65s 519ms/step - loss: 0.6747 - accuracy: 0.5337 - val_loss: 0.6965 - val_accuracy: 0.5054\n",
            "Epoch 16/20\n",
            "125/125 [==============================] - 66s 533ms/step - loss: 0.6709 - accuracy: 0.5343 - val_loss: 0.6985 - val_accuracy: 0.5051\n",
            "Epoch 17/20\n",
            "125/125 [==============================] - 65s 521ms/step - loss: 0.6726 - accuracy: 0.5328 - val_loss: 0.7004 - val_accuracy: 0.5054\n",
            "Epoch 18/20\n",
            "125/125 [==============================] - 65s 520ms/step - loss: 0.6711 - accuracy: 0.5345 - val_loss: 0.7150 - val_accuracy: 0.5045\n",
            "Epoch 19/20\n",
            "125/125 [==============================] - 66s 527ms/step - loss: 0.6719 - accuracy: 0.5325 - val_loss: 0.6991 - val_accuracy: 0.5049\n",
            "Epoch 20/20\n",
            "125/125 [==============================] - 69s 551ms/step - loss: 0.6727 - accuracy: 0.5332 - val_loss: 0.6974 - val_accuracy: 0.5046\n"
          ]
        },
        {
          "data": {
            "text/plain": [
              "<keras.callbacks.History at 0x142ee0430>"
            ]
          },
          "execution_count": 139,
          "metadata": {},
          "output_type": "execute_result"
        }
      ],
      "source": [
        "model.compile(loss=\"binary_crossentropy\",optimizer=\"adam\", metrics=[\"accuracy\"])\n",
        "\n",
        "# early_stopping = EarlyStopping(monitor='val_loss', patience=3, mode='min', verbose=1)\n",
        "model.fit(X_train, y_train, validation_data=(X_test, y_test), epochs=20, callbacks=[history_Adam])"
      ]
    },
    {
      "cell_type": "code",
      "execution_count": null,
      "metadata": {
        "id": "hxQ0eWlNUNAC",
        "outputId": "57728788-5f9c-401a-9377-e3a510b139b3"
      },
      "outputs": [
        {
          "data": {
            "image/png": "[encoded data removed]",
            "text/plain": [
              "<Figure size 432x288 with 1 Axes>"
            ]
          },
          "metadata": {
            "needs_background": "light"
          },
          "output_type": "display_data"
        }
      ],
      "source": [
        "import matplotlib.pyplot as plt\n",
        "\n",
        "plt.plot(history_Adam.history['loss'], label = \"train\")\n",
        "plt.plot(history_Adam.history['val_loss'], label = \"test \")\n",
        "\n",
        "\n",
        "\n",
        "plt.legend()\n",
        "plt.show()"
      ]
    },
    {
      "cell_type": "code",
      "execution_count": null,
      "metadata": {
        "id": "HZYJ1jBMUNAD",
        "outputId": "ca74d066-64b5-4e9c-a952-f5b8acab68eb"
      },
      "outputs": [
        {
          "data": {
            "image/png": "[encoded data removed]",
            "text/plain": [
              "<Figure size 432x288 with 1 Axes>"
            ]
          },
          "metadata": {
            "needs_background": "light"
          },
          "output_type": "display_data"
        }
      ],
      "source": [
        "plt.plot(history_Adam.history['accuracy'], label = \"train\")\n",
        "plt.plot(history_Adam.history['val_accuracy'], label = \"test \")\n",
        "\n",
        "plt.legend()\n",
        "plt.show()\n"
      ]
    },
    {
      "cell_type": "markdown",
      "metadata": {
        "id": "bES246cEUNAD"
      },
      "source": [
        "## Approach 2 - Bidirectional\n"
      ]
    },
    {
      "cell_type": "code",
      "execution_count": null,
      "metadata": {
        "id": "TfMj6idRUNAE",
        "outputId": "48e07d08-4fc6-472f-9c6a-33cc73b67f23"
      },
      "outputs": [
        {
          "name": "stdout",
          "output_type": "stream",
          "text": [
            "Model: \"sequential_58\"\n",
            "_________________________________________________________________\n",
            " Layer (type)                Output Shape              Param #   \n",
            "=================================================================\n",
            " text_vectorization_58 (Text  (None, None)             0         \n",
            " Vectorization)                                                  \n",
            "                                                                 \n",
            " embedding_43 (Embedding)    (None, None, 64)          2902464   \n",
            "                                                                 \n",
            " dense_59 (Dense)            (None, None, 128)         8320      \n",
            "                                                                 \n",
            " dense_60 (Dense)            (None, None, 64)          8256      \n",
            "                                                                 \n",
            " dense_61 (Dense)            (None, None, 16)          1040      \n",
            "                                                                 \n",
            " dense_62 (Dense)            (None, None, 1)           17        \n",
            "                                                                 \n",
            "=================================================================\n",
            "Total params: 2,920,097\n",
            "Trainable params: 2,920,097\n",
            "Non-trainable params: 0\n",
            "_________________________________________________________________\n"
          ]
        }
      ],
      "source": [
        "from keras.models import Sequential\n",
        "from keras.callbacks import History, EarlyStopping\n",
        "from keras.layers import Embedding, TextVectorization, Dense, LSTM, Input\n",
        "\n",
        "vectorize_layer = TextVectorization(max_tokens=50000)\n",
        "vectorize_layer.adapt(X_train)\n",
        "\n",
        "history_Adam = History()\n",
        "\n",
        "model = Sequential()\n",
        "\n",
        "# Vectorization\n",
        "model.add(Input(shape=(1,), dtype=tf.string))\n",
        "model.add(vectorize_layer)\n",
        "\n",
        "# Embedding\n",
        "model.add(Embedding(input_dim=len(vectorize_layer.get_vocabulary()), output_dim=64))\n",
        "\n",
        "model.add(Dense(128, activation='relu'))\n",
        "model.add(Dense(64, activation='relu'))\n",
        "model.add(Dense(16, activation='relu'))\n",
        "model.add(Dense(1, activation='sigmoid'))\n",
        "\n",
        "\n",
        "model.summary()\n"
      ]
    },
    {
      "cell_type": "code",
      "execution_count": null,
      "metadata": {
        "id": "XmbngCHqUNAF",
        "outputId": "9c838a55-ffd2-4f08-8817-42214d0ffef9"
      },
      "outputs": [
        {
          "name": "stdout",
          "output_type": "stream",
          "text": [
            "Epoch 1/20\n",
            "125/125 [==============================] - 22s 175ms/step - loss: 0.6927 - accuracy: 0.5153 - val_loss: 0.6920 - val_accuracy: 0.5129\n",
            "Epoch 2/20\n",
            "125/125 [==============================] - 21s 168ms/step - loss: 0.6897 - accuracy: 0.5252 - val_loss: 0.6907 - val_accuracy: 0.5138\n",
            "Epoch 3/20\n",
            "125/125 [==============================] - 21s 169ms/step - loss: 0.6860 - accuracy: 0.5357 - val_loss: 0.6924 - val_accuracy: 0.5149\n",
            "Epoch 4/20\n",
            "125/125 [==============================] - 22s 177ms/step - loss: 0.6830 - accuracy: 0.5377 - val_loss: 0.6939 - val_accuracy: 0.5147\n",
            "Epoch 5/20\n",
            "125/125 [==============================] - 24s 196ms/step - loss: 0.6814 - accuracy: 0.5378 - val_loss: 0.6943 - val_accuracy: 0.5141\n",
            "Epoch 6/20\n",
            "125/125 [==============================] - 24s 196ms/step - loss: 0.6795 - accuracy: 0.5387 - val_loss: 0.6967 - val_accuracy: 0.5143\n",
            "Epoch 7/20\n",
            "125/125 [==============================] - 23s 188ms/step - loss: 0.6792 - accuracy: 0.5387 - val_loss: 0.6976 - val_accuracy: 0.5148\n",
            "Epoch 8/20\n",
            "125/125 [==============================] - 23s 185ms/step - loss: 0.6785 - accuracy: 0.5389 - val_loss: 0.6996 - val_accuracy: 0.5145\n",
            "Epoch 9/20\n",
            "125/125 [==============================] - 23s 185ms/step - loss: 0.6780 - accuracy: 0.5391 - val_loss: 0.7001 - val_accuracy: 0.5143\n",
            "Epoch 10/20\n",
            "125/125 [==============================] - 23s 185ms/step - loss: 0.6777 - accuracy: 0.5385 - val_loss: 0.7018 - val_accuracy: 0.5150\n",
            "Epoch 11/20\n",
            "125/125 [==============================] - 24s 193ms/step - loss: 0.6775 - accuracy: 0.5391 - val_loss: 0.7034 - val_accuracy: 0.5142\n",
            "Epoch 12/20\n",
            "125/125 [==============================] - 23s 188ms/step - loss: 0.6776 - accuracy: 0.5402 - val_loss: 0.7042 - val_accuracy: 0.5146\n",
            "Epoch 13/20\n",
            "125/125 [==============================] - 23s 185ms/step - loss: 0.6772 - accuracy: 0.5398 - val_loss: 0.7054 - val_accuracy: 0.5146\n",
            "Epoch 14/20\n",
            "125/125 [==============================] - 23s 186ms/step - loss: 0.6775 - accuracy: 0.5363 - val_loss: 0.7085 - val_accuracy: 0.5141\n",
            "Epoch 15/20\n",
            "125/125 [==============================] - 24s 189ms/step - loss: 0.6771 - accuracy: 0.5391 - val_loss: 0.7083 - val_accuracy: 0.5145\n",
            "Epoch 16/20\n",
            "125/125 [==============================] - 24s 191ms/step - loss: 0.6770 - accuracy: 0.5402 - val_loss: 0.7081 - val_accuracy: 0.5149\n",
            "Epoch 17/20\n",
            "125/125 [==============================] - 23s 188ms/step - loss: 0.6772 - accuracy: 0.5380 - val_loss: 0.7100 - val_accuracy: 0.5147\n",
            "Epoch 18/20\n",
            "125/125 [==============================] - 24s 191ms/step - loss: 0.6767 - accuracy: 0.5400 - val_loss: 0.7101 - val_accuracy: 0.5146\n",
            "Epoch 19/20\n",
            "125/125 [==============================] - 23s 187ms/step - loss: 0.6767 - accuracy: 0.5395 - val_loss: 0.7107 - val_accuracy: 0.5150\n",
            "Epoch 20/20\n",
            "125/125 [==============================] - 23s 189ms/step - loss: 0.6767 - accuracy: 0.5390 - val_loss: 0.7119 - val_accuracy: 0.5147\n"
          ]
        },
        {
          "data": {
            "text/plain": [
              "<keras.callbacks.History at 0x13ca80430>"
            ]
          },
          "execution_count": 143,
          "metadata": {},
          "output_type": "execute_result"
        }
      ],
      "source": [
        "model.compile(loss=\"binary_crossentropy\",optimizer=\"adam\", metrics=[\"accuracy\"])\n",
        "\n",
        "# early_stopping = EarlyStopping(monitor='val_loss', patience=3, mode='min', verbose=1)\n",
        "model.fit(X_train, y_train, validation_data=(X_test, y_test), epochs=20, callbacks=[history_Adam])"
      ]
    },
    {
      "cell_type": "code",
      "execution_count": null,
      "metadata": {
        "id": "2yuAAmHmUNAG",
        "outputId": "20196de1-c253-460e-eb95-97bb9c9fef40"
      },
      "outputs": [
        {
          "data": {
            "image/png": "[encoded data removed]",
            "text/plain": [
              "<Figure size 432x288 with 1 Axes>"
            ]
          },
          "metadata": {
            "needs_background": "light"
          },
          "output_type": "display_data"
        }
      ],
      "source": [
        "import matplotlib.pyplot as plt\n",
        "\n",
        "plt.plot(history_Adam.history['loss'], label = \"train\")\n",
        "plt.plot(history_Adam.history['val_loss'], label = \"test \")\n",
        "\n",
        "\n",
        "\n",
        "plt.legend()\n",
        "plt.show()"
      ]
    },
    {
      "cell_type": "code",
      "execution_count": null,
      "metadata": {
        "id": "eNnBVyTFUNAH",
        "outputId": "180fbd18-7e36-4be0-e7b5-f07db88cf83b"
      },
      "outputs": [
        {
          "data": {
            "image/png": "[encoded data removed]",
            "text/plain": [
              "<Figure size 432x288 with 1 Axes>"
            ]
          },
          "metadata": {
            "needs_background": "light"
          },
          "output_type": "display_data"
        }
      ],
      "source": [
        "plt.plot(history_Adam.history['accuracy'], label = \"train\")\n",
        "plt.plot(history_Adam.history['val_accuracy'], label = \"test \")\n",
        "\n",
        "plt.legend()\n",
        "plt.show()\n"
      ]
    },
    {
      "cell_type": "markdown",
      "metadata": {
        "id": "qOA9kwg4UNAH"
      },
      "source": [
        "## Approach 3 - GRU"
      ]
    },
    {
      "cell_type": "code",
      "execution_count": null,
      "metadata": {
        "id": "qgIo00clUNAI",
        "outputId": "a15a97ba-1840-45ae-c844-d18616bb5679"
      },
      "outputs": [
        {
          "name": "stdout",
          "output_type": "stream",
          "text": [
            "Model: \"sequential_59\"\n",
            "_________________________________________________________________\n",
            " Layer (type)                Output Shape              Param #   \n",
            "=================================================================\n",
            " text_vectorization_59 (Text  (None, None)             0         \n",
            " Vectorization)                                                  \n",
            "                                                                 \n",
            " embedding_44 (Embedding)    (None, None, 64)          2902464   \n",
            "                                                                 \n",
            " bidirectional (Bidirectiona  (None, 64)               18816     \n",
            " l)                                                              \n",
            "                                                                 \n",
            " dense_63 (Dense)            (None, 24)                1560      \n",
            "                                                                 \n",
            " dense_64 (Dense)            (None, 1)                 25        \n",
            "                                                                 \n",
            "=================================================================\n",
            "Total params: 2,922,865\n",
            "Trainable params: 2,922,865\n",
            "Non-trainable params: 0\n",
            "_________________________________________________________________\n"
          ]
        }
      ],
      "source": [
        "from keras.models import Sequential\n",
        "from keras.callbacks import History, EarlyStopping\n",
        "from keras.layers import Embedding, TextVectorization, Dense, LSTM, Input, Bidirectional\n",
        "\n",
        "vectorize_layer = TextVectorization(max_tokens=50000)\n",
        "vectorize_layer.adapt(X_train)\n",
        "\n",
        "history_Adam = History()\n",
        "\n",
        "model = Sequential()\n",
        "\n",
        "# Vectorization\n",
        "model.add(Input(shape=(1,), dtype=tf.string))\n",
        "model.add(vectorize_layer)\n",
        "\n",
        "# Embedding\n",
        "model.add(Embedding(input_dim=len(vectorize_layer.get_vocabulary()), output_dim=64))\n",
        "\n",
        "\n",
        "model.add(Bidirectional(tf.keras.layers.GRU(32)))\n",
        "model.add(Dense(24, activation='relu'))\n",
        "model.add(Dense(1, activation='sigmoid'))\n",
        "\n",
        "\n",
        "model.summary()\n"
      ]
    },
    {
      "cell_type": "code",
      "execution_count": null,
      "metadata": {
        "id": "4_nmzzADUNAI",
        "outputId": "49da6b82-cd09-4400-bf4a-80be4f6d33c8"
      },
      "outputs": [
        {
          "name": "stdout",
          "output_type": "stream",
          "text": [
            "Epoch 1/20\n",
            "125/125 [==============================] - 97s 755ms/step - loss: 0.6880 - accuracy: 0.5472 - val_loss: 0.6569 - val_accuracy: 0.6255\n",
            "Epoch 2/20\n",
            "125/125 [==============================] - 102s 821ms/step - loss: 0.4633 - accuracy: 0.7945 - val_loss: 0.5537 - val_accuracy: 0.7167\n",
            "Epoch 3/20\n",
            "125/125 [==============================] - 102s 820ms/step - loss: 0.1556 - accuracy: 0.9457 - val_loss: 0.6116 - val_accuracy: 0.7722\n",
            "Epoch 4/20\n",
            "125/125 [==============================] - 100s 801ms/step - loss: 0.0340 - accuracy: 0.9910 - val_loss: 0.7462 - val_accuracy: 0.7715\n",
            "Epoch 5/20\n",
            "125/125 [==============================] - 103s 829ms/step - loss: 0.0084 - accuracy: 0.9985 - val_loss: 0.9285 - val_accuracy: 0.7814\n",
            "Epoch 6/20\n",
            "125/125 [==============================] - 95s 760ms/step - loss: 0.0084 - accuracy: 0.9975 - val_loss: 1.0466 - val_accuracy: 0.7831\n",
            "Epoch 7/20\n",
            "125/125 [==============================] - 95s 761ms/step - loss: 0.0014 - accuracy: 0.9995 - val_loss: 1.1557 - val_accuracy: 0.7687\n",
            "Epoch 8/20\n",
            "125/125 [==============================] - 105s 844ms/step - loss: 6.6416e-04 - accuracy: 1.0000 - val_loss: 1.1449 - val_accuracy: 0.7827\n",
            "Epoch 9/20\n",
            "125/125 [==============================] - 102s 818ms/step - loss: 1.8840e-04 - accuracy: 1.0000 - val_loss: 1.2484 - val_accuracy: 0.7891\n",
            "Epoch 10/20\n",
            "125/125 [==============================] - 102s 817ms/step - loss: 1.1167e-04 - accuracy: 1.0000 - val_loss: 1.2932 - val_accuracy: 0.7905\n",
            "Epoch 11/20\n",
            "125/125 [==============================] - 102s 820ms/step - loss: 7.6570e-05 - accuracy: 1.0000 - val_loss: 1.3405 - val_accuracy: 0.7909\n",
            "Epoch 12/20\n",
            "125/125 [==============================] - 101s 815ms/step - loss: 6.0594e-05 - accuracy: 1.0000 - val_loss: 1.3731 - val_accuracy: 0.7912\n",
            "Epoch 13/20\n",
            "125/125 [==============================] - 101s 814ms/step - loss: 4.9039e-05 - accuracy: 1.0000 - val_loss: 1.4078 - val_accuracy: 0.7918\n",
            "Epoch 14/20\n",
            "125/125 [==============================] - 101s 813ms/step - loss: 4.0767e-05 - accuracy: 1.0000 - val_loss: 1.4397 - val_accuracy: 0.7919\n",
            "Epoch 15/20\n",
            "125/125 [==============================] - 102s 816ms/step - loss: 3.4629e-05 - accuracy: 1.0000 - val_loss: 1.4674 - val_accuracy: 0.7920\n",
            "Epoch 16/20\n",
            "125/125 [==============================] - 102s 816ms/step - loss: 2.9766e-05 - accuracy: 1.0000 - val_loss: 1.4916 - val_accuracy: 0.7925\n",
            "Epoch 17/20\n",
            "125/125 [==============================] - 101s 813ms/step - loss: 2.5815e-05 - accuracy: 1.0000 - val_loss: 1.5153 - val_accuracy: 0.7925\n",
            "Epoch 18/20\n",
            "125/125 [==============================] - 108s 870ms/step - loss: 2.2629e-05 - accuracy: 1.0000 - val_loss: 1.5379 - val_accuracy: 0.7922\n",
            "Epoch 19/20\n",
            "125/125 [==============================] - 105s 846ms/step - loss: 2.0016e-05 - accuracy: 1.0000 - val_loss: 1.5589 - val_accuracy: 0.7928\n",
            "Epoch 20/20\n",
            "125/125 [==============================] - 111s 889ms/step - loss: 1.7761e-05 - accuracy: 1.0000 - val_loss: 1.5798 - val_accuracy: 0.7926\n"
          ]
        },
        {
          "data": {
            "text/plain": [
              "<keras.callbacks.History at 0x143c0d790>"
            ]
          },
          "execution_count": 147,
          "metadata": {},
          "output_type": "execute_result"
        }
      ],
      "source": [
        "model.compile(loss=\"binary_crossentropy\",optimizer=\"adam\", metrics=[\"accuracy\"])\n",
        "\n",
        "# early_stopping = EarlyStopping(monitor='val_loss', patience=3, mode='min', verbose=1)\n",
        "model.fit(X_train, y_train, validation_data=(X_test, y_test), epochs=20, callbacks=[history_Adam])"
      ]
    },
    {
      "cell_type": "code",
      "execution_count": null,
      "metadata": {
        "id": "dcpOnOvIUNAJ",
        "outputId": "743c31e3-e4f5-4852-f76f-2bf51c04a7a8"
      },
      "outputs": [
        {
          "name": "stdout",
          "output_type": "stream",
          "text": [
            "1125/1125 [==============================] - 63s 56ms/step - loss: 1.5798 - accuracy: 0.7926\n"
          ]
        },
        {
          "data": {
            "text/plain": [
              "[1.5797935724258423, 0.792638897895813]"
            ]
          },
          "execution_count": 150,
          "metadata": {},
          "output_type": "execute_result"
        }
      ],
      "source": [
        "model.evaluate(X_test,y_test)"
      ]
    },
    {
      "cell_type": "code",
      "execution_count": null,
      "metadata": {
        "id": "DP-O2vw_UNAK",
        "outputId": "45fc2dfc-5735-4cae-8f7d-3fece8a684a8"
      },
      "outputs": [
        {
          "data": {
            "image/png": "[encoded data removed]",
            "text/plain": [
              "<Figure size 432x288 with 1 Axes>"
            ]
          },
          "metadata": {
            "needs_background": "light"
          },
          "output_type": "display_data"
        }
      ],
      "source": [
        "import matplotlib.pyplot as plt\n",
        "\n",
        "plt.plot(history_Adam.history['loss'], label = \"train\")\n",
        "plt.plot(history_Adam.history['val_loss'], label = \"test \")\n",
        "\n",
        "\n",
        "\n",
        "plt.legend()\n",
        "plt.show()"
      ]
    },
    {
      "cell_type": "code",
      "execution_count": null,
      "metadata": {
        "id": "YOEz9rzMUNAK",
        "outputId": "cd798edf-2fa6-4788-b18a-fdb59de9104c"
      },
      "outputs": [
        {
          "data": {
            "image/png": "[encoded data removed]",
            "text/plain": [
              "<Figure size 432x288 with 1 Axes>"
            ]
          },
          "metadata": {
            "needs_background": "light"
          },
          "output_type": "display_data"
        }
      ],
      "source": [
        "plt.plot(history_Adam.history['accuracy'], label = \"train\")\n",
        "plt.plot(history_Adam.history['val_accuracy'], label = \"test \")\n",
        "\n",
        "plt.legend()\n",
        "plt.show()\n"
      ]
    },
    {
      "cell_type": "code",
      "execution_count": 1,
      "metadata": {
        "id": "dmWfu-ocUNAK"
      },
      "outputs": [],
      "source": [
        "# Approach 4 - TwoLayer - GRU\n",
        "# https://www.dialog-21.ru/media/3380/arkhipenkoetal.pdf"
      ]
    },
    {
      "cell_type": "code",
      "source": [
        "from keras.models import Sequential\n",
        "from keras.callbacks import History, EarlyStopping\n",
        "from keras.layers import Embedding, TextVectorization, Dense, LSTM, Input, Bidirectional, GRU\n",
        "\n",
        "vectorize_layer = TextVectorization(max_tokens=50000)\n",
        "vectorize_layer.adapt(X_train)\n",
        "\n",
        "history_Adam = History()\n",
        "\n",
        "model = Sequential()\n",
        "\n",
        "# Vectorization\n",
        "model.add(Input(shape=(1,), dtype=tf.string))\n",
        "model.add(vectorize_layer)\n",
        "\n",
        "# Embedding\n",
        "model.add(Embedding(input_dim=len(vectorize_layer.get_vocabulary()), output_dim=64))\n",
        "\n",
        "\n",
        "model.add(Bidirectional(GRU(128, return_sequences=True)))\n",
        "model.add(Bidirectional(GRU(64)))\n",
        "model.add(Dense(32, activation='relu'))\n",
        "model.add(Dense(1, activation='sigmoid'))\n",
        "\n",
        "model.summary()\n"
      ],
      "metadata": {
        "id": "P8OTiL3SU6x7",
        "outputId": "41a5013e-7e30-4d31-a055-94b1aab584fd",
        "colab": {
          "base_uri": "https://localhost:8080/"
        }
      },
      "execution_count": 19,
      "outputs": [
        {
          "output_type": "stream",
          "name": "stdout",
          "text": [
            "Model: \"sequential_12\"\n",
            "_________________________________________________________________\n",
            " Layer (type)                Output Shape              Param #   \n",
            "=================================================================\n",
            " text_vectorization_12 (Text  (None, None)             0         \n",
            " Vectorization)                                                  \n",
            "                                                                 \n",
            " embedding_12 (Embedding)    (None, None, 64)          3200000   \n",
            "                                                                 \n",
            " bidirectional_18 (Bidirecti  (None, None, 256)        148992    \n",
            " onal)                                                           \n",
            "                                                                 \n",
            " bidirectional_19 (Bidirecti  (None, 128)              123648    \n",
            " onal)                                                           \n",
            "                                                                 \n",
            " dense_4 (Dense)             (None, 32)                4128      \n",
            "                                                                 \n",
            " dense_5 (Dense)             (None, 1)                 33        \n",
            "                                                                 \n",
            "=================================================================\n",
            "Total params: 3,476,801\n",
            "Trainable params: 3,476,801\n",
            "Non-trainable params: 0\n",
            "_________________________________________________________________\n"
          ]
        }
      ]
    },
    {
      "cell_type": "code",
      "source": [
        "model.compile(loss=\"binary_crossentropy\",optimizer=\"adam\", metrics=[\"accuracy\"])\n",
        "\n",
        "early_stopping = EarlyStopping(monitor='val_loss', patience=3, mode='min', verbose=1)\n",
        "model.fit(X_train, y_train, validation_data=(X_test, y_test), epochs=30, callbacks=[early_stopping, history_Adam])"
      ],
      "metadata": {
        "id": "k3wKXOckWa4M",
        "outputId": "eed343e9-161f-4865-ed92-34c1e616d0b3",
        "colab": {
          "base_uri": "https://localhost:8080/"
        }
      },
      "execution_count": 20,
      "outputs": [
        {
          "output_type": "stream",
          "name": "stdout",
          "text": [
            "Epoch 1/30\n",
            "250/250 [==============================] - 78s 287ms/step - loss: 0.6120 - accuracy: 0.6430 - val_loss: 0.4436 - val_accuracy: 0.8056\n",
            "Epoch 2/30\n",
            "250/250 [==============================] - 68s 272ms/step - loss: 0.3167 - accuracy: 0.8736 - val_loss: 0.5175 - val_accuracy: 0.7881\n",
            "Epoch 3/30\n",
            "250/250 [==============================] - 68s 272ms/step - loss: 0.1610 - accuracy: 0.9444 - val_loss: 0.5124 - val_accuracy: 0.8043\n",
            "Epoch 4/30\n",
            "250/250 [==============================] - 68s 271ms/step - loss: 0.0571 - accuracy: 0.9821 - val_loss: 0.7332 - val_accuracy: 0.8062\n",
            "Epoch 4: early stopping\n"
          ]
        },
        {
          "output_type": "execute_result",
          "data": {
            "text/plain": [
              "<keras.callbacks.History at 0x7f21e9d12250>"
            ]
          },
          "metadata": {},
          "execution_count": 20
        }
      ]
    },
    {
      "cell_type": "code",
      "source": [
        "model.evaluate(X_test,y_test)"
      ],
      "metadata": {
        "id": "AQKHeRchWiVd",
        "outputId": "022c11e1-a63d-4cdc-8a3b-23a5339fc9eb",
        "colab": {
          "base_uri": "https://localhost:8080/"
        }
      },
      "execution_count": 21,
      "outputs": [
        {
          "output_type": "stream",
          "name": "stdout",
          "text": [
            "1000/1000 [==============================] - 45s 45ms/step - loss: 0.7332 - accuracy: 0.8062\n"
          ]
        },
        {
          "output_type": "execute_result",
          "data": {
            "text/plain": [
              "[0.7331868410110474, 0.8062187433242798]"
            ]
          },
          "metadata": {},
          "execution_count": 21
        }
      ]
    },
    {
      "cell_type": "code",
      "source": [
        "import matplotlib.pyplot as plt\n",
        "\n",
        "plt.plot(history_Adam.history['loss'], label = \"train\")\n",
        "plt.plot(history_Adam.history['val_loss'], label = \"test \")\n",
        "\n",
        "\n",
        "\n",
        "plt.legend()\n",
        "plt.show()"
      ],
      "metadata": {
        "id": "RW-BERbHWhjU",
        "outputId": "fdf73a9d-1c50-4635-a2c1-697f6198d096",
        "colab": {
          "base_uri": "https://localhost:8080/",
          "height": 265
        }
      },
      "execution_count": 22,
      "outputs": [
        {
          "output_type": "display_data",
          "data": {
            "text/plain": [
              "<Figure size 432x288 with 1 Axes>"
            ],
            "image/png": "[encoded data removed]"
          },
          "metadata": {
            "needs_background": "light"
          }
        }
      ]
    },
    {
      "cell_type": "code",
      "source": [
        "plt.plot(history_Adam.history['accuracy'], label = \"train\")\n",
        "plt.plot(history_Adam.history['val_accuracy'], label = \"test \")\n",
        "\n",
        "plt.legend()\n",
        "plt.show()\n"
      ],
      "metadata": {
        "id": "vUq5EyLOWlEB",
        "outputId": "c38d6e32-e023-453d-8260-a1bad0a87b29",
        "colab": {
          "base_uri": "https://localhost:8080/",
          "height": 265
        }
      },
      "execution_count": 23,
      "outputs": [
        {
          "output_type": "display_data",
          "data": {
            "text/plain": [
              "<Figure size 432x288 with 1 Axes>"
            ],
            "image/png": "[encoded data removed]"
          },
          "metadata": {
            "needs_background": "light"
          }
        }
      ]
    },
    {
      "cell_type": "code",
      "source": [
        "!ls"
      ],
      "metadata": {
        "id": "QGORF5dBcQZE",
        "outputId": "597ab687-98b4-43ec-8a5e-9e4b5e615baa",
        "colab": {
          "base_uri": "https://localhost:8080/"
        }
      },
      "execution_count": 25,
      "outputs": [
        {
          "output_type": "stream",
          "name": "stdout",
          "text": [
            "drive  sample_data\n"
          ]
        }
      ]
    },
    {
      "cell_type": "code",
      "source": [
        ""
      ],
      "metadata": {
        "id": "14lHNdLTgcAl"
      },
      "execution_count": null,
      "outputs": []
    }
  ],
  "metadata": {
    "interpreter": {
      "hash": "aee8b7b246df8f9039afb4144a1f6fd8d2ca17a180786b69acc140d282b71a49"
    },
    "kernelspec": {
      "display_name": "Python 3.9.10 64-bit",
      "language": "python",
      "name": "python3"
    },
    "language_info": {
      "codemirror_mode": {
        "name": "ipython",
        "version": 3
      },
      "file_extension": ".py",
      "mimetype": "text/x-python",
      "name": "python",
      "nbconvert_exporter": "python",
      "pygments_lexer": "ipython3",
      "version": "3.9.10"
    },
    "orig_nbformat": 4,
    "colab": {
      "name": "project.ipynb",
      "provenance": []
    },
    "accelerator": "GPU"
  },
  "nbformat": 4,
  "nbformat_minor": 0
}