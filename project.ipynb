{
  "cells": [
    {
      "cell_type": "markdown",
      "metadata": {
        "id": "tYi4md_XUM_6"
      },
      "source": [
        "## Dataset\n",
        "https://www.kaggle.com/datasets/yasserh/imdb-movie-ratings-sentiment-analysis\n",
        "\n",
        "## References\n",
        "https://aclanthology.org/C14-1008.pdf\n",
        "https://www.bioinf.jku.at/publications/older/2604.pdf\n",
        "\n"
      ]
    },
    {
      "cell_type": "code",
      "source": [
        "from google.colab import drive\n",
        "drive.mount('/content/drive')"
      ],
      "metadata": {
        "colab": {
          "base_uri": "https://localhost:8080/"
        },
        "id": "fx_UdcKlWK_Y",
        "outputId": "6026be23-387f-4883-c088-8c9387bd4cfb"
      },
      "execution_count": 3,
      "outputs": [
        {
          "output_type": "stream",
          "name": "stdout",
          "text": [
            "Mounted at /content/drive\n"
          ]
        }
      ]
    },
    {
      "cell_type": "code",
      "execution_count": 11,
      "metadata": {
        "colab": {
          "base_uri": "https://localhost:8080/"
        },
        "id": "Jy09BNy1UM_-",
        "outputId": "9e8661b2-829f-460f-fce4-b5dd3d2fbf94"
      },
      "outputs": [
        {
          "output_type": "stream",
          "name": "stdout",
          "text": [
            "2.8.0\n",
            "2.8.0\n"
          ]
        }
      ],
      "source": [
        "import tensorflow as tf\n",
        "from tensorflow import keras\n",
        "print(tf.__version__)\n",
        "print(keras.__version__)"
      ]
    },
    {
      "cell_type": "code",
      "execution_count": 12,
      "metadata": {
        "colab": {
          "base_uri": "https://localhost:8080/"
        },
        "id": "6SeOQL6WUM_8",
        "outputId": "874f491d-1a92-4a62-8054-463899ff85fc"
      },
      "outputs": [
        {
          "output_type": "execute_result",
          "data": {
            "text/plain": [
              "(0       I grew up (b. 1965) watching and loving the Th...\n",
              " 1       When I put this movie in my DVD player, and sa...\n",
              " 2       Why do people who do not know what a particula...\n",
              " 3       Even though I have great interest in Biblical ...\n",
              " 4       Im a die hard Dads Army fan and nothing will e...\n",
              "                               ...                        \n",
              " 7995    *May contain spoilers*<br /><br />I bent over ...\n",
              " 7996    Be very afraid of anyone who likes this film. ...\n",
              " 7997    Can they possibly get any worse than this? Pro...\n",
              " 7998    I give it a 2, because of the beautiful Medite...\n",
              " 7999    I'm not a fan of Adam Sandler. In fact, I don'...\n",
              " Name: text, Length: 8000, dtype: object, 0       0\n",
              " 1       0\n",
              " 2       0\n",
              " 3       0\n",
              " 4       1\n",
              "        ..\n",
              " 7995    0\n",
              " 7996    0\n",
              " 7997    0\n",
              " 7998    0\n",
              " 7999    1\n",
              " Name: label, Length: 8000, dtype: int64)"
            ]
          },
          "metadata": {},
          "execution_count": 12
        }
      ],
      "source": [
        "shuffle = False\n",
        "import pandas as pd\n",
        "from sklearn.model_selection import train_test_split\n",
        "\n",
        "\n",
        "dataset = pd.read_csv('/content/drive/MyDrive/datasets/movie.csv', sep=\",\")\n",
        "X = dataset[\"text\"]\n",
        "y = dataset[\"label\"]\n",
        "\n",
        "X_train, X_test, y_train, y_test = train_test_split(X, y, test_size=0.8, shuffle=shuffle)\n",
        "\n",
        "X_train, y_train"
      ]
    },
    {
      "cell_type": "markdown",
      "source": [
        "## Two Layer Bidirectional - GRU"
      ],
      "metadata": {
        "id": "aUixtvXTJUrJ"
      }
    },
    {
      "cell_type": "code",
      "source": [
        "from keras.models import Sequential\n",
        "from keras.callbacks import History, EarlyStopping\n",
        "from keras.layers import Embedding, TextVectorization, Dense, LSTM, Input, Bidirectional, GRU\n",
        "from sklearn.model_selection import GridSearchCV\n",
        "from keras.wrappers.scikit_learn import KerasClassifier\n",
        "\n",
        "vectorize_layer = TextVectorization(\n",
        "  max_tokens=50000,\n",
        "  standardize=\"lower_and_strip_punctuation\",\n",
        "  ngrams = 2\n",
        ")\n",
        "vectorize_layer.adapt(X_train)\n",
        "\n",
        "def create_model():\n",
        "  model = Sequential()\n",
        "\n",
        "  # Vectorization\n",
        "  model.add(Input(shape=(1,), dtype=tf.string))\n",
        "  model.add(vectorize_layer)\n",
        "\n",
        "  # Embedding\n",
        "  model.add(Embedding(input_dim=len(vectorize_layer.get_vocabulary()), output_dim=64))\n",
        "\n",
        "  model.add(Bidirectional(GRU(128, return_sequences=True)))\n",
        "  model.add(Bidirectional(GRU(64)))\n",
        "  model.add(Dense(32, activation='relu'))\n",
        "  model.add(Dense(1, activation='sigmoid'))\n",
        "  model.compile(loss=\"binary_crossentropy\",optimizer=\"adam\", metrics=[\"accuracy\"])\n",
        "  return model\n",
        "  \n",
        "\n",
        "model = KerasClassifier(build_fn=create_model, verbose=0)\n",
        "\n",
        "batch_size = [10, 40, 80]\n",
        "epochs = [20, 30, 50]\n",
        "param_grid = {\"batch_size\": batch_size, \"epochs\": epochs}\n",
        "# TODO add stratified\n",
        "early = EarlyStopping(monitor='val_loss', patience=3, mode='min', verbose=0)\n",
        "grid = GridSearchCV(estimator=model, param_grid=param_grid, cv=3, verbose=10)\n",
        "result = grid.fit(X_train, y_train, validation_split=0.1, callbacks=[early])\n"
      ],
      "metadata": {
        "colab": {
          "base_uri": "https://localhost:8080/",
          "height": 475
        },
        "id": "NIFzwEdkJTRB",
        "outputId": "ee89bfc3-9a94-47a3-ed27-45dadc17e6d2"
      },
      "execution_count": 14,
      "outputs": [
        {
          "output_type": "stream",
          "name": "stderr",
          "text": [
            "/usr/local/lib/python3.7/dist-packages/ipykernel_launcher.py:32: DeprecationWarning: KerasClassifier is deprecated, use Sci-Keras (https://github.com/adriangb/scikeras) instead. See https://www.adriangb.com/scikeras/stable/migration.html for help migrating.\n"
          ]
        },
        {
          "output_type": "stream",
          "name": "stdout",
          "text": [
            "Fitting 3 folds for each of 9 candidates, totalling 27 fits\n",
            "[CV 1/3; 1/9] START batch_size=10, epochs=20....................................\n",
            "[CV 1/3; 1/9] END .....batch_size=10, epochs=20;, score=0.656 total time= 5.7min\n",
            "[CV 2/3; 1/9] START batch_size=10, epochs=20....................................\n"
          ]
        },
        {
          "output_type": "error",
          "ename": "KeyboardInterrupt",
          "evalue": "ignored",
          "traceback": [
            "\u001b[0;31m---------------------------------------------------------------------------\u001b[0m",
            "\u001b[0;31mKeyboardInterrupt\u001b[0m                         Traceback (most recent call last)",
            "\u001b[0;32m<ipython-input-14-7b9583d75db3>\u001b[0m in \u001b[0;36m<module>\u001b[0;34m()\u001b[0m\n\u001b[1;32m     38\u001b[0m \u001b[0mearly\u001b[0m \u001b[0;34m=\u001b[0m \u001b[0mEarlyStopping\u001b[0m\u001b[0;34m(\u001b[0m\u001b[0mmonitor\u001b[0m\u001b[0;34m=\u001b[0m\u001b[0;34m'val_loss'\u001b[0m\u001b[0;34m,\u001b[0m \u001b[0mpatience\u001b[0m\u001b[0;34m=\u001b[0m\u001b[0;36m3\u001b[0m\u001b[0;34m,\u001b[0m \u001b[0mmode\u001b[0m\u001b[0;34m=\u001b[0m\u001b[0;34m'min'\u001b[0m\u001b[0;34m,\u001b[0m \u001b[0mverbose\u001b[0m\u001b[0;34m=\u001b[0m\u001b[0;36m0\u001b[0m\u001b[0;34m)\u001b[0m\u001b[0;34m\u001b[0m\u001b[0;34m\u001b[0m\u001b[0m\n\u001b[1;32m     39\u001b[0m \u001b[0mgrid\u001b[0m \u001b[0;34m=\u001b[0m \u001b[0mGridSearchCV\u001b[0m\u001b[0;34m(\u001b[0m\u001b[0mestimator\u001b[0m\u001b[0;34m=\u001b[0m\u001b[0mmodel\u001b[0m\u001b[0;34m,\u001b[0m \u001b[0mparam_grid\u001b[0m\u001b[0;34m=\u001b[0m\u001b[0mparam_grid\u001b[0m\u001b[0;34m,\u001b[0m \u001b[0mcv\u001b[0m\u001b[0;34m=\u001b[0m\u001b[0;36m3\u001b[0m\u001b[0;34m,\u001b[0m \u001b[0mverbose\u001b[0m\u001b[0;34m=\u001b[0m\u001b[0;36m10\u001b[0m\u001b[0;34m)\u001b[0m\u001b[0;34m\u001b[0m\u001b[0;34m\u001b[0m\u001b[0m\n\u001b[0;32m---> 40\u001b[0;31m \u001b[0mresult\u001b[0m \u001b[0;34m=\u001b[0m \u001b[0mgrid\u001b[0m\u001b[0;34m.\u001b[0m\u001b[0mfit\u001b[0m\u001b[0;34m(\u001b[0m\u001b[0mX_train\u001b[0m\u001b[0;34m,\u001b[0m \u001b[0my_train\u001b[0m\u001b[0;34m,\u001b[0m \u001b[0mvalidation_split\u001b[0m\u001b[0;34m=\u001b[0m\u001b[0;36m0.1\u001b[0m\u001b[0;34m,\u001b[0m \u001b[0mcallbacks\u001b[0m\u001b[0;34m=\u001b[0m\u001b[0;34m[\u001b[0m\u001b[0mearly\u001b[0m\u001b[0;34m]\u001b[0m\u001b[0;34m)\u001b[0m\u001b[0;34m\u001b[0m\u001b[0;34m\u001b[0m\u001b[0m\n\u001b[0m",
            "\u001b[0;32m/usr/local/lib/python3.7/dist-packages/sklearn/model_selection/_search.py\u001b[0m in \u001b[0;36mfit\u001b[0;34m(self, X, y, groups, **fit_params)\u001b[0m\n\u001b[1;32m    889\u001b[0m                 \u001b[0;32mreturn\u001b[0m \u001b[0mresults\u001b[0m\u001b[0;34m\u001b[0m\u001b[0;34m\u001b[0m\u001b[0m\n\u001b[1;32m    890\u001b[0m \u001b[0;34m\u001b[0m\u001b[0m\n\u001b[0;32m--> 891\u001b[0;31m             \u001b[0mself\u001b[0m\u001b[0;34m.\u001b[0m\u001b[0m_run_search\u001b[0m\u001b[0;34m(\u001b[0m\u001b[0mevaluate_candidates\u001b[0m\u001b[0;34m)\u001b[0m\u001b[0;34m\u001b[0m\u001b[0;34m\u001b[0m\u001b[0m\n\u001b[0m\u001b[1;32m    892\u001b[0m \u001b[0;34m\u001b[0m\u001b[0m\n\u001b[1;32m    893\u001b[0m             \u001b[0;31m# multimetric is determined here because in the case of a callable\u001b[0m\u001b[0;34m\u001b[0m\u001b[0;34m\u001b[0m\u001b[0;34m\u001b[0m\u001b[0m\n",
            "\u001b[0;32m/usr/local/lib/python3.7/dist-packages/sklearn/model_selection/_search.py\u001b[0m in \u001b[0;36m_run_search\u001b[0;34m(self, evaluate_candidates)\u001b[0m\n\u001b[1;32m   1390\u001b[0m     \u001b[0;32mdef\u001b[0m \u001b[0m_run_search\u001b[0m\u001b[0;34m(\u001b[0m\u001b[0mself\u001b[0m\u001b[0;34m,\u001b[0m \u001b[0mevaluate_candidates\u001b[0m\u001b[0;34m)\u001b[0m\u001b[0;34m:\u001b[0m\u001b[0;34m\u001b[0m\u001b[0;34m\u001b[0m\u001b[0m\n\u001b[1;32m   1391\u001b[0m         \u001b[0;34m\"\"\"Search all candidates in param_grid\"\"\"\u001b[0m\u001b[0;34m\u001b[0m\u001b[0;34m\u001b[0m\u001b[0m\n\u001b[0;32m-> 1392\u001b[0;31m         \u001b[0mevaluate_candidates\u001b[0m\u001b[0;34m(\u001b[0m\u001b[0mParameterGrid\u001b[0m\u001b[0;34m(\u001b[0m\u001b[0mself\u001b[0m\u001b[0;34m.\u001b[0m\u001b[0mparam_grid\u001b[0m\u001b[0;34m)\u001b[0m\u001b[0;34m)\u001b[0m\u001b[0;34m\u001b[0m\u001b[0;34m\u001b[0m\u001b[0m\n\u001b[0m\u001b[1;32m   1393\u001b[0m \u001b[0;34m\u001b[0m\u001b[0m\n\u001b[1;32m   1394\u001b[0m \u001b[0;34m\u001b[0m\u001b[0m\n",
            "\u001b[0;32m/usr/local/lib/python3.7/dist-packages/sklearn/model_selection/_search.py\u001b[0m in \u001b[0;36mevaluate_candidates\u001b[0;34m(candidate_params, cv, more_results)\u001b[0m\n\u001b[1;32m    849\u001b[0m                     )\n\u001b[1;32m    850\u001b[0m                     for (cand_idx, parameters), (split_idx, (train, test)) in product(\n\u001b[0;32m--> 851\u001b[0;31m                         \u001b[0menumerate\u001b[0m\u001b[0;34m(\u001b[0m\u001b[0mcandidate_params\u001b[0m\u001b[0;34m)\u001b[0m\u001b[0;34m,\u001b[0m \u001b[0menumerate\u001b[0m\u001b[0;34m(\u001b[0m\u001b[0mcv\u001b[0m\u001b[0;34m.\u001b[0m\u001b[0msplit\u001b[0m\u001b[0;34m(\u001b[0m\u001b[0mX\u001b[0m\u001b[0;34m,\u001b[0m \u001b[0my\u001b[0m\u001b[0;34m,\u001b[0m \u001b[0mgroups\u001b[0m\u001b[0;34m)\u001b[0m\u001b[0;34m)\u001b[0m\u001b[0;34m\u001b[0m\u001b[0;34m\u001b[0m\u001b[0m\n\u001b[0m\u001b[1;32m    852\u001b[0m                     )\n\u001b[1;32m    853\u001b[0m                 )\n",
            "\u001b[0;32m/usr/local/lib/python3.7/dist-packages/joblib/parallel.py\u001b[0m in \u001b[0;36m__call__\u001b[0;34m(self, iterable)\u001b[0m\n\u001b[1;32m   1044\u001b[0m                 \u001b[0mself\u001b[0m\u001b[0;34m.\u001b[0m\u001b[0m_iterating\u001b[0m \u001b[0;34m=\u001b[0m \u001b[0mself\u001b[0m\u001b[0;34m.\u001b[0m\u001b[0m_original_iterator\u001b[0m \u001b[0;32mis\u001b[0m \u001b[0;32mnot\u001b[0m \u001b[0;32mNone\u001b[0m\u001b[0;34m\u001b[0m\u001b[0;34m\u001b[0m\u001b[0m\n\u001b[1;32m   1045\u001b[0m \u001b[0;34m\u001b[0m\u001b[0m\n\u001b[0;32m-> 1046\u001b[0;31m             \u001b[0;32mwhile\u001b[0m \u001b[0mself\u001b[0m\u001b[0;34m.\u001b[0m\u001b[0mdispatch_one_batch\u001b[0m\u001b[0;34m(\u001b[0m\u001b[0miterator\u001b[0m\u001b[0;34m)\u001b[0m\u001b[0;34m:\u001b[0m\u001b[0;34m\u001b[0m\u001b[0;34m\u001b[0m\u001b[0m\n\u001b[0m\u001b[1;32m   1047\u001b[0m                 \u001b[0;32mpass\u001b[0m\u001b[0;34m\u001b[0m\u001b[0;34m\u001b[0m\u001b[0m\n\u001b[1;32m   1048\u001b[0m \u001b[0;34m\u001b[0m\u001b[0m\n",
            "\u001b[0;32m/usr/local/lib/python3.7/dist-packages/joblib/parallel.py\u001b[0m in \u001b[0;36mdispatch_one_batch\u001b[0;34m(self, iterator)\u001b[0m\n\u001b[1;32m    859\u001b[0m                 \u001b[0;32mreturn\u001b[0m \u001b[0;32mFalse\u001b[0m\u001b[0;34m\u001b[0m\u001b[0;34m\u001b[0m\u001b[0m\n\u001b[1;32m    860\u001b[0m             \u001b[0;32melse\u001b[0m\u001b[0;34m:\u001b[0m\u001b[0;34m\u001b[0m\u001b[0;34m\u001b[0m\u001b[0m\n\u001b[0;32m--> 861\u001b[0;31m                 \u001b[0mself\u001b[0m\u001b[0;34m.\u001b[0m\u001b[0m_dispatch\u001b[0m\u001b[0;34m(\u001b[0m\u001b[0mtasks\u001b[0m\u001b[0;34m)\u001b[0m\u001b[0;34m\u001b[0m\u001b[0;34m\u001b[0m\u001b[0m\n\u001b[0m\u001b[1;32m    862\u001b[0m                 \u001b[0;32mreturn\u001b[0m \u001b[0;32mTrue\u001b[0m\u001b[0;34m\u001b[0m\u001b[0;34m\u001b[0m\u001b[0m\n\u001b[1;32m    863\u001b[0m \u001b[0;34m\u001b[0m\u001b[0m\n",
            "\u001b[0;32m/usr/local/lib/python3.7/dist-packages/joblib/parallel.py\u001b[0m in \u001b[0;36m_dispatch\u001b[0;34m(self, batch)\u001b[0m\n\u001b[1;32m    777\u001b[0m         \u001b[0;32mwith\u001b[0m \u001b[0mself\u001b[0m\u001b[0;34m.\u001b[0m\u001b[0m_lock\u001b[0m\u001b[0;34m:\u001b[0m\u001b[0;34m\u001b[0m\u001b[0;34m\u001b[0m\u001b[0m\n\u001b[1;32m    778\u001b[0m             \u001b[0mjob_idx\u001b[0m \u001b[0;34m=\u001b[0m \u001b[0mlen\u001b[0m\u001b[0;34m(\u001b[0m\u001b[0mself\u001b[0m\u001b[0;34m.\u001b[0m\u001b[0m_jobs\u001b[0m\u001b[0;34m)\u001b[0m\u001b[0;34m\u001b[0m\u001b[0;34m\u001b[0m\u001b[0m\n\u001b[0;32m--> 779\u001b[0;31m             \u001b[0mjob\u001b[0m \u001b[0;34m=\u001b[0m \u001b[0mself\u001b[0m\u001b[0;34m.\u001b[0m\u001b[0m_backend\u001b[0m\u001b[0;34m.\u001b[0m\u001b[0mapply_async\u001b[0m\u001b[0;34m(\u001b[0m\u001b[0mbatch\u001b[0m\u001b[0;34m,\u001b[0m \u001b[0mcallback\u001b[0m\u001b[0;34m=\u001b[0m\u001b[0mcb\u001b[0m\u001b[0;34m)\u001b[0m\u001b[0;34m\u001b[0m\u001b[0;34m\u001b[0m\u001b[0m\n\u001b[0m\u001b[1;32m    780\u001b[0m             \u001b[0;31m# A job can complete so quickly than its callback is\u001b[0m\u001b[0;34m\u001b[0m\u001b[0;34m\u001b[0m\u001b[0;34m\u001b[0m\u001b[0m\n\u001b[1;32m    781\u001b[0m             \u001b[0;31m# called before we get here, causing self._jobs to\u001b[0m\u001b[0;34m\u001b[0m\u001b[0;34m\u001b[0m\u001b[0;34m\u001b[0m\u001b[0m\n",
            "\u001b[0;32m/usr/local/lib/python3.7/dist-packages/joblib/_parallel_backends.py\u001b[0m in \u001b[0;36mapply_async\u001b[0;34m(self, func, callback)\u001b[0m\n\u001b[1;32m    206\u001b[0m     \u001b[0;32mdef\u001b[0m \u001b[0mapply_async\u001b[0m\u001b[0;34m(\u001b[0m\u001b[0mself\u001b[0m\u001b[0;34m,\u001b[0m \u001b[0mfunc\u001b[0m\u001b[0;34m,\u001b[0m \u001b[0mcallback\u001b[0m\u001b[0;34m=\u001b[0m\u001b[0;32mNone\u001b[0m\u001b[0;34m)\u001b[0m\u001b[0;34m:\u001b[0m\u001b[0;34m\u001b[0m\u001b[0;34m\u001b[0m\u001b[0m\n\u001b[1;32m    207\u001b[0m         \u001b[0;34m\"\"\"Schedule a func to be run\"\"\"\u001b[0m\u001b[0;34m\u001b[0m\u001b[0;34m\u001b[0m\u001b[0m\n\u001b[0;32m--> 208\u001b[0;31m         \u001b[0mresult\u001b[0m \u001b[0;34m=\u001b[0m \u001b[0mImmediateResult\u001b[0m\u001b[0;34m(\u001b[0m\u001b[0mfunc\u001b[0m\u001b[0;34m)\u001b[0m\u001b[0;34m\u001b[0m\u001b[0;34m\u001b[0m\u001b[0m\n\u001b[0m\u001b[1;32m    209\u001b[0m         \u001b[0;32mif\u001b[0m \u001b[0mcallback\u001b[0m\u001b[0;34m:\u001b[0m\u001b[0;34m\u001b[0m\u001b[0;34m\u001b[0m\u001b[0m\n\u001b[1;32m    210\u001b[0m             \u001b[0mcallback\u001b[0m\u001b[0;34m(\u001b[0m\u001b[0mresult\u001b[0m\u001b[0;34m)\u001b[0m\u001b[0;34m\u001b[0m\u001b[0;34m\u001b[0m\u001b[0m\n",
            "\u001b[0;32m/usr/local/lib/python3.7/dist-packages/joblib/_parallel_backends.py\u001b[0m in \u001b[0;36m__init__\u001b[0;34m(self, batch)\u001b[0m\n\u001b[1;32m    570\u001b[0m         \u001b[0;31m# Don't delay the application, to avoid keeping the input\u001b[0m\u001b[0;34m\u001b[0m\u001b[0;34m\u001b[0m\u001b[0;34m\u001b[0m\u001b[0m\n\u001b[1;32m    571\u001b[0m         \u001b[0;31m# arguments in memory\u001b[0m\u001b[0;34m\u001b[0m\u001b[0;34m\u001b[0m\u001b[0;34m\u001b[0m\u001b[0m\n\u001b[0;32m--> 572\u001b[0;31m         \u001b[0mself\u001b[0m\u001b[0;34m.\u001b[0m\u001b[0mresults\u001b[0m \u001b[0;34m=\u001b[0m \u001b[0mbatch\u001b[0m\u001b[0;34m(\u001b[0m\u001b[0;34m)\u001b[0m\u001b[0;34m\u001b[0m\u001b[0;34m\u001b[0m\u001b[0m\n\u001b[0m\u001b[1;32m    573\u001b[0m \u001b[0;34m\u001b[0m\u001b[0m\n\u001b[1;32m    574\u001b[0m     \u001b[0;32mdef\u001b[0m \u001b[0mget\u001b[0m\u001b[0;34m(\u001b[0m\u001b[0mself\u001b[0m\u001b[0;34m)\u001b[0m\u001b[0;34m:\u001b[0m\u001b[0;34m\u001b[0m\u001b[0;34m\u001b[0m\u001b[0m\n",
            "\u001b[0;32m/usr/local/lib/python3.7/dist-packages/joblib/parallel.py\u001b[0m in \u001b[0;36m__call__\u001b[0;34m(self)\u001b[0m\n\u001b[1;32m    261\u001b[0m         \u001b[0;32mwith\u001b[0m \u001b[0mparallel_backend\u001b[0m\u001b[0;34m(\u001b[0m\u001b[0mself\u001b[0m\u001b[0;34m.\u001b[0m\u001b[0m_backend\u001b[0m\u001b[0;34m,\u001b[0m \u001b[0mn_jobs\u001b[0m\u001b[0;34m=\u001b[0m\u001b[0mself\u001b[0m\u001b[0;34m.\u001b[0m\u001b[0m_n_jobs\u001b[0m\u001b[0;34m)\u001b[0m\u001b[0;34m:\u001b[0m\u001b[0;34m\u001b[0m\u001b[0;34m\u001b[0m\u001b[0m\n\u001b[1;32m    262\u001b[0m             return [func(*args, **kwargs)\n\u001b[0;32m--> 263\u001b[0;31m                     for func, args, kwargs in self.items]\n\u001b[0m\u001b[1;32m    264\u001b[0m \u001b[0;34m\u001b[0m\u001b[0m\n\u001b[1;32m    265\u001b[0m     \u001b[0;32mdef\u001b[0m \u001b[0m__reduce__\u001b[0m\u001b[0;34m(\u001b[0m\u001b[0mself\u001b[0m\u001b[0;34m)\u001b[0m\u001b[0;34m:\u001b[0m\u001b[0;34m\u001b[0m\u001b[0;34m\u001b[0m\u001b[0m\n",
            "\u001b[0;32m/usr/local/lib/python3.7/dist-packages/joblib/parallel.py\u001b[0m in \u001b[0;36m<listcomp>\u001b[0;34m(.0)\u001b[0m\n\u001b[1;32m    261\u001b[0m         \u001b[0;32mwith\u001b[0m \u001b[0mparallel_backend\u001b[0m\u001b[0;34m(\u001b[0m\u001b[0mself\u001b[0m\u001b[0;34m.\u001b[0m\u001b[0m_backend\u001b[0m\u001b[0;34m,\u001b[0m \u001b[0mn_jobs\u001b[0m\u001b[0;34m=\u001b[0m\u001b[0mself\u001b[0m\u001b[0;34m.\u001b[0m\u001b[0m_n_jobs\u001b[0m\u001b[0;34m)\u001b[0m\u001b[0;34m:\u001b[0m\u001b[0;34m\u001b[0m\u001b[0;34m\u001b[0m\u001b[0m\n\u001b[1;32m    262\u001b[0m             return [func(*args, **kwargs)\n\u001b[0;32m--> 263\u001b[0;31m                     for func, args, kwargs in self.items]\n\u001b[0m\u001b[1;32m    264\u001b[0m \u001b[0;34m\u001b[0m\u001b[0m\n\u001b[1;32m    265\u001b[0m     \u001b[0;32mdef\u001b[0m \u001b[0m__reduce__\u001b[0m\u001b[0;34m(\u001b[0m\u001b[0mself\u001b[0m\u001b[0;34m)\u001b[0m\u001b[0;34m:\u001b[0m\u001b[0;34m\u001b[0m\u001b[0;34m\u001b[0m\u001b[0m\n",
            "\u001b[0;32m/usr/local/lib/python3.7/dist-packages/sklearn/utils/fixes.py\u001b[0m in \u001b[0;36m__call__\u001b[0;34m(self, *args, **kwargs)\u001b[0m\n\u001b[1;32m    214\u001b[0m     \u001b[0;32mdef\u001b[0m \u001b[0m__call__\u001b[0m\u001b[0;34m(\u001b[0m\u001b[0mself\u001b[0m\u001b[0;34m,\u001b[0m \u001b[0;34m*\u001b[0m\u001b[0margs\u001b[0m\u001b[0;34m,\u001b[0m \u001b[0;34m**\u001b[0m\u001b[0mkwargs\u001b[0m\u001b[0;34m)\u001b[0m\u001b[0;34m:\u001b[0m\u001b[0;34m\u001b[0m\u001b[0;34m\u001b[0m\u001b[0m\n\u001b[1;32m    215\u001b[0m         \u001b[0;32mwith\u001b[0m \u001b[0mconfig_context\u001b[0m\u001b[0;34m(\u001b[0m\u001b[0;34m**\u001b[0m\u001b[0mself\u001b[0m\u001b[0;34m.\u001b[0m\u001b[0mconfig\u001b[0m\u001b[0;34m)\u001b[0m\u001b[0;34m:\u001b[0m\u001b[0;34m\u001b[0m\u001b[0;34m\u001b[0m\u001b[0m\n\u001b[0;32m--> 216\u001b[0;31m             \u001b[0;32mreturn\u001b[0m \u001b[0mself\u001b[0m\u001b[0;34m.\u001b[0m\u001b[0mfunction\u001b[0m\u001b[0;34m(\u001b[0m\u001b[0;34m*\u001b[0m\u001b[0margs\u001b[0m\u001b[0;34m,\u001b[0m \u001b[0;34m**\u001b[0m\u001b[0mkwargs\u001b[0m\u001b[0;34m)\u001b[0m\u001b[0;34m\u001b[0m\u001b[0;34m\u001b[0m\u001b[0m\n\u001b[0m\u001b[1;32m    217\u001b[0m \u001b[0;34m\u001b[0m\u001b[0m\n\u001b[1;32m    218\u001b[0m \u001b[0;34m\u001b[0m\u001b[0m\n",
            "\u001b[0;32m/usr/local/lib/python3.7/dist-packages/sklearn/model_selection/_validation.py\u001b[0m in \u001b[0;36m_fit_and_score\u001b[0;34m(estimator, X, y, scorer, train, test, verbose, parameters, fit_params, return_train_score, return_parameters, return_n_test_samples, return_times, return_estimator, split_progress, candidate_progress, error_score)\u001b[0m\n\u001b[1;32m    678\u001b[0m             \u001b[0mestimator\u001b[0m\u001b[0;34m.\u001b[0m\u001b[0mfit\u001b[0m\u001b[0;34m(\u001b[0m\u001b[0mX_train\u001b[0m\u001b[0;34m,\u001b[0m \u001b[0;34m**\u001b[0m\u001b[0mfit_params\u001b[0m\u001b[0;34m)\u001b[0m\u001b[0;34m\u001b[0m\u001b[0;34m\u001b[0m\u001b[0m\n\u001b[1;32m    679\u001b[0m         \u001b[0;32melse\u001b[0m\u001b[0;34m:\u001b[0m\u001b[0;34m\u001b[0m\u001b[0;34m\u001b[0m\u001b[0m\n\u001b[0;32m--> 680\u001b[0;31m             \u001b[0mestimator\u001b[0m\u001b[0;34m.\u001b[0m\u001b[0mfit\u001b[0m\u001b[0;34m(\u001b[0m\u001b[0mX_train\u001b[0m\u001b[0;34m,\u001b[0m \u001b[0my_train\u001b[0m\u001b[0;34m,\u001b[0m \u001b[0;34m**\u001b[0m\u001b[0mfit_params\u001b[0m\u001b[0;34m)\u001b[0m\u001b[0;34m\u001b[0m\u001b[0;34m\u001b[0m\u001b[0m\n\u001b[0m\u001b[1;32m    681\u001b[0m \u001b[0;34m\u001b[0m\u001b[0m\n\u001b[1;32m    682\u001b[0m     \u001b[0;32mexcept\u001b[0m \u001b[0mException\u001b[0m\u001b[0;34m:\u001b[0m\u001b[0;34m\u001b[0m\u001b[0;34m\u001b[0m\u001b[0m\n",
            "\u001b[0;32m/usr/local/lib/python3.7/dist-packages/keras/wrappers/scikit_learn.py\u001b[0m in \u001b[0;36mfit\u001b[0;34m(self, x, y, **kwargs)\u001b[0m\n\u001b[1;32m    234\u001b[0m       \u001b[0;32mraise\u001b[0m \u001b[0mValueError\u001b[0m\u001b[0;34m(\u001b[0m\u001b[0;34m'Invalid shape for y: '\u001b[0m \u001b[0;34m+\u001b[0m \u001b[0mstr\u001b[0m\u001b[0;34m(\u001b[0m\u001b[0my\u001b[0m\u001b[0;34m.\u001b[0m\u001b[0mshape\u001b[0m\u001b[0;34m)\u001b[0m\u001b[0;34m)\u001b[0m\u001b[0;34m\u001b[0m\u001b[0;34m\u001b[0m\u001b[0m\n\u001b[1;32m    235\u001b[0m     \u001b[0mself\u001b[0m\u001b[0;34m.\u001b[0m\u001b[0mn_classes_\u001b[0m \u001b[0;34m=\u001b[0m \u001b[0mlen\u001b[0m\u001b[0;34m(\u001b[0m\u001b[0mself\u001b[0m\u001b[0;34m.\u001b[0m\u001b[0mclasses_\u001b[0m\u001b[0;34m)\u001b[0m\u001b[0;34m\u001b[0m\u001b[0;34m\u001b[0m\u001b[0m\n\u001b[0;32m--> 236\u001b[0;31m     \u001b[0;32mreturn\u001b[0m \u001b[0msuper\u001b[0m\u001b[0;34m(\u001b[0m\u001b[0mKerasClassifier\u001b[0m\u001b[0;34m,\u001b[0m \u001b[0mself\u001b[0m\u001b[0;34m)\u001b[0m\u001b[0;34m.\u001b[0m\u001b[0mfit\u001b[0m\u001b[0;34m(\u001b[0m\u001b[0mx\u001b[0m\u001b[0;34m,\u001b[0m \u001b[0my\u001b[0m\u001b[0;34m,\u001b[0m \u001b[0;34m**\u001b[0m\u001b[0mkwargs\u001b[0m\u001b[0;34m)\u001b[0m\u001b[0;34m\u001b[0m\u001b[0;34m\u001b[0m\u001b[0m\n\u001b[0m\u001b[1;32m    237\u001b[0m \u001b[0;34m\u001b[0m\u001b[0m\n\u001b[1;32m    238\u001b[0m   \u001b[0;32mdef\u001b[0m \u001b[0mpredict\u001b[0m\u001b[0;34m(\u001b[0m\u001b[0mself\u001b[0m\u001b[0;34m,\u001b[0m \u001b[0mx\u001b[0m\u001b[0;34m,\u001b[0m \u001b[0;34m**\u001b[0m\u001b[0mkwargs\u001b[0m\u001b[0;34m)\u001b[0m\u001b[0;34m:\u001b[0m\u001b[0;34m\u001b[0m\u001b[0;34m\u001b[0m\u001b[0m\n",
            "\u001b[0;32m/usr/local/lib/python3.7/dist-packages/keras/wrappers/scikit_learn.py\u001b[0m in \u001b[0;36mfit\u001b[0;34m(self, x, y, **kwargs)\u001b[0m\n\u001b[1;32m    162\u001b[0m     \u001b[0mfit_args\u001b[0m\u001b[0;34m.\u001b[0m\u001b[0mupdate\u001b[0m\u001b[0;34m(\u001b[0m\u001b[0mkwargs\u001b[0m\u001b[0;34m)\u001b[0m\u001b[0;34m\u001b[0m\u001b[0;34m\u001b[0m\u001b[0m\n\u001b[1;32m    163\u001b[0m \u001b[0;34m\u001b[0m\u001b[0m\n\u001b[0;32m--> 164\u001b[0;31m     \u001b[0mhistory\u001b[0m \u001b[0;34m=\u001b[0m \u001b[0mself\u001b[0m\u001b[0;34m.\u001b[0m\u001b[0mmodel\u001b[0m\u001b[0;34m.\u001b[0m\u001b[0mfit\u001b[0m\u001b[0;34m(\u001b[0m\u001b[0mx\u001b[0m\u001b[0;34m,\u001b[0m \u001b[0my\u001b[0m\u001b[0;34m,\u001b[0m \u001b[0;34m**\u001b[0m\u001b[0mfit_args\u001b[0m\u001b[0;34m)\u001b[0m\u001b[0;34m\u001b[0m\u001b[0;34m\u001b[0m\u001b[0m\n\u001b[0m\u001b[1;32m    165\u001b[0m \u001b[0;34m\u001b[0m\u001b[0m\n\u001b[1;32m    166\u001b[0m     \u001b[0;32mreturn\u001b[0m \u001b[0mhistory\u001b[0m\u001b[0;34m\u001b[0m\u001b[0;34m\u001b[0m\u001b[0m\n",
            "\u001b[0;32m/usr/local/lib/python3.7/dist-packages/keras/utils/traceback_utils.py\u001b[0m in \u001b[0;36merror_handler\u001b[0;34m(*args, **kwargs)\u001b[0m\n\u001b[1;32m     62\u001b[0m     \u001b[0mfiltered_tb\u001b[0m \u001b[0;34m=\u001b[0m \u001b[0;32mNone\u001b[0m\u001b[0;34m\u001b[0m\u001b[0;34m\u001b[0m\u001b[0m\n\u001b[1;32m     63\u001b[0m     \u001b[0;32mtry\u001b[0m\u001b[0;34m:\u001b[0m\u001b[0;34m\u001b[0m\u001b[0;34m\u001b[0m\u001b[0m\n\u001b[0;32m---> 64\u001b[0;31m       \u001b[0;32mreturn\u001b[0m \u001b[0mfn\u001b[0m\u001b[0;34m(\u001b[0m\u001b[0;34m*\u001b[0m\u001b[0margs\u001b[0m\u001b[0;34m,\u001b[0m \u001b[0;34m**\u001b[0m\u001b[0mkwargs\u001b[0m\u001b[0;34m)\u001b[0m\u001b[0;34m\u001b[0m\u001b[0;34m\u001b[0m\u001b[0m\n\u001b[0m\u001b[1;32m     65\u001b[0m     \u001b[0;32mexcept\u001b[0m \u001b[0mException\u001b[0m \u001b[0;32mas\u001b[0m \u001b[0me\u001b[0m\u001b[0;34m:\u001b[0m  \u001b[0;31m# pylint: disable=broad-except\u001b[0m\u001b[0;34m\u001b[0m\u001b[0;34m\u001b[0m\u001b[0m\n\u001b[1;32m     66\u001b[0m       \u001b[0mfiltered_tb\u001b[0m \u001b[0;34m=\u001b[0m \u001b[0m_process_traceback_frames\u001b[0m\u001b[0;34m(\u001b[0m\u001b[0me\u001b[0m\u001b[0;34m.\u001b[0m\u001b[0m__traceback__\u001b[0m\u001b[0;34m)\u001b[0m\u001b[0;34m\u001b[0m\u001b[0;34m\u001b[0m\u001b[0m\n",
            "\u001b[0;32m/usr/local/lib/python3.7/dist-packages/keras/engine/training.py\u001b[0m in \u001b[0;36mfit\u001b[0;34m(self, x, y, batch_size, epochs, verbose, callbacks, validation_split, validation_data, shuffle, class_weight, sample_weight, initial_epoch, steps_per_epoch, validation_steps, validation_batch_size, validation_freq, max_queue_size, workers, use_multiprocessing)\u001b[0m\n\u001b[1;32m   1382\u001b[0m                 _r=1):\n\u001b[1;32m   1383\u001b[0m               \u001b[0mcallbacks\u001b[0m\u001b[0;34m.\u001b[0m\u001b[0mon_train_batch_begin\u001b[0m\u001b[0;34m(\u001b[0m\u001b[0mstep\u001b[0m\u001b[0;34m)\u001b[0m\u001b[0;34m\u001b[0m\u001b[0;34m\u001b[0m\u001b[0m\n\u001b[0;32m-> 1384\u001b[0;31m               \u001b[0mtmp_logs\u001b[0m \u001b[0;34m=\u001b[0m \u001b[0mself\u001b[0m\u001b[0;34m.\u001b[0m\u001b[0mtrain_function\u001b[0m\u001b[0;34m(\u001b[0m\u001b[0miterator\u001b[0m\u001b[0;34m)\u001b[0m\u001b[0;34m\u001b[0m\u001b[0;34m\u001b[0m\u001b[0m\n\u001b[0m\u001b[1;32m   1385\u001b[0m               \u001b[0;32mif\u001b[0m \u001b[0mdata_handler\u001b[0m\u001b[0;34m.\u001b[0m\u001b[0mshould_sync\u001b[0m\u001b[0;34m:\u001b[0m\u001b[0;34m\u001b[0m\u001b[0;34m\u001b[0m\u001b[0m\n\u001b[1;32m   1386\u001b[0m                 \u001b[0mcontext\u001b[0m\u001b[0;34m.\u001b[0m\u001b[0masync_wait\u001b[0m\u001b[0;34m(\u001b[0m\u001b[0;34m)\u001b[0m\u001b[0;34m\u001b[0m\u001b[0;34m\u001b[0m\u001b[0m\n",
            "\u001b[0;32m/usr/local/lib/python3.7/dist-packages/tensorflow/python/util/traceback_utils.py\u001b[0m in \u001b[0;36merror_handler\u001b[0;34m(*args, **kwargs)\u001b[0m\n\u001b[1;32m    148\u001b[0m     \u001b[0mfiltered_tb\u001b[0m \u001b[0;34m=\u001b[0m \u001b[0;32mNone\u001b[0m\u001b[0;34m\u001b[0m\u001b[0;34m\u001b[0m\u001b[0m\n\u001b[1;32m    149\u001b[0m     \u001b[0;32mtry\u001b[0m\u001b[0;34m:\u001b[0m\u001b[0;34m\u001b[0m\u001b[0;34m\u001b[0m\u001b[0m\n\u001b[0;32m--> 150\u001b[0;31m       \u001b[0;32mreturn\u001b[0m \u001b[0mfn\u001b[0m\u001b[0;34m(\u001b[0m\u001b[0;34m*\u001b[0m\u001b[0margs\u001b[0m\u001b[0;34m,\u001b[0m \u001b[0;34m**\u001b[0m\u001b[0mkwargs\u001b[0m\u001b[0;34m)\u001b[0m\u001b[0;34m\u001b[0m\u001b[0;34m\u001b[0m\u001b[0m\n\u001b[0m\u001b[1;32m    151\u001b[0m     \u001b[0;32mexcept\u001b[0m \u001b[0mException\u001b[0m \u001b[0;32mas\u001b[0m \u001b[0me\u001b[0m\u001b[0;34m:\u001b[0m\u001b[0;34m\u001b[0m\u001b[0;34m\u001b[0m\u001b[0m\n\u001b[1;32m    152\u001b[0m       \u001b[0mfiltered_tb\u001b[0m \u001b[0;34m=\u001b[0m \u001b[0m_process_traceback_frames\u001b[0m\u001b[0;34m(\u001b[0m\u001b[0me\u001b[0m\u001b[0;34m.\u001b[0m\u001b[0m__traceback__\u001b[0m\u001b[0;34m)\u001b[0m\u001b[0;34m\u001b[0m\u001b[0;34m\u001b[0m\u001b[0m\n",
            "\u001b[0;32m/usr/local/lib/python3.7/dist-packages/tensorflow/python/eager/def_function.py\u001b[0m in \u001b[0;36m__call__\u001b[0;34m(self, *args, **kwds)\u001b[0m\n\u001b[1;32m    913\u001b[0m \u001b[0;34m\u001b[0m\u001b[0m\n\u001b[1;32m    914\u001b[0m       \u001b[0;32mwith\u001b[0m \u001b[0mOptionalXlaContext\u001b[0m\u001b[0;34m(\u001b[0m\u001b[0mself\u001b[0m\u001b[0;34m.\u001b[0m\u001b[0m_jit_compile\u001b[0m\u001b[0;34m)\u001b[0m\u001b[0;34m:\u001b[0m\u001b[0;34m\u001b[0m\u001b[0;34m\u001b[0m\u001b[0m\n\u001b[0;32m--> 915\u001b[0;31m         \u001b[0mresult\u001b[0m \u001b[0;34m=\u001b[0m \u001b[0mself\u001b[0m\u001b[0;34m.\u001b[0m\u001b[0m_call\u001b[0m\u001b[0;34m(\u001b[0m\u001b[0;34m*\u001b[0m\u001b[0margs\u001b[0m\u001b[0;34m,\u001b[0m \u001b[0;34m**\u001b[0m\u001b[0mkwds\u001b[0m\u001b[0;34m)\u001b[0m\u001b[0;34m\u001b[0m\u001b[0;34m\u001b[0m\u001b[0m\n\u001b[0m\u001b[1;32m    916\u001b[0m \u001b[0;34m\u001b[0m\u001b[0m\n\u001b[1;32m    917\u001b[0m       \u001b[0mnew_tracing_count\u001b[0m \u001b[0;34m=\u001b[0m \u001b[0mself\u001b[0m\u001b[0;34m.\u001b[0m\u001b[0mexperimental_get_tracing_count\u001b[0m\u001b[0;34m(\u001b[0m\u001b[0;34m)\u001b[0m\u001b[0;34m\u001b[0m\u001b[0;34m\u001b[0m\u001b[0m\n",
            "\u001b[0;32m/usr/local/lib/python3.7/dist-packages/tensorflow/python/eager/def_function.py\u001b[0m in \u001b[0;36m_call\u001b[0;34m(self, *args, **kwds)\u001b[0m\n\u001b[1;32m    945\u001b[0m       \u001b[0;31m# In this case we have created variables on the first call, so we run the\u001b[0m\u001b[0;34m\u001b[0m\u001b[0;34m\u001b[0m\u001b[0;34m\u001b[0m\u001b[0m\n\u001b[1;32m    946\u001b[0m       \u001b[0;31m# defunned version which is guaranteed to never create variables.\u001b[0m\u001b[0;34m\u001b[0m\u001b[0;34m\u001b[0m\u001b[0;34m\u001b[0m\u001b[0m\n\u001b[0;32m--> 947\u001b[0;31m       \u001b[0;32mreturn\u001b[0m \u001b[0mself\u001b[0m\u001b[0;34m.\u001b[0m\u001b[0m_stateless_fn\u001b[0m\u001b[0;34m(\u001b[0m\u001b[0;34m*\u001b[0m\u001b[0margs\u001b[0m\u001b[0;34m,\u001b[0m \u001b[0;34m**\u001b[0m\u001b[0mkwds\u001b[0m\u001b[0;34m)\u001b[0m  \u001b[0;31m# pylint: disable=not-callable\u001b[0m\u001b[0;34m\u001b[0m\u001b[0;34m\u001b[0m\u001b[0m\n\u001b[0m\u001b[1;32m    948\u001b[0m     \u001b[0;32melif\u001b[0m \u001b[0mself\u001b[0m\u001b[0;34m.\u001b[0m\u001b[0m_stateful_fn\u001b[0m \u001b[0;32mis\u001b[0m \u001b[0;32mnot\u001b[0m \u001b[0;32mNone\u001b[0m\u001b[0;34m:\u001b[0m\u001b[0;34m\u001b[0m\u001b[0;34m\u001b[0m\u001b[0m\n\u001b[1;32m    949\u001b[0m       \u001b[0;31m# Release the lock early so that multiple threads can perform the call\u001b[0m\u001b[0;34m\u001b[0m\u001b[0;34m\u001b[0m\u001b[0;34m\u001b[0m\u001b[0m\n",
            "\u001b[0;32m/usr/local/lib/python3.7/dist-packages/tensorflow/python/eager/function.py\u001b[0m in \u001b[0;36m__call__\u001b[0;34m(self, *args, **kwargs)\u001b[0m\n\u001b[1;32m   2955\u001b[0m        filtered_flat_args) = self._maybe_define_function(args, kwargs)\n\u001b[1;32m   2956\u001b[0m     return graph_function._call_flat(\n\u001b[0;32m-> 2957\u001b[0;31m         filtered_flat_args, captured_inputs=graph_function.captured_inputs)  # pylint: disable=protected-access\n\u001b[0m\u001b[1;32m   2958\u001b[0m \u001b[0;34m\u001b[0m\u001b[0m\n\u001b[1;32m   2959\u001b[0m   \u001b[0;34m@\u001b[0m\u001b[0mproperty\u001b[0m\u001b[0;34m\u001b[0m\u001b[0;34m\u001b[0m\u001b[0m\n",
            "\u001b[0;32m/usr/local/lib/python3.7/dist-packages/tensorflow/python/eager/function.py\u001b[0m in \u001b[0;36m_call_flat\u001b[0;34m(self, args, captured_inputs, cancellation_manager)\u001b[0m\n\u001b[1;32m   1852\u001b[0m       \u001b[0;31m# No tape is watching; skip to running the function.\u001b[0m\u001b[0;34m\u001b[0m\u001b[0;34m\u001b[0m\u001b[0;34m\u001b[0m\u001b[0m\n\u001b[1;32m   1853\u001b[0m       return self._build_call_outputs(self._inference_function.call(\n\u001b[0;32m-> 1854\u001b[0;31m           ctx, args, cancellation_manager=cancellation_manager))\n\u001b[0m\u001b[1;32m   1855\u001b[0m     forward_backward = self._select_forward_and_backward_functions(\n\u001b[1;32m   1856\u001b[0m         \u001b[0margs\u001b[0m\u001b[0;34m,\u001b[0m\u001b[0;34m\u001b[0m\u001b[0;34m\u001b[0m\u001b[0m\n",
            "\u001b[0;32m/usr/local/lib/python3.7/dist-packages/tensorflow/python/eager/function.py\u001b[0m in \u001b[0;36mcall\u001b[0;34m(self, ctx, args, cancellation_manager)\u001b[0m\n\u001b[1;32m    502\u001b[0m               \u001b[0minputs\u001b[0m\u001b[0;34m=\u001b[0m\u001b[0margs\u001b[0m\u001b[0;34m,\u001b[0m\u001b[0;34m\u001b[0m\u001b[0;34m\u001b[0m\u001b[0m\n\u001b[1;32m    503\u001b[0m               \u001b[0mattrs\u001b[0m\u001b[0;34m=\u001b[0m\u001b[0mattrs\u001b[0m\u001b[0;34m,\u001b[0m\u001b[0;34m\u001b[0m\u001b[0;34m\u001b[0m\u001b[0m\n\u001b[0;32m--> 504\u001b[0;31m               ctx=ctx)\n\u001b[0m\u001b[1;32m    505\u001b[0m         \u001b[0;32melse\u001b[0m\u001b[0;34m:\u001b[0m\u001b[0;34m\u001b[0m\u001b[0;34m\u001b[0m\u001b[0m\n\u001b[1;32m    506\u001b[0m           outputs = execute.execute_with_cancellation(\n",
            "\u001b[0;32m/usr/local/lib/python3.7/dist-packages/tensorflow/python/eager/execute.py\u001b[0m in \u001b[0;36mquick_execute\u001b[0;34m(op_name, num_outputs, inputs, attrs, ctx, name)\u001b[0m\n\u001b[1;32m     53\u001b[0m     \u001b[0mctx\u001b[0m\u001b[0;34m.\u001b[0m\u001b[0mensure_initialized\u001b[0m\u001b[0;34m(\u001b[0m\u001b[0;34m)\u001b[0m\u001b[0;34m\u001b[0m\u001b[0;34m\u001b[0m\u001b[0m\n\u001b[1;32m     54\u001b[0m     tensors = pywrap_tfe.TFE_Py_Execute(ctx._handle, device_name, op_name,\n\u001b[0;32m---> 55\u001b[0;31m                                         inputs, attrs, num_outputs)\n\u001b[0m\u001b[1;32m     56\u001b[0m   \u001b[0;32mexcept\u001b[0m \u001b[0mcore\u001b[0m\u001b[0;34m.\u001b[0m\u001b[0m_NotOkStatusException\u001b[0m \u001b[0;32mas\u001b[0m \u001b[0me\u001b[0m\u001b[0;34m:\u001b[0m\u001b[0;34m\u001b[0m\u001b[0;34m\u001b[0m\u001b[0m\n\u001b[1;32m     57\u001b[0m     \u001b[0;32mif\u001b[0m \u001b[0mname\u001b[0m \u001b[0;32mis\u001b[0m \u001b[0;32mnot\u001b[0m \u001b[0;32mNone\u001b[0m\u001b[0;34m:\u001b[0m\u001b[0;34m\u001b[0m\u001b[0;34m\u001b[0m\u001b[0m\n",
            "\u001b[0;31mKeyboardInterrupt\u001b[0m: "
          ]
        }
      ]
    },
    {
      "cell_type": "code",
      "source": [
        "print(\"Best params\", result.best_params_)\n",
        "print(\"Best score\", result.best_score_)"
      ],
      "metadata": {
        "id": "MsUDXq9XLUtk"
      },
      "execution_count": null,
      "outputs": []
    },
    {
      "cell_type": "code",
      "source": [
        "from sklearn.metrics import accuracy_score, f1_score, precision_score, recall_score\n",
        "import numpy as np\n",
        "\n",
        "for score in [accuracy_score, recall_score, precision_score, f1_score]:\n",
        "    print(score(result.predict(X_test), y_test))\n"
      ],
      "metadata": {
        "id": "ilUSHYOOLgLZ"
      },
      "execution_count": null,
      "outputs": []
    },
    {
      "cell_type": "markdown",
      "metadata": {
        "id": "dzB9uJyyUM_-"
      },
      "source": [
        "## Approach 1 - RRN"
      ]
    },
    {
      "cell_type": "code",
      "execution_count": null,
      "metadata": {
        "id": "rE4wMVCmUNAA",
        "outputId": "cbdb195c-dfab-46d0-f76c-ed04f4c32d7d"
      },
      "outputs": [
        {
          "name": "stdout",
          "output_type": "stream",
          "text": [
            "Model: \"sequential_57\"\n",
            "_________________________________________________________________\n",
            " Layer (type)                Output Shape              Param #   \n",
            "=================================================================\n",
            " text_vectorization_57 (Text  (None, None)             0         \n",
            " Vectorization)                                                  \n",
            "                                                                 \n",
            " embedding_42 (Embedding)    (None, None, 32)          1451232   \n",
            "                                                                 \n",
            " lstm_11 (LSTM)              (None, 32)                8320      \n",
            "                                                                 \n",
            " dense_57 (Dense)            (None, 16)                528       \n",
            "                                                                 \n",
            " dense_58 (Dense)            (None, 1)                 17        \n",
            "                                                                 \n",
            "=================================================================\n",
            "Total params: 1,460,097\n",
            "Trainable params: 1,460,097\n",
            "Non-trainable params: 0\n",
            "_________________________________________________________________\n"
          ]
        }
      ],
      "source": [
        "from keras.models import Sequential\n",
        "from keras.callbacks import History, EarlyStopping\n",
        "from keras.layers import Embedding, TextVectorization, Dense, LSTM, Input\n",
        "\n",
        "vectorize_layer = TextVectorization(max_tokens=50000)\n",
        "vectorize_layer.adapt(X_train)\n",
        "\n",
        "history_Adam = History()\n",
        "\n",
        "model = Sequential()\n",
        "\n",
        "# Vectorization\n",
        "model.add(Input(shape=(1,), dtype=tf.string))\n",
        "model.add(vectorize_layer)\n",
        "\n",
        "# Embedding\n",
        "model.add(Embedding(input_dim=len(vectorize_layer.get_vocabulary()), output_dim=32))\n",
        "\n",
        "model.add(LSTM(32, activation='softsign'))\n",
        "model.add(Dense(16, activation='relu'))\n",
        "model.add(Dense(1, activation='sigmoid'))\n",
        "\n",
        "\n",
        "model.summary()\n"
      ]
    },
    {
      "cell_type": "code",
      "execution_count": null,
      "metadata": {
        "id": "ZbdRSCb1UNAB",
        "outputId": "7ed6bec4-106b-4513-f158-019209b3b293"
      },
      "outputs": [
        {
          "name": "stdout",
          "output_type": "stream",
          "text": [
            "Epoch 1/20\n",
            "125/125 [==============================] - 67s 532ms/step - loss: 0.6929 - accuracy: 0.5155 - val_loss: 0.6938 - val_accuracy: 0.4988\n",
            "Epoch 2/20\n",
            "125/125 [==============================] - 64s 514ms/step - loss: 0.6929 - accuracy: 0.5155 - val_loss: 0.6940 - val_accuracy: 0.4988\n",
            "Epoch 3/20\n",
            "125/125 [==============================] - 68s 544ms/step - loss: 0.6927 - accuracy: 0.5238 - val_loss: 0.6935 - val_accuracy: 0.5020\n",
            "Epoch 4/20\n",
            "125/125 [==============================] - 70s 565ms/step - loss: 0.6921 - accuracy: 0.5278 - val_loss: 0.6933 - val_accuracy: 0.5025\n",
            "Epoch 5/20\n",
            "125/125 [==============================] - 69s 554ms/step - loss: 0.7162 - accuracy: 0.5175 - val_loss: 0.6949 - val_accuracy: 0.4988\n",
            "Epoch 6/20\n",
            "125/125 [==============================] - 63s 508ms/step - loss: 0.6914 - accuracy: 0.5225 - val_loss: 0.6942 - val_accuracy: 0.5009\n",
            "Epoch 7/20\n",
            "125/125 [==============================] - 69s 553ms/step - loss: 0.6897 - accuracy: 0.5297 - val_loss: 0.6933 - val_accuracy: 0.5031\n",
            "Epoch 8/20\n",
            "125/125 [==============================] - 67s 538ms/step - loss: 0.6846 - accuracy: 0.5310 - val_loss: 0.6972 - val_accuracy: 0.5029\n",
            "Epoch 9/20\n",
            "125/125 [==============================] - 64s 518ms/step - loss: 0.6815 - accuracy: 0.5307 - val_loss: 0.6937 - val_accuracy: 0.5034\n",
            "Epoch 10/20\n",
            "125/125 [==============================] - 70s 559ms/step - loss: 0.6773 - accuracy: 0.5293 - val_loss: 0.6950 - val_accuracy: 0.5037\n",
            "Epoch 11/20\n",
            "125/125 [==============================] - 68s 546ms/step - loss: 0.6771 - accuracy: 0.5318 - val_loss: 0.6958 - val_accuracy: 0.5041\n",
            "Epoch 12/20\n",
            "125/125 [==============================] - 65s 521ms/step - loss: 0.6758 - accuracy: 0.5347 - val_loss: 0.6965 - val_accuracy: 0.5045\n",
            "Epoch 13/20\n",
            "125/125 [==============================] - 66s 529ms/step - loss: 0.6751 - accuracy: 0.5330 - val_loss: 0.6966 - val_accuracy: 0.5045\n",
            "Epoch 14/20\n",
            "125/125 [==============================] - 65s 522ms/step - loss: 0.6749 - accuracy: 0.5315 - val_loss: 0.6993 - val_accuracy: 0.5038\n",
            "Epoch 15/20\n",
            "125/125 [==============================] - 65s 519ms/step - loss: 0.6747 - accuracy: 0.5337 - val_loss: 0.6965 - val_accuracy: 0.5054\n",
            "Epoch 16/20\n",
            "125/125 [==============================] - 66s 533ms/step - loss: 0.6709 - accuracy: 0.5343 - val_loss: 0.6985 - val_accuracy: 0.5051\n",
            "Epoch 17/20\n",
            "125/125 [==============================] - 65s 521ms/step - loss: 0.6726 - accuracy: 0.5328 - val_loss: 0.7004 - val_accuracy: 0.5054\n",
            "Epoch 18/20\n",
            "125/125 [==============================] - 65s 520ms/step - loss: 0.6711 - accuracy: 0.5345 - val_loss: 0.7150 - val_accuracy: 0.5045\n",
            "Epoch 19/20\n",
            "125/125 [==============================] - 66s 527ms/step - loss: 0.6719 - accuracy: 0.5325 - val_loss: 0.6991 - val_accuracy: 0.5049\n",
            "Epoch 20/20\n",
            "125/125 [==============================] - 69s 551ms/step - loss: 0.6727 - accuracy: 0.5332 - val_loss: 0.6974 - val_accuracy: 0.5046\n"
          ]
        },
        {
          "data": {
            "text/plain": [
              "<keras.callbacks.History at 0x142ee0430>"
            ]
          },
          "execution_count": 139,
          "metadata": {},
          "output_type": "execute_result"
        }
      ],
      "source": [
        "model.compile(loss=\"binary_crossentropy\",optimizer=\"adam\", metrics=[\"accuracy\"])\n",
        "\n",
        "# early_stopping = EarlyStopping(monitor='val_loss', patience=3, mode='min', verbose=1)\n",
        "model.fit(X_train, y_train, validation_data=(X_test, y_test), epochs=20, callbacks=[history_Adam])"
      ]
    },
    {
      "cell_type": "code",
      "execution_count": null,
      "metadata": {
        "id": "hxQ0eWlNUNAC",
        "outputId": "57728788-5f9c-401a-9377-e3a510b139b3"
      },
      "outputs": [
        {
          "data": {
            "image/png": "[encoded data removed]",
            "text/plain": [
              "<Figure size 432x288 with 1 Axes>"
            ]
          },
          "metadata": {
            "needs_background": "light"
          },
          "output_type": "display_data"
        }
      ],
      "source": [
        "import matplotlib.pyplot as plt\n",
        "\n",
        "plt.plot(history_Adam.history['loss'], label = \"train\")\n",
        "plt.plot(history_Adam.history['val_loss'], label = \"test \")\n",
        "\n",
        "\n",
        "\n",
        "plt.legend()\n",
        "plt.show()"
      ]
    },
    {
      "cell_type": "code",
      "execution_count": null,
      "metadata": {
        "id": "HZYJ1jBMUNAD",
        "outputId": "ca74d066-64b5-4e9c-a952-f5b8acab68eb"
      },
      "outputs": [
        {
          "data": {
            "image/png": "[encoded data removed]",
            "text/plain": [
              "<Figure size 432x288 with 1 Axes>"
            ]
          },
          "metadata": {
            "needs_background": "light"
          },
          "output_type": "display_data"
        }
      ],
      "source": [
        "plt.plot(history_Adam.history['accuracy'], label = \"train\")\n",
        "plt.plot(history_Adam.history['val_accuracy'], label = \"test \")\n",
        "\n",
        "plt.legend()\n",
        "plt.show()\n"
      ]
    },
    {
      "cell_type": "markdown",
      "metadata": {
        "id": "bES246cEUNAD"
      },
      "source": [
        "## Approach 2 - Bidirectional\n"
      ]
    },
    {
      "cell_type": "code",
      "execution_count": null,
      "metadata": {
        "id": "TfMj6idRUNAE",
        "outputId": "48e07d08-4fc6-472f-9c6a-33cc73b67f23"
      },
      "outputs": [
        {
          "name": "stdout",
          "output_type": "stream",
          "text": [
            "Model: \"sequential_58\"\n",
            "_________________________________________________________________\n",
            " Layer (type)                Output Shape              Param #   \n",
            "=================================================================\n",
            " text_vectorization_58 (Text  (None, None)             0         \n",
            " Vectorization)                                                  \n",
            "                                                                 \n",
            " embedding_43 (Embedding)    (None, None, 64)          2902464   \n",
            "                                                                 \n",
            " dense_59 (Dense)            (None, None, 128)         8320      \n",
            "                                                                 \n",
            " dense_60 (Dense)            (None, None, 64)          8256      \n",
            "                                                                 \n",
            " dense_61 (Dense)            (None, None, 16)          1040      \n",
            "                                                                 \n",
            " dense_62 (Dense)            (None, None, 1)           17        \n",
            "                                                                 \n",
            "=================================================================\n",
            "Total params: 2,920,097\n",
            "Trainable params: 2,920,097\n",
            "Non-trainable params: 0\n",
            "_________________________________________________________________\n"
          ]
        }
      ],
      "source": [
        "from keras.models import Sequential\n",
        "from keras.callbacks import History, EarlyStopping\n",
        "from keras.layers import Embedding, TextVectorization, Dense, LSTM, Input\n",
        "\n",
        "vectorize_layer = TextVectorization(max_tokens=50000)\n",
        "vectorize_layer.adapt(X_train)\n",
        "\n",
        "history_Adam = History()\n",
        "\n",
        "model = Sequential()\n",
        "\n",
        "# Vectorization\n",
        "model.add(Input(shape=(1,), dtype=tf.string))\n",
        "model.add(vectorize_layer)\n",
        "\n",
        "# Embedding\n",
        "model.add(Embedding(input_dim=len(vectorize_layer.get_vocabulary()), output_dim=64))\n",
        "\n",
        "model.add(Dense(128, activation='relu'))\n",
        "model.add(Dense(64, activation='relu'))\n",
        "model.add(Dense(16, activation='relu'))\n",
        "model.add(Dense(1, activation='sigmoid'))\n",
        "\n",
        "\n",
        "model.summary()\n"
      ]
    },
    {
      "cell_type": "code",
      "execution_count": null,
      "metadata": {
        "id": "XmbngCHqUNAF",
        "outputId": "9c838a55-ffd2-4f08-8817-42214d0ffef9"
      },
      "outputs": [
        {
          "name": "stdout",
          "output_type": "stream",
          "text": [
            "Epoch 1/20\n",
            "125/125 [==============================] - 22s 175ms/step - loss: 0.6927 - accuracy: 0.5153 - val_loss: 0.6920 - val_accuracy: 0.5129\n",
            "Epoch 2/20\n",
            "125/125 [==============================] - 21s 168ms/step - loss: 0.6897 - accuracy: 0.5252 - val_loss: 0.6907 - val_accuracy: 0.5138\n",
            "Epoch 3/20\n",
            "125/125 [==============================] - 21s 169ms/step - loss: 0.6860 - accuracy: 0.5357 - val_loss: 0.6924 - val_accuracy: 0.5149\n",
            "Epoch 4/20\n",
            "125/125 [==============================] - 22s 177ms/step - loss: 0.6830 - accuracy: 0.5377 - val_loss: 0.6939 - val_accuracy: 0.5147\n",
            "Epoch 5/20\n",
            "125/125 [==============================] - 24s 196ms/step - loss: 0.6814 - accuracy: 0.5378 - val_loss: 0.6943 - val_accuracy: 0.5141\n",
            "Epoch 6/20\n",
            "125/125 [==============================] - 24s 196ms/step - loss: 0.6795 - accuracy: 0.5387 - val_loss: 0.6967 - val_accuracy: 0.5143\n",
            "Epoch 7/20\n",
            "125/125 [==============================] - 23s 188ms/step - loss: 0.6792 - accuracy: 0.5387 - val_loss: 0.6976 - val_accuracy: 0.5148\n",
            "Epoch 8/20\n",
            "125/125 [==============================] - 23s 185ms/step - loss: 0.6785 - accuracy: 0.5389 - val_loss: 0.6996 - val_accuracy: 0.5145\n",
            "Epoch 9/20\n",
            "125/125 [==============================] - 23s 185ms/step - loss: 0.6780 - accuracy: 0.5391 - val_loss: 0.7001 - val_accuracy: 0.5143\n",
            "Epoch 10/20\n",
            "125/125 [==============================] - 23s 185ms/step - loss: 0.6777 - accuracy: 0.5385 - val_loss: 0.7018 - val_accuracy: 0.5150\n",
            "Epoch 11/20\n",
            "125/125 [==============================] - 24s 193ms/step - loss: 0.6775 - accuracy: 0.5391 - val_loss: 0.7034 - val_accuracy: 0.5142\n",
            "Epoch 12/20\n",
            "125/125 [==============================] - 23s 188ms/step - loss: 0.6776 - accuracy: 0.5402 - val_loss: 0.7042 - val_accuracy: 0.5146\n",
            "Epoch 13/20\n",
            "125/125 [==============================] - 23s 185ms/step - loss: 0.6772 - accuracy: 0.5398 - val_loss: 0.7054 - val_accuracy: 0.5146\n",
            "Epoch 14/20\n",
            "125/125 [==============================] - 23s 186ms/step - loss: 0.6775 - accuracy: 0.5363 - val_loss: 0.7085 - val_accuracy: 0.5141\n",
            "Epoch 15/20\n",
            "125/125 [==============================] - 24s 189ms/step - loss: 0.6771 - accuracy: 0.5391 - val_loss: 0.7083 - val_accuracy: 0.5145\n",
            "Epoch 16/20\n",
            "125/125 [==============================] - 24s 191ms/step - loss: 0.6770 - accuracy: 0.5402 - val_loss: 0.7081 - val_accuracy: 0.5149\n",
            "Epoch 17/20\n",
            "125/125 [==============================] - 23s 188ms/step - loss: 0.6772 - accuracy: 0.5380 - val_loss: 0.7100 - val_accuracy: 0.5147\n",
            "Epoch 18/20\n",
            "125/125 [==============================] - 24s 191ms/step - loss: 0.6767 - accuracy: 0.5400 - val_loss: 0.7101 - val_accuracy: 0.5146\n",
            "Epoch 19/20\n",
            "125/125 [==============================] - 23s 187ms/step - loss: 0.6767 - accuracy: 0.5395 - val_loss: 0.7107 - val_accuracy: 0.5150\n",
            "Epoch 20/20\n",
            "125/125 [==============================] - 23s 189ms/step - loss: 0.6767 - accuracy: 0.5390 - val_loss: 0.7119 - val_accuracy: 0.5147\n"
          ]
        },
        {
          "data": {
            "text/plain": [
              "<keras.callbacks.History at 0x13ca80430>"
            ]
          },
          "execution_count": 143,
          "metadata": {},
          "output_type": "execute_result"
        }
      ],
      "source": [
        "model.compile(loss=\"binary_crossentropy\",optimizer=\"adam\", metrics=[\"accuracy\"])\n",
        "\n",
        "# early_stopping = EarlyStopping(monitor='val_loss', patience=3, mode='min', verbose=1)\n",
        "model.fit(X_train, y_train, validation_data=(X_test, y_test), epochs=20, callbacks=[history_Adam])"
      ]
    },
    {
      "cell_type": "code",
      "execution_count": null,
      "metadata": {
        "id": "2yuAAmHmUNAG",
        "outputId": "20196de1-c253-460e-eb95-97bb9c9fef40"
      },
      "outputs": [
        {
          "data": {
            "image/png": "[encoded data removed]",
            "text/plain": [
              "<Figure size 432x288 with 1 Axes>"
            ]
          },
          "metadata": {
            "needs_background": "light"
          },
          "output_type": "display_data"
        }
      ],
      "source": [
        "import matplotlib.pyplot as plt\n",
        "\n",
        "plt.plot(history_Adam.history['loss'], label = \"train\")\n",
        "plt.plot(history_Adam.history['val_loss'], label = \"test \")\n",
        "\n",
        "\n",
        "\n",
        "plt.legend()\n",
        "plt.show()"
      ]
    },
    {
      "cell_type": "code",
      "execution_count": null,
      "metadata": {
        "id": "eNnBVyTFUNAH",
        "outputId": "180fbd18-7e36-4be0-e7b5-f07db88cf83b"
      },
      "outputs": [
        {
          "data": {
            "image/png": "[encoded data removed]",
            "text/plain": [
              "<Figure size 432x288 with 1 Axes>"
            ]
          },
          "metadata": {
            "needs_background": "light"
          },
          "output_type": "display_data"
        }
      ],
      "source": [
        "plt.plot(history_Adam.history['accuracy'], label = \"train\")\n",
        "plt.plot(history_Adam.history['val_accuracy'], label = \"test \")\n",
        "\n",
        "plt.legend()\n",
        "plt.show()\n"
      ]
    },
    {
      "cell_type": "markdown",
      "metadata": {
        "id": "qOA9kwg4UNAH"
      },
      "source": [
        "## Approach 3 - GRU"
      ]
    },
    {
      "cell_type": "code",
      "execution_count": null,
      "metadata": {
        "id": "qgIo00clUNAI",
        "outputId": "a15a97ba-1840-45ae-c844-d18616bb5679"
      },
      "outputs": [
        {
          "name": "stdout",
          "output_type": "stream",
          "text": [
            "Model: \"sequential_59\"\n",
            "_________________________________________________________________\n",
            " Layer (type)                Output Shape              Param #   \n",
            "=================================================================\n",
            " text_vectorization_59 (Text  (None, None)             0         \n",
            " Vectorization)                                                  \n",
            "                                                                 \n",
            " embedding_44 (Embedding)    (None, None, 64)          2902464   \n",
            "                                                                 \n",
            " bidirectional (Bidirectiona  (None, 64)               18816     \n",
            " l)                                                              \n",
            "                                                                 \n",
            " dense_63 (Dense)            (None, 24)                1560      \n",
            "                                                                 \n",
            " dense_64 (Dense)            (None, 1)                 25        \n",
            "                                                                 \n",
            "=================================================================\n",
            "Total params: 2,922,865\n",
            "Trainable params: 2,922,865\n",
            "Non-trainable params: 0\n",
            "_________________________________________________________________\n"
          ]
        }
      ],
      "source": [
        "from keras.models import Sequential\n",
        "from keras.callbacks import History, EarlyStopping\n",
        "from keras.layers import Embedding, TextVectorization, Dense, LSTM, Input, Bidirectional\n",
        "\n",
        "vectorize_layer = TextVectorization(max_tokens=50000)\n",
        "vectorize_layer.adapt(X_train)\n",
        "\n",
        "history_Adam = History()\n",
        "\n",
        "model = Sequential()\n",
        "\n",
        "# Vectorization\n",
        "model.add(Input(shape=(1,), dtype=tf.string))\n",
        "model.add(vectorize_layer)\n",
        "\n",
        "# Embedding\n",
        "model.add(Embedding(input_dim=len(vectorize_layer.get_vocabulary()), output_dim=64))\n",
        "\n",
        "\n",
        "model.add(Bidirectional(tf.keras.layers.GRU(32)))\n",
        "model.add(Dense(24, activation='relu'))\n",
        "model.add(Dense(1, activation='sigmoid'))\n",
        "\n",
        "\n",
        "model.summary()\n"
      ]
    },
    {
      "cell_type": "code",
      "execution_count": null,
      "metadata": {
        "id": "4_nmzzADUNAI",
        "outputId": "49da6b82-cd09-4400-bf4a-80be4f6d33c8"
      },
      "outputs": [
        {
          "name": "stdout",
          "output_type": "stream",
          "text": [
            "Epoch 1/20\n",
            "125/125 [==============================] - 97s 755ms/step - loss: 0.6880 - accuracy: 0.5472 - val_loss: 0.6569 - val_accuracy: 0.6255\n",
            "Epoch 2/20\n",
            "125/125 [==============================] - 102s 821ms/step - loss: 0.4633 - accuracy: 0.7945 - val_loss: 0.5537 - val_accuracy: 0.7167\n",
            "Epoch 3/20\n",
            "125/125 [==============================] - 102s 820ms/step - loss: 0.1556 - accuracy: 0.9457 - val_loss: 0.6116 - val_accuracy: 0.7722\n",
            "Epoch 4/20\n",
            "125/125 [==============================] - 100s 801ms/step - loss: 0.0340 - accuracy: 0.9910 - val_loss: 0.7462 - val_accuracy: 0.7715\n",
            "Epoch 5/20\n",
            "125/125 [==============================] - 103s 829ms/step - loss: 0.0084 - accuracy: 0.9985 - val_loss: 0.9285 - val_accuracy: 0.7814\n",
            "Epoch 6/20\n",
            "125/125 [==============================] - 95s 760ms/step - loss: 0.0084 - accuracy: 0.9975 - val_loss: 1.0466 - val_accuracy: 0.7831\n",
            "Epoch 7/20\n",
            "125/125 [==============================] - 95s 761ms/step - loss: 0.0014 - accuracy: 0.9995 - val_loss: 1.1557 - val_accuracy: 0.7687\n",
            "Epoch 8/20\n",
            "125/125 [==============================] - 105s 844ms/step - loss: 6.6416e-04 - accuracy: 1.0000 - val_loss: 1.1449 - val_accuracy: 0.7827\n",
            "Epoch 9/20\n",
            "125/125 [==============================] - 102s 818ms/step - loss: 1.8840e-04 - accuracy: 1.0000 - val_loss: 1.2484 - val_accuracy: 0.7891\n",
            "Epoch 10/20\n",
            "125/125 [==============================] - 102s 817ms/step - loss: 1.1167e-04 - accuracy: 1.0000 - val_loss: 1.2932 - val_accuracy: 0.7905\n",
            "Epoch 11/20\n",
            "125/125 [==============================] - 102s 820ms/step - loss: 7.6570e-05 - accuracy: 1.0000 - val_loss: 1.3405 - val_accuracy: 0.7909\n",
            "Epoch 12/20\n",
            "125/125 [==============================] - 101s 815ms/step - loss: 6.0594e-05 - accuracy: 1.0000 - val_loss: 1.3731 - val_accuracy: 0.7912\n",
            "Epoch 13/20\n",
            "125/125 [==============================] - 101s 814ms/step - loss: 4.9039e-05 - accuracy: 1.0000 - val_loss: 1.4078 - val_accuracy: 0.7918\n",
            "Epoch 14/20\n",
            "125/125 [==============================] - 101s 813ms/step - loss: 4.0767e-05 - accuracy: 1.0000 - val_loss: 1.4397 - val_accuracy: 0.7919\n",
            "Epoch 15/20\n",
            "125/125 [==============================] - 102s 816ms/step - loss: 3.4629e-05 - accuracy: 1.0000 - val_loss: 1.4674 - val_accuracy: 0.7920\n",
            "Epoch 16/20\n",
            "125/125 [==============================] - 102s 816ms/step - loss: 2.9766e-05 - accuracy: 1.0000 - val_loss: 1.4916 - val_accuracy: 0.7925\n",
            "Epoch 17/20\n",
            "125/125 [==============================] - 101s 813ms/step - loss: 2.5815e-05 - accuracy: 1.0000 - val_loss: 1.5153 - val_accuracy: 0.7925\n",
            "Epoch 18/20\n",
            "125/125 [==============================] - 108s 870ms/step - loss: 2.2629e-05 - accuracy: 1.0000 - val_loss: 1.5379 - val_accuracy: 0.7922\n",
            "Epoch 19/20\n",
            "125/125 [==============================] - 105s 846ms/step - loss: 2.0016e-05 - accuracy: 1.0000 - val_loss: 1.5589 - val_accuracy: 0.7928\n",
            "Epoch 20/20\n",
            "125/125 [==============================] - 111s 889ms/step - loss: 1.7761e-05 - accuracy: 1.0000 - val_loss: 1.5798 - val_accuracy: 0.7926\n"
          ]
        },
        {
          "data": {
            "text/plain": [
              "<keras.callbacks.History at 0x143c0d790>"
            ]
          },
          "execution_count": 147,
          "metadata": {},
          "output_type": "execute_result"
        }
      ],
      "source": [
        "model.compile(loss=\"binary_crossentropy\",optimizer=\"adam\", metrics=[\"accuracy\"])\n",
        "\n",
        "# early_stopping = EarlyStopping(monitor='val_loss', patience=3, mode='min', verbose=1)\n",
        "model.fit(X_train, y_train, validation_data=(X_test, y_test), epochs=20, callbacks=[history_Adam])"
      ]
    },
    {
      "cell_type": "code",
      "execution_count": null,
      "metadata": {
        "id": "dcpOnOvIUNAJ",
        "outputId": "743c31e3-e4f5-4852-f76f-2bf51c04a7a8"
      },
      "outputs": [
        {
          "name": "stdout",
          "output_type": "stream",
          "text": [
            "1125/1125 [==============================] - 63s 56ms/step - loss: 1.5798 - accuracy: 0.7926\n"
          ]
        },
        {
          "data": {
            "text/plain": [
              "[1.5797935724258423, 0.792638897895813]"
            ]
          },
          "execution_count": 150,
          "metadata": {},
          "output_type": "execute_result"
        }
      ],
      "source": [
        "model.evaluate(X_test,y_test)"
      ]
    },
    {
      "cell_type": "code",
      "execution_count": null,
      "metadata": {
        "id": "DP-O2vw_UNAK",
        "outputId": "45fc2dfc-5735-4cae-8f7d-3fece8a684a8"
      },
      "outputs": [
        {
          "data": {
            "image/png": "[encoded data removed]",
            "text/plain": [
              "<Figure size 432x288 with 1 Axes>"
            ]
          },
          "metadata": {
            "needs_background": "light"
          },
          "output_type": "display_data"
        }
      ],
      "source": [
        "import matplotlib.pyplot as plt\n",
        "\n",
        "plt.plot(history_Adam.history['loss'], label = \"train\")\n",
        "plt.plot(history_Adam.history['val_loss'], label = \"test \")\n",
        "\n",
        "\n",
        "\n",
        "plt.legend()\n",
        "plt.show()"
      ]
    },
    {
      "cell_type": "code",
      "execution_count": null,
      "metadata": {
        "id": "YOEz9rzMUNAK",
        "outputId": "cd798edf-2fa6-4788-b18a-fdb59de9104c"
      },
      "outputs": [
        {
          "data": {
            "image/png": "[encoded data removed]",
            "text/plain": [
              "<Figure size 432x288 with 1 Axes>"
            ]
          },
          "metadata": {
            "needs_background": "light"
          },
          "output_type": "display_data"
        }
      ],
      "source": [
        "plt.plot(history_Adam.history['accuracy'], label = \"train\")\n",
        "plt.plot(history_Adam.history['val_accuracy'], label = \"test \")\n",
        "\n",
        "plt.legend()\n",
        "plt.show()\n"
      ]
    },
    {
      "cell_type": "markdown",
      "source": [
        "## Approach 4 - TwoLayer - GRU\n",
        "## https://www.dialog-21.ru/media/3380/arkhipenkoetal.pdf"
      ],
      "metadata": {
        "id": "9J2vzdWyTmE3"
      }
    },
    {
      "cell_type": "code",
      "source": [
        "from keras.models import Sequential\n",
        "from keras.callbacks import History, EarlyStopping\n",
        "from keras.layers import Embedding, TextVectorization, Dense, LSTM, Input, Bidirectional, GRU\n",
        "\n",
        "vectorize_layer = TextVectorization(max_tokens=50000)\n",
        "vectorize_layer.adapt(X_train)\n",
        "\n",
        "history_Adam = History()\n",
        "\n",
        "model = Sequential()\n",
        "\n",
        "# Vectorization\n",
        "model.add(Input(shape=(1,), dtype=tf.string))\n",
        "model.add(vectorize_layer)\n",
        "\n",
        "# Embedding\n",
        "model.add(Embedding(input_dim=len(vectorize_layer.get_vocabulary()), output_dim=64))\n",
        "\n",
        "\n",
        "model.add(Bidirectional(GRU(128, return_sequences=True)))\n",
        "model.add(Bidirectional(GRU(64)))\n",
        "model.add(Dense(32, activation='relu'))\n",
        "model.add(Dense(1, activation='sigmoid'))\n",
        "\n",
        "model.summary()\n"
      ],
      "metadata": {
        "colab": {
          "base_uri": "https://localhost:8080/"
        },
        "id": "P8OTiL3SU6x7",
        "outputId": "41a5013e-7e30-4d31-a055-94b1aab584fd"
      },
      "execution_count": 19,
      "outputs": [
        {
          "output_type": "stream",
          "name": "stdout",
          "text": [
            "Model: \"sequential_12\"\n",
            "_________________________________________________________________\n",
            " Layer (type)                Output Shape              Param #   \n",
            "=================================================================\n",
            " text_vectorization_12 (Text  (None, None)             0         \n",
            " Vectorization)                                                  \n",
            "                                                                 \n",
            " embedding_12 (Embedding)    (None, None, 64)          3200000   \n",
            "                                                                 \n",
            " bidirectional_18 (Bidirecti  (None, None, 256)        148992    \n",
            " onal)                                                           \n",
            "                                                                 \n",
            " bidirectional_19 (Bidirecti  (None, 128)              123648    \n",
            " onal)                                                           \n",
            "                                                                 \n",
            " dense_4 (Dense)             (None, 32)                4128      \n",
            "                                                                 \n",
            " dense_5 (Dense)             (None, 1)                 33        \n",
            "                                                                 \n",
            "=================================================================\n",
            "Total params: 3,476,801\n",
            "Trainable params: 3,476,801\n",
            "Non-trainable params: 0\n",
            "_________________________________________________________________\n"
          ]
        }
      ]
    },
    {
      "cell_type": "code",
      "source": [
        "model.compile(loss=\"binary_crossentropy\",optimizer=\"adam\", metrics=[\"accuracy\"])\n",
        "\n",
        "early_stopping = EarlyStopping(monitor='val_loss', patience=6, mode='min', verbose=1)\n",
        "model.fit(X_train, y_train, validation_data=(X_test, y_test), epochs=30, callbacks=[early_stopping, history_Adam])"
      ],
      "metadata": {
        "colab": {
          "base_uri": "https://localhost:8080/"
        },
        "id": "k3wKXOckWa4M",
        "outputId": "615f2b21-0f69-4532-cc9a-48c6749c9d1b"
      },
      "execution_count": 26,
      "outputs": [
        {
          "output_type": "stream",
          "name": "stdout",
          "text": [
            "Epoch 1/30\n",
            "250/250 [==============================] - 75s 279ms/step - loss: 0.0385 - accuracy: 0.9885 - val_loss: 0.7228 - val_accuracy: 0.7829\n",
            "Epoch 2/30\n",
            "250/250 [==============================] - 67s 269ms/step - loss: 0.0156 - accuracy: 0.9965 - val_loss: 1.3660 - val_accuracy: 0.7939\n",
            "Epoch 3/30\n",
            "250/250 [==============================] - 66s 266ms/step - loss: 0.0153 - accuracy: 0.9950 - val_loss: 0.9036 - val_accuracy: 0.7971\n",
            "Epoch 4/30\n",
            "250/250 [==============================] - 67s 269ms/step - loss: 0.0085 - accuracy: 0.9975 - val_loss: 1.4418 - val_accuracy: 0.7955\n",
            "Epoch 5/30\n",
            "250/250 [==============================] - 67s 270ms/step - loss: 0.0078 - accuracy: 0.9976 - val_loss: 1.3579 - val_accuracy: 0.7742\n",
            "Epoch 6/30\n",
            "250/250 [==============================] - 68s 271ms/step - loss: 0.0037 - accuracy: 0.9989 - val_loss: 1.2754 - val_accuracy: 0.7769\n",
            "Epoch 7/30\n",
            "250/250 [==============================] - 68s 274ms/step - loss: 3.6294e-04 - accuracy: 0.9999 - val_loss: 1.5110 - val_accuracy: 0.7945\n",
            "Epoch 7: early stopping\n"
          ]
        },
        {
          "output_type": "execute_result",
          "data": {
            "text/plain": [
              "<keras.callbacks.History at 0x7f21e9d12250>"
            ]
          },
          "metadata": {},
          "execution_count": 26
        }
      ]
    },
    {
      "cell_type": "code",
      "source": [
        "model.evaluate(X_test,y_test)"
      ],
      "metadata": {
        "colab": {
          "base_uri": "https://localhost:8080/"
        },
        "id": "AQKHeRchWiVd",
        "outputId": "fd30ea2d-63d0-46f1-c9e7-bcb365cdc8ff"
      },
      "execution_count": 27,
      "outputs": [
        {
          "output_type": "stream",
          "name": "stdout",
          "text": [
            "1000/1000 [==============================] - 47s 47ms/step - loss: 1.5110 - accuracy: 0.7945\n"
          ]
        },
        {
          "output_type": "execute_result",
          "data": {
            "text/plain": [
              "[1.5110176801681519, 0.7945312261581421]"
            ]
          },
          "metadata": {},
          "execution_count": 27
        }
      ]
    },
    {
      "cell_type": "code",
      "source": [
        "import matplotlib.pyplot as plt\n",
        "\n",
        "plt.plot(history_Adam.history['loss'], label = \"train\")\n",
        "plt.plot(history_Adam.history['val_loss'], label = \"test \")\n",
        "\n",
        "\n",
        "\n",
        "plt.legend()\n",
        "plt.show()"
      ],
      "metadata": {
        "colab": {
          "base_uri": "https://localhost:8080/",
          "height": 265
        },
        "id": "RW-BERbHWhjU",
        "outputId": "bb0ead2f-2e75-46ee-b97f-511bd5174c4d"
      },
      "execution_count": 28,
      "outputs": [
        {
          "output_type": "display_data",
          "data": {
            "text/plain": [
              "<Figure size 432x288 with 1 Axes>"
            ],
            "image/png": "[encoded data removed]"
          },
          "metadata": {
            "needs_background": "light"
          }
        }
      ]
    },
    {
      "cell_type": "code",
      "source": [
        "plt.plot(history_Adam.history['accuracy'], label = \"train\")\n",
        "plt.plot(history_Adam.history['val_accuracy'], label = \"test \")\n",
        "\n",
        "plt.legend()\n",
        "plt.show()\n"
      ],
      "metadata": {
        "colab": {
          "base_uri": "https://localhost:8080/",
          "height": 265
        },
        "id": "vUq5EyLOWlEB",
        "outputId": "8416bad3-9bf7-4719-f0bc-05efba8ef2a6"
      },
      "execution_count": 29,
      "outputs": [
        {
          "output_type": "display_data",
          "data": {
            "text/plain": [
              "<Figure size 432x288 with 1 Axes>"
            ],
            "image/png": "[encoded data removed]"
          },
          "metadata": {
            "needs_background": "light"
          }
        }
      ]
    },
    {
      "cell_type": "markdown",
      "source": [
        "## Approach 5 - TwoLayer - GRU - with standarization\n",
        "## https://www.dialog-21.ru/media/3380/arkhipenkoetal.pdf"
      ],
      "metadata": {
        "id": "l52oYhL2TSXx"
      }
    },
    {
      "cell_type": "code",
      "source": [
        "from keras.models import Sequential\n",
        "from keras.callbacks import History, EarlyStopping\n",
        "from keras.layers import Embedding, TextVectorization, Dense, LSTM, Input, Bidirectional, GRU\n",
        "\n",
        "vectorize_layer = TextVectorization(\n",
        "    max_tokens=50000,\n",
        "    standardize=\"lower_and_strip_punctuation\"\n",
        "  )\n",
        "vectorize_layer.adapt(X_train)\n",
        "\n",
        "history_Adam = History()\n",
        "\n",
        "model = Sequential()\n",
        "\n",
        "# Vectorization\n",
        "model.add(Input(shape=(1,), dtype=tf.string))\n",
        "model.add(vectorize_layer)\n",
        "\n",
        "# Embedding\n",
        "model.add(Embedding(input_dim=len(vectorize_layer.get_vocabulary()), output_dim=64))\n",
        "\n",
        "\n",
        "model.add(Bidirectional(GRU(128, return_sequences=True)))\n",
        "model.add(Bidirectional(GRU(64)))\n",
        "model.add(Dense(32, activation='relu'))\n",
        "model.add(Dense(1, activation='sigmoid'))\n",
        "\n",
        "model.summary()\n"
      ],
      "metadata": {
        "colab": {
          "base_uri": "https://localhost:8080/"
        },
        "id": "-wkVE-YDlqsa",
        "outputId": "d14ca71d-7b6e-4cc0-f4d6-5e0c77d9bd5a"
      },
      "execution_count": 42,
      "outputs": [
        {
          "output_type": "stream",
          "name": "stdout",
          "text": [
            "Model: \"sequential_17\"\n",
            "_________________________________________________________________\n",
            " Layer (type)                Output Shape              Param #   \n",
            "=================================================================\n",
            " text_vectorization_17 (Text  (None, None)             0         \n",
            " Vectorization)                                                  \n",
            "                                                                 \n",
            " embedding_17 (Embedding)    (None, None, 64)          3200000   \n",
            "                                                                 \n",
            " bidirectional_28 (Bidirecti  (None, None, 256)        148992    \n",
            " onal)                                                           \n",
            "                                                                 \n",
            " bidirectional_29 (Bidirecti  (None, 128)              123648    \n",
            " onal)                                                           \n",
            "                                                                 \n",
            " dense_14 (Dense)            (None, 32)                4128      \n",
            "                                                                 \n",
            " dense_15 (Dense)            (None, 1)                 33        \n",
            "                                                                 \n",
            "=================================================================\n",
            "Total params: 3,476,801\n",
            "Trainable params: 3,476,801\n",
            "Non-trainable params: 0\n",
            "_________________________________________________________________\n"
          ]
        }
      ]
    },
    {
      "cell_type": "code",
      "source": [
        "model.compile(loss=\"binary_crossentropy\",optimizer=\"adam\", metrics=[\"accuracy\"])\n",
        "\n",
        "early_stopping = EarlyStopping(monitor='val_loss', patience=6, mode='min', verbose=1)\n",
        "model.fit(X_train, y_train, validation_data=(X_test, y_test), epochs=30, callbacks=[early_stopping, history_Adam])"
      ],
      "metadata": {
        "colab": {
          "base_uri": "https://localhost:8080/"
        },
        "id": "sWWHYfV_l1yA",
        "outputId": "e9fb3888-8957-4f57-f825-473c425b39dc"
      },
      "execution_count": 43,
      "outputs": [
        {
          "output_type": "stream",
          "name": "stdout",
          "text": [
            "Epoch 1/30\n",
            "250/250 [==============================] - 74s 276ms/step - loss: 0.6401 - accuracy: 0.6174 - val_loss: 0.5772 - val_accuracy: 0.7452\n",
            "Epoch 2/30\n",
            "250/250 [==============================] - 69s 277ms/step - loss: 0.3661 - accuracy: 0.8436 - val_loss: 0.4651 - val_accuracy: 0.7954\n",
            "Epoch 3/30\n",
            "250/250 [==============================] - 68s 273ms/step - loss: 0.1511 - accuracy: 0.9448 - val_loss: 0.5512 - val_accuracy: 0.7921\n",
            "Epoch 4/30\n",
            "250/250 [==============================] - 69s 276ms/step - loss: 0.0533 - accuracy: 0.9841 - val_loss: 0.8045 - val_accuracy: 0.7878\n",
            "Epoch 5/30\n",
            "250/250 [==============================] - 69s 275ms/step - loss: 0.0276 - accuracy: 0.9927 - val_loss: 0.7982 - val_accuracy: 0.7858\n",
            "Epoch 6/30\n",
            "250/250 [==============================] - 68s 271ms/step - loss: 0.0231 - accuracy: 0.9927 - val_loss: 1.0235 - val_accuracy: 0.7887\n",
            "Epoch 7/30\n",
            "250/250 [==============================] - 67s 269ms/step - loss: 0.0176 - accuracy: 0.9954 - val_loss: 0.8765 - val_accuracy: 0.7805\n",
            "Epoch 8/30\n",
            "250/250 [==============================] - 66s 265ms/step - loss: 0.0183 - accuracy: 0.9949 - val_loss: 0.9761 - val_accuracy: 0.7777\n",
            "Epoch 8: early stopping\n"
          ]
        },
        {
          "output_type": "execute_result",
          "data": {
            "text/plain": [
              "<keras.callbacks.History at 0x7f21d945c110>"
            ]
          },
          "metadata": {},
          "execution_count": 43
        }
      ]
    },
    {
      "cell_type": "code",
      "source": [
        "model.evaluate(X_test,y_test)"
      ],
      "metadata": {
        "colab": {
          "base_uri": "https://localhost:8080/"
        },
        "id": "VN_kE_C8mWen",
        "outputId": "835a1972-a33e-4cbd-dca2-40b507207bbb"
      },
      "execution_count": 44,
      "outputs": [
        {
          "output_type": "stream",
          "name": "stdout",
          "text": [
            "1000/1000 [==============================] - 45s 45ms/step - loss: 0.9761 - accuracy: 0.7777\n"
          ]
        },
        {
          "output_type": "execute_result",
          "data": {
            "text/plain": [
              "[0.9760738015174866, 0.7776874899864197]"
            ]
          },
          "metadata": {},
          "execution_count": 44
        }
      ]
    },
    {
      "cell_type": "code",
      "source": [
        "import matplotlib.pyplot as plt\n",
        "\n",
        "plt.plot(history_Adam.history['loss'], label = \"train\")\n",
        "plt.plot(history_Adam.history['val_loss'], label = \"test \")\n",
        "\n",
        "\n",
        "\n",
        "plt.legend()\n",
        "plt.show()"
      ],
      "metadata": {
        "colab": {
          "base_uri": "https://localhost:8080/",
          "height": 265
        },
        "id": "QuGCq3jBl3Qp",
        "outputId": "15ef0358-827c-4db2-b2c9-620676662a0b"
      },
      "execution_count": 45,
      "outputs": [
        {
          "output_type": "display_data",
          "data": {
            "text/plain": [
              "<Figure size 432x288 with 1 Axes>"
            ],
            "image/png": "[encoded data removed]"
          },
          "metadata": {
            "needs_background": "light"
          }
        }
      ]
    },
    {
      "cell_type": "code",
      "source": [
        "plt.plot(history_Adam.history['accuracy'], label = \"train\")\n",
        "plt.plot(history_Adam.history['val_accuracy'], label = \"test \")\n",
        "\n",
        "plt.legend()\n",
        "plt.show()\n"
      ],
      "metadata": {
        "colab": {
          "base_uri": "https://localhost:8080/",
          "height": 265
        },
        "id": "aBvg5YzCl4sA",
        "outputId": "1dd6d585-feb7-488e-8a35-ef409c041ab8"
      },
      "execution_count": 46,
      "outputs": [
        {
          "output_type": "display_data",
          "data": {
            "text/plain": [
              "<Figure size 432x288 with 1 Axes>"
            ],
            "image/png": "[encoded data removed]"
          },
          "metadata": {
            "needs_background": "light"
          }
        }
      ]
    },
    {
      "cell_type": "markdown",
      "source": [
        "## Approach 6 - TwoLayer - GRU - with standarization and bigrams\n",
        "## https://www.dialog-21.ru/media/3380/arkhipenkoetal.pdf"
      ],
      "metadata": {
        "id": "4tG4CYm0TXIL"
      }
    },
    {
      "cell_type": "code",
      "source": [
        "from keras.models import Sequential\n",
        "from keras.callbacks import History, EarlyStopping\n",
        "from keras.layers import Embedding, TextVectorization, Dense, LSTM, Input, Bidirectional, GRU\n",
        "\n",
        "vectorize_layer = TextVectorization(\n",
        "    max_tokens=50000,\n",
        "    standardize=\"lower_and_strip_punctuation\",\n",
        "    ngrams = 2\n",
        "  )\n",
        "vectorize_layer.adapt(X_train)\n",
        "\n",
        "history_Adam = History()\n",
        "\n",
        "model = Sequential()\n",
        "\n",
        "# Vectorization\n",
        "model.add(Input(shape=(1,), dtype=tf.string))\n",
        "model.add(vectorize_layer)\n",
        "\n",
        "# Embedding\n",
        "model.add(Embedding(input_dim=len(vectorize_layer.get_vocabulary()), output_dim=64))\n",
        "\n",
        "\n",
        "model.add(Bidirectional(GRU(128, return_sequences=True)))\n",
        "model.add(Bidirectional(GRU(64)))\n",
        "model.add(Dense(32, activation='relu'))\n",
        "model.add(Dense(1, activation='sigmoid'))\n",
        "\n",
        "model.summary()\n"
      ],
      "metadata": {
        "outputId": "86c7c695-8ea2-4517-f4ae-7fca9a1ed94e",
        "colab": {
          "base_uri": "https://localhost:8080/"
        },
        "id": "eyrAjliDmWop"
      },
      "execution_count": 48,
      "outputs": [
        {
          "output_type": "stream",
          "name": "stdout",
          "text": [
            "Model: \"sequential_18\"\n",
            "_________________________________________________________________\n",
            " Layer (type)                Output Shape              Param #   \n",
            "=================================================================\n",
            " text_vectorization_18 (Text  (None, None)             0         \n",
            " Vectorization)                                                  \n",
            "                                                                 \n",
            " embedding_18 (Embedding)    (None, None, 64)          3200000   \n",
            "                                                                 \n",
            " bidirectional_30 (Bidirecti  (None, None, 256)        148992    \n",
            " onal)                                                           \n",
            "                                                                 \n",
            " bidirectional_31 (Bidirecti  (None, 128)              123648    \n",
            " onal)                                                           \n",
            "                                                                 \n",
            " dense_16 (Dense)            (None, 32)                4128      \n",
            "                                                                 \n",
            " dense_17 (Dense)            (None, 1)                 33        \n",
            "                                                                 \n",
            "=================================================================\n",
            "Total params: 3,476,801\n",
            "Trainable params: 3,476,801\n",
            "Non-trainable params: 0\n",
            "_________________________________________________________________\n"
          ]
        }
      ]
    },
    {
      "cell_type": "code",
      "source": [
        "model.compile(loss=\"binary_crossentropy\",optimizer=\"adam\", metrics=[\"accuracy\"])\n",
        "\n",
        "early_stopping = EarlyStopping(monitor='val_loss', patience=6, mode='min', verbose=1)\n",
        "model.fit(X_train, y_train, validation_data=(X_test, y_test), epochs=30, callbacks=[early_stopping, history_Adam])"
      ],
      "metadata": {
        "colab": {
          "base_uri": "https://localhost:8080/"
        },
        "id": "QCn2cxiRmWor",
        "outputId": "863af8ed-9290-4e6b-9bfe-faeed71a0d64"
      },
      "execution_count": 49,
      "outputs": [
        {
          "output_type": "stream",
          "name": "stdout",
          "text": [
            "Epoch 1/30\n",
            "250/250 [==============================] - 129s 496ms/step - loss: 0.6391 - accuracy: 0.6170 - val_loss: 0.7136 - val_accuracy: 0.4984\n",
            "Epoch 2/30\n",
            "250/250 [==============================] - 126s 504ms/step - loss: 0.5619 - accuracy: 0.7125 - val_loss: 0.4579 - val_accuracy: 0.7804\n",
            "Epoch 3/30\n",
            "250/250 [==============================] - 125s 503ms/step - loss: 0.2235 - accuracy: 0.9143 - val_loss: 0.3621 - val_accuracy: 0.8462\n",
            "Epoch 4/30\n",
            "250/250 [==============================] - 127s 510ms/step - loss: 0.0389 - accuracy: 0.9896 - val_loss: 0.4243 - val_accuracy: 0.8453\n",
            "Epoch 5/30\n",
            "250/250 [==============================] - 127s 509ms/step - loss: 0.0207 - accuracy: 0.9949 - val_loss: 0.5747 - val_accuracy: 0.8430\n",
            "Epoch 6/30\n",
            "250/250 [==============================] - 124s 499ms/step - loss: 0.0030 - accuracy: 0.9996 - val_loss: 0.7612 - val_accuracy: 0.8332\n",
            "Epoch 7/30\n",
            "250/250 [==============================] - 124s 498ms/step - loss: 0.0016 - accuracy: 0.9999 - val_loss: 0.8085 - val_accuracy: 0.8411\n",
            "Epoch 8/30\n",
            "250/250 [==============================] - 125s 499ms/step - loss: 0.0014 - accuracy: 0.9999 - val_loss: 0.8592 - val_accuracy: 0.8412\n",
            "Epoch 9/30\n",
            "250/250 [==============================] - 124s 497ms/step - loss: 0.0013 - accuracy: 0.9999 - val_loss: 0.9474 - val_accuracy: 0.8388\n",
            "Epoch 9: early stopping\n"
          ]
        },
        {
          "output_type": "execute_result",
          "data": {
            "text/plain": [
              "<keras.callbacks.History at 0x7f21096e6a50>"
            ]
          },
          "metadata": {},
          "execution_count": 49
        }
      ]
    },
    {
      "cell_type": "code",
      "source": [
        "model.evaluate(X_test,y_test)"
      ],
      "metadata": {
        "colab": {
          "base_uri": "https://localhost:8080/"
        },
        "id": "ZSFrWSvNo6zv",
        "outputId": "00f1226a-8b2d-445e-c8ce-a7c0af4af806"
      },
      "execution_count": 50,
      "outputs": [
        {
          "output_type": "stream",
          "name": "stdout",
          "text": [
            "1000/1000 [==============================] - 83s 83ms/step - loss: 0.9474 - accuracy: 0.8388\n"
          ]
        },
        {
          "output_type": "execute_result",
          "data": {
            "text/plain": [
              "[0.9474169015884399, 0.8387812376022339]"
            ]
          },
          "metadata": {},
          "execution_count": 50
        }
      ]
    },
    {
      "cell_type": "code",
      "source": [
        "import matplotlib.pyplot as plt\n",
        "\n",
        "plt.plot(history_Adam.history['loss'], label = \"train\")\n",
        "plt.plot(history_Adam.history['val_loss'], label = \"test \")\n",
        "\n",
        "\n",
        "plt.legend()\n",
        "plt.show()"
      ],
      "metadata": {
        "colab": {
          "base_uri": "https://localhost:8080/",
          "height": 265
        },
        "id": "jY6U3k6SmWos",
        "outputId": "a649f182-91d2-41f9-821b-c1bd8ce3c6b0"
      },
      "execution_count": 51,
      "outputs": [
        {
          "output_type": "display_data",
          "data": {
            "text/plain": [
              "<Figure size 432x288 with 1 Axes>"
            ],
            "image/png": "[encoded data removed]"
          },
          "metadata": {
            "needs_background": "light"
          }
        }
      ]
    },
    {
      "cell_type": "code",
      "source": [
        "plt.plot(history_Adam.history['accuracy'], label = \"train\")\n",
        "plt.plot(history_Adam.history['val_accuracy'], label = \"test \")\n",
        "\n",
        "plt.legend()\n",
        "plt.show()\n"
      ],
      "metadata": {
        "colab": {
          "base_uri": "https://localhost:8080/",
          "height": 265
        },
        "id": "421aY5BFmWot",
        "outputId": "9ed9e459-0c4f-476b-e0ec-1425c7b817a8"
      },
      "execution_count": 52,
      "outputs": [
        {
          "output_type": "display_data",
          "data": {
            "text/plain": [
              "<Figure size 432x288 with 1 Axes>"
            ],
            "image/png": "[encoded data removed]"
          },
          "metadata": {
            "needs_background": "light"
          }
        }
      ]
    },
    {
      "cell_type": "code",
      "source": [
        ""
      ],
      "metadata": {
        "id": "_fcT6CG6o5zV"
      },
      "execution_count": 52,
      "outputs": []
    }
  ],
  "metadata": {
    "interpreter": {
      "hash": "aee8b7b246df8f9039afb4144a1f6fd8d2ca17a180786b69acc140d282b71a49"
    },
    "kernelspec": {
      "display_name": "Python 3.9.10 64-bit",
      "language": "python",
      "name": "python3"
    },
    "language_info": {
      "codemirror_mode": {
        "name": "ipython",
        "version": 3
      },
      "file_extension": ".py",
      "mimetype": "text/x-python",
      "name": "python",
      "nbconvert_exporter": "python",
      "pygments_lexer": "ipython3",
      "version": "3.9.10"
    },
    "orig_nbformat": 4,
    "colab": {
      "name": "project.ipynb",
      "provenance": []
    },
    "accelerator": "GPU"
  },
  "nbformat": 4,
  "nbformat_minor": 0
}