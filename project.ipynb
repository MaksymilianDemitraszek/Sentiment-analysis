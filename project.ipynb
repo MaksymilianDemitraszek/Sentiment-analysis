{
 "cells": [
  {
   "cell_type": "markdown",
   "metadata": {},
   "source": [
    "## Dataset\n",
    "https://www.kaggle.com/datasets/yasserh/imdb-movie-ratings-sentiment-analysis\n",
    "\n",
    "## References\n",
    "https://aclanthology.org/C14-1008.pdf\n"
   ]
  },
  {
   "cell_type": "code",
   "execution_count": 135,
   "metadata": {},
   "outputs": [
    {
     "data": {
      "text/plain": [
       "(0       I grew up (b. 1965) watching and loving the Th...\n",
       " 1       When I put this movie in my DVD player, and sa...\n",
       " 2       Why do people who do not know what a particula...\n",
       " 3       Even though I have great interest in Biblical ...\n",
       " 4       Im a die hard Dads Army fan and nothing will e...\n",
       "                               ...                        \n",
       " 3995    It aired on TV yesterday, so I decided to chec...\n",
       " 3996    The only reason I bought the DVD was to satisf...\n",
       " 3997    I ordered this extremely rare and highly overr...\n",
       " 3998    A few weeks ago the German broadcaster \"SAT1\" ...\n",
       " 3999    Every second of the film is gorgeous. And that...\n",
       " Name: text, Length: 4000, dtype: object,\n",
       " 0       0\n",
       " 1       0\n",
       " 2       0\n",
       " 3       0\n",
       " 4       1\n",
       "        ..\n",
       " 3995    1\n",
       " 3996    0\n",
       " 3997    0\n",
       " 3998    0\n",
       " 3999    1\n",
       " Name: label, Length: 4000, dtype: int64)"
      ]
     },
     "execution_count": 135,
     "metadata": {},
     "output_type": "execute_result"
    }
   ],
   "source": [
    "shuffle = False\n",
    "import pandas as pd\n",
    "from sklearn.model_selection import train_test_split\n",
    "\n",
    "\n",
    "dataset = pd.read_csv('./movie.csv', sep=\",\")\n",
    "X = dataset[\"text\"]\n",
    "y = dataset[\"label\"]\n",
    "\n",
    "X_train, X_test, y_train, y_test = train_test_split(X, y, test_size=0.9, shuffle=shuffle)\n",
    "\n",
    "X_train, y_train"
   ]
  },
  {
   "cell_type": "markdown",
   "metadata": {},
   "source": [
    "## Approach 1 - RRN"
   ]
  },
  {
   "cell_type": "code",
   "execution_count": 110,
   "metadata": {},
   "outputs": [
    {
     "name": "stdout",
     "output_type": "stream",
     "text": [
      "2.8.0\n",
      "2.8.0\n"
     ]
    }
   ],
   "source": [
    "import tensorflow as tf\n",
    "from tensorflow import keras\n",
    "print(tf.__version__)\n",
    "print(keras.__version__)"
   ]
  },
  {
   "cell_type": "code",
   "execution_count": 137,
   "metadata": {},
   "outputs": [
    {
     "name": "stdout",
     "output_type": "stream",
     "text": [
      "Model: \"sequential_57\"\n",
      "_________________________________________________________________\n",
      " Layer (type)                Output Shape              Param #   \n",
      "=================================================================\n",
      " text_vectorization_57 (Text  (None, None)             0         \n",
      " Vectorization)                                                  \n",
      "                                                                 \n",
      " embedding_42 (Embedding)    (None, None, 32)          1451232   \n",
      "                                                                 \n",
      " lstm_11 (LSTM)              (None, 32)                8320      \n",
      "                                                                 \n",
      " dense_57 (Dense)            (None, 16)                528       \n",
      "                                                                 \n",
      " dense_58 (Dense)            (None, 1)                 17        \n",
      "                                                                 \n",
      "=================================================================\n",
      "Total params: 1,460,097\n",
      "Trainable params: 1,460,097\n",
      "Non-trainable params: 0\n",
      "_________________________________________________________________\n"
     ]
    }
   ],
   "source": [
    "from keras.models import Sequential\n",
    "from keras.callbacks import History, EarlyStopping\n",
    "from keras.layers import Embedding, TextVectorization, Dense, LSTM, Input\n",
    "\n",
    "vectorize_layer = TextVectorization(max_tokens=50000)\n",
    "vectorize_layer.adapt(X_train)\n",
    "\n",
    "history_Adam = History()\n",
    "\n",
    "model = Sequential()\n",
    "\n",
    "# Vectorization\n",
    "model.add(Input(shape=(1,), dtype=tf.string))\n",
    "model.add(vectorize_layer)\n",
    "\n",
    "# Embedding\n",
    "model.add(Embedding(input_dim=len(vectorize_layer.get_vocabulary()), output_dim=32))\n",
    "\n",
    "model.add(LSTM(32, activation='softsign'))\n",
    "model.add(Dense(16, activation='relu'))\n",
    "model.add(Dense(1, activation='sigmoid'))\n",
    "\n",
    "\n",
    "model.summary()\n"
   ]
  },
  {
   "cell_type": "code",
   "execution_count": 139,
   "metadata": {},
   "outputs": [
    {
     "name": "stdout",
     "output_type": "stream",
     "text": [
      "Epoch 1/20\n",
      "125/125 [==============================] - 67s 532ms/step - loss: 0.6929 - accuracy: 0.5155 - val_loss: 0.6938 - val_accuracy: 0.4988\n",
      "Epoch 2/20\n",
      "125/125 [==============================] - 64s 514ms/step - loss: 0.6929 - accuracy: 0.5155 - val_loss: 0.6940 - val_accuracy: 0.4988\n",
      "Epoch 3/20\n",
      "125/125 [==============================] - 68s 544ms/step - loss: 0.6927 - accuracy: 0.5238 - val_loss: 0.6935 - val_accuracy: 0.5020\n",
      "Epoch 4/20\n",
      "125/125 [==============================] - 70s 565ms/step - loss: 0.6921 - accuracy: 0.5278 - val_loss: 0.6933 - val_accuracy: 0.5025\n",
      "Epoch 5/20\n",
      "125/125 [==============================] - 69s 554ms/step - loss: 0.7162 - accuracy: 0.5175 - val_loss: 0.6949 - val_accuracy: 0.4988\n",
      "Epoch 6/20\n",
      "125/125 [==============================] - 63s 508ms/step - loss: 0.6914 - accuracy: 0.5225 - val_loss: 0.6942 - val_accuracy: 0.5009\n",
      "Epoch 7/20\n",
      "125/125 [==============================] - 69s 553ms/step - loss: 0.6897 - accuracy: 0.5297 - val_loss: 0.6933 - val_accuracy: 0.5031\n",
      "Epoch 8/20\n",
      "125/125 [==============================] - 67s 538ms/step - loss: 0.6846 - accuracy: 0.5310 - val_loss: 0.6972 - val_accuracy: 0.5029\n",
      "Epoch 9/20\n",
      "125/125 [==============================] - 64s 518ms/step - loss: 0.6815 - accuracy: 0.5307 - val_loss: 0.6937 - val_accuracy: 0.5034\n",
      "Epoch 10/20\n",
      "125/125 [==============================] - 70s 559ms/step - loss: 0.6773 - accuracy: 0.5293 - val_loss: 0.6950 - val_accuracy: 0.5037\n",
      "Epoch 11/20\n",
      "125/125 [==============================] - 68s 546ms/step - loss: 0.6771 - accuracy: 0.5318 - val_loss: 0.6958 - val_accuracy: 0.5041\n",
      "Epoch 12/20\n",
      "125/125 [==============================] - 65s 521ms/step - loss: 0.6758 - accuracy: 0.5347 - val_loss: 0.6965 - val_accuracy: 0.5045\n",
      "Epoch 13/20\n",
      "125/125 [==============================] - 66s 529ms/step - loss: 0.6751 - accuracy: 0.5330 - val_loss: 0.6966 - val_accuracy: 0.5045\n",
      "Epoch 14/20\n",
      "125/125 [==============================] - 65s 522ms/step - loss: 0.6749 - accuracy: 0.5315 - val_loss: 0.6993 - val_accuracy: 0.5038\n",
      "Epoch 15/20\n",
      "125/125 [==============================] - 65s 519ms/step - loss: 0.6747 - accuracy: 0.5337 - val_loss: 0.6965 - val_accuracy: 0.5054\n",
      "Epoch 16/20\n",
      "125/125 [==============================] - 66s 533ms/step - loss: 0.6709 - accuracy: 0.5343 - val_loss: 0.6985 - val_accuracy: 0.5051\n",
      "Epoch 17/20\n",
      "125/125 [==============================] - 65s 521ms/step - loss: 0.6726 - accuracy: 0.5328 - val_loss: 0.7004 - val_accuracy: 0.5054\n",
      "Epoch 18/20\n",
      "125/125 [==============================] - 65s 520ms/step - loss: 0.6711 - accuracy: 0.5345 - val_loss: 0.7150 - val_accuracy: 0.5045\n",
      "Epoch 19/20\n",
      "125/125 [==============================] - 66s 527ms/step - loss: 0.6719 - accuracy: 0.5325 - val_loss: 0.6991 - val_accuracy: 0.5049\n",
      "Epoch 20/20\n",
      "125/125 [==============================] - 69s 551ms/step - loss: 0.6727 - accuracy: 0.5332 - val_loss: 0.6974 - val_accuracy: 0.5046\n"
     ]
    },
    {
     "data": {
      "text/plain": [
       "<keras.callbacks.History at 0x142ee0430>"
      ]
     },
     "execution_count": 139,
     "metadata": {},
     "output_type": "execute_result"
    }
   ],
   "source": [
    "model.compile(loss=\"binary_crossentropy\",optimizer=\"adam\", metrics=[\"accuracy\"])\n",
    "\n",
    "# early_stopping = EarlyStopping(monitor='val_loss', patience=3, mode='min', verbose=1)\n",
    "model.fit(X_train, y_train, validation_data=(X_test, y_test), epochs=20, callbacks=[history_Adam])"
   ]
  },
  {
   "cell_type": "code",
   "execution_count": 140,
   "metadata": {},
   "outputs": [
    {
     "data": {
      "image/png": "[encoded data removed]",
      "text/plain": [
       "<Figure size 432x288 with 1 Axes>"
      ]
     },
     "metadata": {
      "needs_background": "light"
     },
     "output_type": "display_data"
    }
   ],
   "source": [
    "import matplotlib.pyplot as plt\n",
    "\n",
    "plt.plot(history_Adam.history['loss'], label = \"train\")\n",
    "plt.plot(history_Adam.history['val_loss'], label = \"test \")\n",
    "\n",
    "\n",
    "\n",
    "plt.legend()\n",
    "plt.show()"
   ]
  },
  {
   "cell_type": "code",
   "execution_count": 141,
   "metadata": {},
   "outputs": [
    {
     "data": {
      "image/png": "[encoded data removed]",
      "text/plain": [
       "<Figure size 432x288 with 1 Axes>"
      ]
     },
     "metadata": {
      "needs_background": "light"
     },
     "output_type": "display_data"
    }
   ],
   "source": [
    "plt.plot(history_Adam.history['accuracy'], label = \"train\")\n",
    "plt.plot(history_Adam.history['val_accuracy'], label = \"test \")\n",
    "\n",
    "plt.legend()\n",
    "plt.show()\n"
   ]
  },
  {
   "cell_type": "markdown",
   "metadata": {},
   "source": [
    "## Approach 2 - Bidirectional\n"
   ]
  },
  {
   "cell_type": "code",
   "execution_count": 142,
   "metadata": {},
   "outputs": [
    {
     "name": "stdout",
     "output_type": "stream",
     "text": [
      "Model: \"sequential_58\"\n",
      "_________________________________________________________________\n",
      " Layer (type)                Output Shape              Param #   \n",
      "=================================================================\n",
      " text_vectorization_58 (Text  (None, None)             0         \n",
      " Vectorization)                                                  \n",
      "                                                                 \n",
      " embedding_43 (Embedding)    (None, None, 64)          2902464   \n",
      "                                                                 \n",
      " dense_59 (Dense)            (None, None, 128)         8320      \n",
      "                                                                 \n",
      " dense_60 (Dense)            (None, None, 64)          8256      \n",
      "                                                                 \n",
      " dense_61 (Dense)            (None, None, 16)          1040      \n",
      "                                                                 \n",
      " dense_62 (Dense)            (None, None, 1)           17        \n",
      "                                                                 \n",
      "=================================================================\n",
      "Total params: 2,920,097\n",
      "Trainable params: 2,920,097\n",
      "Non-trainable params: 0\n",
      "_________________________________________________________________\n"
     ]
    }
   ],
   "source": [
    "from keras.models import Sequential\n",
    "from keras.callbacks import History, EarlyStopping\n",
    "from keras.layers import Embedding, TextVectorization, Dense, LSTM, Input\n",
    "\n",
    "vectorize_layer = TextVectorization(max_tokens=50000)\n",
    "vectorize_layer.adapt(X_train)\n",
    "\n",
    "history_Adam = History()\n",
    "\n",
    "model = Sequential()\n",
    "\n",
    "# Vectorization\n",
    "model.add(Input(shape=(1,), dtype=tf.string))\n",
    "model.add(vectorize_layer)\n",
    "\n",
    "# Embedding\n",
    "model.add(Embedding(input_dim=len(vectorize_layer.get_vocabulary()), output_dim=64))\n",
    "\n",
    "model.add(Dense(128, activation='relu'))\n",
    "model.add(Dense(64, activation='relu'))\n",
    "model.add(Dense(16, activation='relu'))\n",
    "model.add(Dense(1, activation='sigmoid'))\n",
    "\n",
    "\n",
    "model.summary()\n"
   ]
  },
  {
   "cell_type": "code",
   "execution_count": 143,
   "metadata": {},
   "outputs": [
    {
     "name": "stdout",
     "output_type": "stream",
     "text": [
      "Epoch 1/20\n",
      "125/125 [==============================] - 22s 175ms/step - loss: 0.6927 - accuracy: 0.5153 - val_loss: 0.6920 - val_accuracy: 0.5129\n",
      "Epoch 2/20\n",
      "125/125 [==============================] - 21s 168ms/step - loss: 0.6897 - accuracy: 0.5252 - val_loss: 0.6907 - val_accuracy: 0.5138\n",
      "Epoch 3/20\n",
      "125/125 [==============================] - 21s 169ms/step - loss: 0.6860 - accuracy: 0.5357 - val_loss: 0.6924 - val_accuracy: 0.5149\n",
      "Epoch 4/20\n",
      "125/125 [==============================] - 22s 177ms/step - loss: 0.6830 - accuracy: 0.5377 - val_loss: 0.6939 - val_accuracy: 0.5147\n",
      "Epoch 5/20\n",
      "125/125 [==============================] - 24s 196ms/step - loss: 0.6814 - accuracy: 0.5378 - val_loss: 0.6943 - val_accuracy: 0.5141\n",
      "Epoch 6/20\n",
      "125/125 [==============================] - 24s 196ms/step - loss: 0.6795 - accuracy: 0.5387 - val_loss: 0.6967 - val_accuracy: 0.5143\n",
      "Epoch 7/20\n",
      "125/125 [==============================] - 23s 188ms/step - loss: 0.6792 - accuracy: 0.5387 - val_loss: 0.6976 - val_accuracy: 0.5148\n",
      "Epoch 8/20\n",
      "125/125 [==============================] - 23s 185ms/step - loss: 0.6785 - accuracy: 0.5389 - val_loss: 0.6996 - val_accuracy: 0.5145\n",
      "Epoch 9/20\n",
      "125/125 [==============================] - 23s 185ms/step - loss: 0.6780 - accuracy: 0.5391 - val_loss: 0.7001 - val_accuracy: 0.5143\n",
      "Epoch 10/20\n",
      "125/125 [==============================] - 23s 185ms/step - loss: 0.6777 - accuracy: 0.5385 - val_loss: 0.7018 - val_accuracy: 0.5150\n",
      "Epoch 11/20\n",
      "125/125 [==============================] - 24s 193ms/step - loss: 0.6775 - accuracy: 0.5391 - val_loss: 0.7034 - val_accuracy: 0.5142\n",
      "Epoch 12/20\n",
      "125/125 [==============================] - 23s 188ms/step - loss: 0.6776 - accuracy: 0.5402 - val_loss: 0.7042 - val_accuracy: 0.5146\n",
      "Epoch 13/20\n",
      "125/125 [==============================] - 23s 185ms/step - loss: 0.6772 - accuracy: 0.5398 - val_loss: 0.7054 - val_accuracy: 0.5146\n",
      "Epoch 14/20\n",
      "125/125 [==============================] - 23s 186ms/step - loss: 0.6775 - accuracy: 0.5363 - val_loss: 0.7085 - val_accuracy: 0.5141\n",
      "Epoch 15/20\n",
      "125/125 [==============================] - 24s 189ms/step - loss: 0.6771 - accuracy: 0.5391 - val_loss: 0.7083 - val_accuracy: 0.5145\n",
      "Epoch 16/20\n",
      "125/125 [==============================] - 24s 191ms/step - loss: 0.6770 - accuracy: 0.5402 - val_loss: 0.7081 - val_accuracy: 0.5149\n",
      "Epoch 17/20\n",
      "125/125 [==============================] - 23s 188ms/step - loss: 0.6772 - accuracy: 0.5380 - val_loss: 0.7100 - val_accuracy: 0.5147\n",
      "Epoch 18/20\n",
      "125/125 [==============================] - 24s 191ms/step - loss: 0.6767 - accuracy: 0.5400 - val_loss: 0.7101 - val_accuracy: 0.5146\n",
      "Epoch 19/20\n",
      "125/125 [==============================] - 23s 187ms/step - loss: 0.6767 - accuracy: 0.5395 - val_loss: 0.7107 - val_accuracy: 0.5150\n",
      "Epoch 20/20\n",
      "125/125 [==============================] - 23s 189ms/step - loss: 0.6767 - accuracy: 0.5390 - val_loss: 0.7119 - val_accuracy: 0.5147\n"
     ]
    },
    {
     "data": {
      "text/plain": [
       "<keras.callbacks.History at 0x13ca80430>"
      ]
     },
     "execution_count": 143,
     "metadata": {},
     "output_type": "execute_result"
    }
   ],
   "source": [
    "model.compile(loss=\"binary_crossentropy\",optimizer=\"adam\", metrics=[\"accuracy\"])\n",
    "\n",
    "# early_stopping = EarlyStopping(monitor='val_loss', patience=3, mode='min', verbose=1)\n",
    "model.fit(X_train, y_train, validation_data=(X_test, y_test), epochs=20, callbacks=[history_Adam])"
   ]
  },
  {
   "cell_type": "code",
   "execution_count": 144,
   "metadata": {},
   "outputs": [
    {
     "data": {
      "image/png": "[encoded data removed]",
      "text/plain": [
       "<Figure size 432x288 with 1 Axes>"
      ]
     },
     "metadata": {
      "needs_background": "light"
     },
     "output_type": "display_data"
    }
   ],
   "source": [
    "import matplotlib.pyplot as plt\n",
    "\n",
    "plt.plot(history_Adam.history['loss'], label = \"train\")\n",
    "plt.plot(history_Adam.history['val_loss'], label = \"test \")\n",
    "\n",
    "\n",
    "\n",
    "plt.legend()\n",
    "plt.show()"
   ]
  },
  {
   "cell_type": "code",
   "execution_count": 145,
   "metadata": {},
   "outputs": [
    {
     "data": {
      "image/png": "[encoded data removed]",
      "text/plain": [
       "<Figure size 432x288 with 1 Axes>"
      ]
     },
     "metadata": {
      "needs_background": "light"
     },
     "output_type": "display_data"
    }
   ],
   "source": [
    "plt.plot(history_Adam.history['accuracy'], label = \"train\")\n",
    "plt.plot(history_Adam.history['val_accuracy'], label = \"test \")\n",
    "\n",
    "plt.legend()\n",
    "plt.show()\n"
   ]
  },
  {
   "cell_type": "markdown",
   "metadata": {},
   "source": [
    "## Approach 3 - GRU"
   ]
  },
  {
   "cell_type": "code",
   "execution_count": null,
   "metadata": {},
   "outputs": [],
   "source": [
    "from keras.models import Sequential\n",
    "from keras.callbacks import History, EarlyStopping\n",
    "from keras.layers import Embedding, TextVectorization, Dense, LSTM, Input, Bidirectional\n",
    "\n",
    "vectorize_layer = TextVectorization(max_tokens=50000)\n",
    "vectorize_layer.adapt(X_train)\n",
    "\n",
    "history_Adam = History()\n",
    "\n",
    "model = Sequential()\n",
    "\n",
    "# Vectorization\n",
    "model.add(Input(shape=(1,), dtype=tf.string))\n",
    "model.add(vectorize_layer)\n",
    "\n",
    "# Embedding\n",
    "model.add(Embedding(input_dim=len(vectorize_layer.get_vocabulary()), output_dim=64))\n",
    "\n",
    "\n",
    "\n",
    "model = tf.keras.Sequential([\n",
    "    tf.keras.layers.Dense(24, activation='relu'),\n",
    "    tf.keras.layers.Dense(1, activation='sigmoid')\n",
    "])\n",
    "\n",
    "model.add(Bidirectional(tf.keras.layers.GRU(32)))\n",
    "model.add(Dense(24, activation='relu'))\n",
    "model.add(Dense(1, activation='sigmoid'))\n",
    "\n",
    "\n",
    "model.summary()\n"
   ]
  },
  {
   "cell_type": "code",
   "execution_count": null,
   "metadata": {},
   "outputs": [],
   "source": [
    "model.compile(loss=\"binary_crossentropy\",optimizer=\"adam\", metrics=[\"accuracy\"])\n",
    "\n",
    "# early_stopping = EarlyStopping(monitor='val_loss', patience=3, mode='min', verbose=1)\n",
    "model.fit(X_train, y_train, validation_data=(X_test, y_test), epochs=20, callbacks=[history_Adam])"
   ]
  },
  {
   "cell_type": "code",
   "execution_count": null,
   "metadata": {},
   "outputs": [],
   "source": [
    "import matplotlib.pyplot as plt\n",
    "\n",
    "plt.plot(history_Adam.history['loss'], label = \"train\")\n",
    "plt.plot(history_Adam.history['val_loss'], label = \"test \")\n",
    "\n",
    "\n",
    "\n",
    "plt.legend()\n",
    "plt.show()"
   ]
  },
  {
   "cell_type": "code",
   "execution_count": null,
   "metadata": {},
   "outputs": [],
   "source": [
    "plt.plot(history_Adam.history['accuracy'], label = \"train\")\n",
    "plt.plot(history_Adam.history['val_accuracy'], label = \"test \")\n",
    "\n",
    "plt.legend()\n",
    "plt.show()\n"
   ]
  }
 ],
 "metadata": {
  "interpreter": {
   "hash": "aee8b7b246df8f9039afb4144a1f6fd8d2ca17a180786b69acc140d282b71a49"
  },
  "kernelspec": {
   "display_name": "Python 3.9.10 64-bit",
   "language": "python",
   "name": "python3"
  },
  "language_info": {
   "codemirror_mode": {
    "name": "ipython",
    "version": 3
   },
   "file_extension": ".py",
   "mimetype": "text/x-python",
   "name": "python",
   "nbconvert_exporter": "python",
   "pygments_lexer": "ipython3",
   "version": "3.9.10"
  },
  "orig_nbformat": 4
 },
 "nbformat": 4,
 "nbformat_minor": 2
}
