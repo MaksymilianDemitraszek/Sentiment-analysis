{
  "cells": [
    {
      "cell_type": "code",
      "execution_count": 1,
      "metadata": {
        "id": "syaOHHBT_dfh",
        "outputId": "9e4ca22c-dfb5-40c5-ca82-8dda4a6568df",
        "colab": {
          "base_uri": "https://localhost:8080/"
        }
      },
      "outputs": [
        {
          "output_type": "stream",
          "name": "stdout",
          "text": [
            "Mounted at /content/drive\n"
          ]
        }
      ],
      "source": [
        "from google.colab import drive\n",
        "drive.mount('/content/drive')"
      ]
    },
    {
      "cell_type": "code",
      "execution_count": 2,
      "metadata": {
        "id": "RV1qbkjR_dfj",
        "outputId": "45919402-922e-4d70-9965-f345730a4c6e",
        "colab": {
          "base_uri": "https://localhost:8080/"
        }
      },
      "outputs": [
        {
          "output_type": "stream",
          "name": "stdout",
          "text": [
            "2.8.2\n",
            "2.8.0\n"
          ]
        }
      ],
      "source": [
        "import tensorflow as tf\n",
        "from tensorflow import keras\n",
        "print(tf.__version__)\n",
        "print(keras.__version__)"
      ]
    },
    {
      "cell_type": "code",
      "execution_count": 3,
      "metadata": {
        "id": "_SX3amk8_dfl",
        "outputId": "ca25621b-630a-410f-e2df-afad02a5db4a",
        "colab": {
          "base_uri": "https://localhost:8080/"
        }
      },
      "outputs": [
        {
          "output_type": "execute_result",
          "data": {
            "text/plain": [
              "(0       I grew up (b. 1965) watching and loving the Th...\n",
              " 1       When I put this movie in my DVD player, and sa...\n",
              " 2       Why do people who do not know what a particula...\n",
              " 3       Even though I have great interest in Biblical ...\n",
              " 4       Im a die hard Dads Army fan and nothing will e...\n",
              "                               ...                        \n",
              " 7995    *May contain spoilers*<br /><br />I bent over ...\n",
              " 7996    Be very afraid of anyone who likes this film. ...\n",
              " 7997    Can they possibly get any worse than this? Pro...\n",
              " 7998    I give it a 2, because of the beautiful Medite...\n",
              " 7999    I'm not a fan of Adam Sandler. In fact, I don'...\n",
              " Name: text, Length: 8000, dtype: object, 0       0\n",
              " 1       0\n",
              " 2       0\n",
              " 3       0\n",
              " 4       1\n",
              "        ..\n",
              " 7995    0\n",
              " 7996    0\n",
              " 7997    0\n",
              " 7998    0\n",
              " 7999    1\n",
              " Name: label, Length: 8000, dtype: int64)"
            ]
          },
          "metadata": {},
          "execution_count": 3
        }
      ],
      "source": [
        "shuffle = False\n",
        "import pandas as pd\n",
        "from sklearn.model_selection import train_test_split\n",
        "\n",
        "\n",
        "dataset = pd.read_csv('/content/drive/MyDrive/datasets/movie.csv', sep=\",\")\n",
        "X = dataset[\"text\"]\n",
        "y = dataset[\"label\"]\n",
        "\n",
        "X_train, X_test, y_train, y_test = train_test_split(X, y, test_size=0.8, shuffle=shuffle)\n",
        "\n",
        "X_train, y_train"
      ]
    },
    {
      "cell_type": "code",
      "execution_count": 4,
      "metadata": {
        "id": "lAfKrAxP_dfm",
        "outputId": "842e7f6a-d350-43a8-8a2c-0b8c71b8a48d",
        "colab": {
          "base_uri": "https://localhost:8080/"
        }
      },
      "outputs": [
        {
          "output_type": "stream",
          "name": "stdout",
          "text": [
            "WARNING:tensorflow:Layer lstm will not use cuDNN kernels since it doesn't meet the criteria. It will use a generic GPU kernel as fallback when running on GPU.\n",
            "WARNING:tensorflow:Layer lstm will not use cuDNN kernels since it doesn't meet the criteria. It will use a generic GPU kernel as fallback when running on GPU.\n",
            "WARNING:tensorflow:Layer lstm will not use cuDNN kernels since it doesn't meet the criteria. It will use a generic GPU kernel as fallback when running on GPU.\n",
            "Model: \"sequential\"\n",
            "_________________________________________________________________\n",
            " Layer (type)                Output Shape              Param #   \n",
            "=================================================================\n",
            " text_vectorization (TextVec  (None, None)             0         \n",
            " torization)                                                     \n",
            "                                                                 \n",
            " embedding (Embedding)       (None, None, 32)          1600000   \n",
            "                                                                 \n",
            " bidirectional (Bidirectiona  (None, 128)              49664     \n",
            " l)                                                              \n",
            "                                                                 \n",
            " dense (Dense)               (None, 32)                4128      \n",
            "                                                                 \n",
            " dense_1 (Dense)             (None, 1)                 33        \n",
            "                                                                 \n",
            "=================================================================\n",
            "Total params: 1,653,825\n",
            "Trainable params: 1,653,825\n",
            "Non-trainable params: 0\n",
            "_________________________________________________________________\n"
          ]
        }
      ],
      "source": [
        "from keras.models import Sequential\n",
        "from keras.callbacks import History, EarlyStopping\n",
        "from keras.layers import Embedding, TextVectorization, Dense, LSTM, Input, Bidirectional\n",
        "\n",
        "vectorize_layer = TextVectorization(\n",
        "    max_tokens=50000,\n",
        "    standardize=\"lower_and_strip_punctuation\"\n",
        ")\n",
        "vectorize_layer.adapt(X_train)\n",
        "\n",
        "history_Adam = History()\n",
        "\n",
        "model = Sequential()\n",
        "\n",
        "# Vectorization\n",
        "model.add(Input(shape=(1,), dtype=tf.string))\n",
        "model.add(vectorize_layer)\n",
        "\n",
        "# Embedding\n",
        "model.add(Embedding(input_dim=len(vectorize_layer.get_vocabulary()), output_dim=32))\n",
        "\n",
        "model.add(Bidirectional(LSTM(64, activation='softsign')))\n",
        "model.add(Dense(32, activation='relu'))\n",
        "model.add(Dense(1, activation='sigmoid'))\n",
        "\n",
        "\n",
        "model.summary()\n"
      ]
    },
    {
      "cell_type": "code",
      "execution_count": 5,
      "metadata": {
        "id": "6W2cT54H_dfo",
        "outputId": "ce204f28-3bb7-4ec2-e237-2a0a0c894d02",
        "colab": {
          "base_uri": "https://localhost:8080/"
        }
      },
      "outputs": [
        {
          "output_type": "stream",
          "name": "stdout",
          "text": [
            "Epoch 1/20\n",
            "80/80 [==============================] - 322s 4s/step - loss: 0.6737 - accuracy: 0.5771 - val_loss: 0.6612 - val_accuracy: 0.5679\n",
            "Epoch 2/20\n",
            "80/80 [==============================] - 316s 4s/step - loss: 0.4625 - accuracy: 0.8090 - val_loss: 0.4668 - val_accuracy: 0.7903\n",
            "Epoch 3/20\n",
            "80/80 [==============================] - 300s 4s/step - loss: 0.2440 - accuracy: 0.9120 - val_loss: 0.6775 - val_accuracy: 0.7535\n",
            "Epoch 4/20\n",
            "80/80 [==============================] - 305s 4s/step - loss: 0.1415 - accuracy: 0.9546 - val_loss: 0.5814 - val_accuracy: 0.7987\n",
            "Epoch 5/20\n",
            "80/80 [==============================] - 317s 4s/step - loss: 0.0654 - accuracy: 0.9820 - val_loss: 0.7912 - val_accuracy: 0.7946\n",
            "Epoch 5: early stopping\n"
          ]
        },
        {
          "output_type": "execute_result",
          "data": {
            "text/plain": [
              "<keras.callbacks.History at 0x7fa119a45350>"
            ]
          },
          "metadata": {},
          "execution_count": 5
        }
      ],
      "source": [
        "model.compile(loss=\"binary_crossentropy\",optimizer=\"adam\", metrics=[\"accuracy\"])\n",
        "\n",
        "early_stopping = EarlyStopping(monitor='val_loss', patience=3, mode='min', verbose=1)\n",
        "model.fit(X_train, y_train, validation_data=(X_test, y_test), epochs=20, batch_size=100, callbacks=[history_Adam, early_stopping])"
      ]
    },
    {
      "cell_type": "code",
      "execution_count": 6,
      "metadata": {
        "id": "pz8P2izu_dfo",
        "outputId": "a891a4c1-191b-4981-d871-17cca042bf7d",
        "colab": {
          "base_uri": "https://localhost:8080/",
          "height": 265
        }
      },
      "outputs": [
        {
          "output_type": "display_data",
          "data": {
            "text/plain": [
              "<Figure size 432x288 with 1 Axes>"
            ],
            "image/png": "[encoded data removed]"
          },
          "metadata": {
            "needs_background": "light"
          }
        }
      ],
      "source": [
        "import matplotlib.pyplot as plt\n",
        "\n",
        "plt.plot(history_Adam.history['loss'], label = \"train\")\n",
        "plt.plot(history_Adam.history['val_loss'], label = \"test \")\n",
        "\n",
        "plt.legend()\n",
        "plt.show()"
      ]
    },
    {
      "cell_type": "code",
      "execution_count": 7,
      "metadata": {
        "id": "5mKNZWoq_dfp",
        "outputId": "c3c59b6d-1e34-497b-d542-e1e6dc3a5391",
        "colab": {
          "base_uri": "https://localhost:8080/",
          "height": 268
        }
      },
      "outputs": [
        {
          "output_type": "display_data",
          "data": {
            "text/plain": [
              "<Figure size 432x288 with 1 Axes>"
            ],
            "image/png": "[encoded data removed]"
          },
          "metadata": {
            "needs_background": "light"
          }
        }
      ],
      "source": [
        "plt.plot(history_Adam.history['accuracy'], label = \"train\")\n",
        "plt.plot(history_Adam.history['val_accuracy'], label = \"test \")\n",
        "\n",
        "plt.legend()\n",
        "plt.show()\n"
      ]
    },
    {
      "cell_type": "code",
      "source": [
        "model.evaluate(X_test,y_test)"
      ],
      "metadata": {
        "id": "hbz2M6gAB52H",
        "outputId": "c3847229-0044-4bba-d6dd-209f7b04f8b6",
        "colab": {
          "base_uri": "https://localhost:8080/"
        }
      },
      "execution_count": 8,
      "outputs": [
        {
          "output_type": "stream",
          "name": "stdout",
          "text": [
            "1000/1000 [==============================] - 180s 180ms/step - loss: 0.7912 - accuracy: 0.7946\n"
          ]
        },
        {
          "output_type": "execute_result",
          "data": {
            "text/plain": [
              "[0.7911996841430664, 0.7945937514305115]"
            ]
          },
          "metadata": {},
          "execution_count": 8
        }
      ]
    },
    {
      "cell_type": "code",
      "source": [
        ""
      ],
      "metadata": {
        "id": "1SxPwKWtB8As"
      },
      "execution_count": null,
      "outputs": []
    }
  ],
  "metadata": {
    "interpreter": {
      "hash": "aee8b7b246df8f9039afb4144a1f6fd8d2ca17a180786b69acc140d282b71a49"
    },
    "kernelspec": {
      "display_name": "Python 3.9.10 64-bit",
      "language": "python",
      "name": "python3"
    },
    "language_info": {
      "codemirror_mode": {
        "name": "ipython",
        "version": 3
      },
      "file_extension": ".py",
      "mimetype": "text/x-python",
      "name": "python",
      "nbconvert_exporter": "python",
      "pygments_lexer": "ipython3",
      "version": "3.9.10"
    },
    "orig_nbformat": 4,
    "colab": {
      "name": "02_lstm.ipynb",
      "provenance": []
    },
    "accelerator": "GPU"
  },
  "nbformat": 4,
  "nbformat_minor": 0
}