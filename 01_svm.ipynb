{
  "cells": [
    {
      "cell_type": "code",
      "source": [
        "from google.colab import drive\n",
        "drive.mount('/content/drive')"
      ],
      "metadata": {
        "id": "X7Hoju25yB0Z",
        "outputId": "2159452b-4bdf-4e75-eaf2-6e9b28f43a76",
        "colab": {
          "base_uri": "https://localhost:8080/"
        }
      },
      "execution_count": 1,
      "outputs": [
        {
          "output_type": "stream",
          "name": "stdout",
          "text": [
            "Mounted at /content/drive\n"
          ]
        }
      ]
    },
    {
      "cell_type": "code",
      "execution_count": 2,
      "metadata": {
        "id": "NI6FehFwx_y0",
        "outputId": "4dd23902-c7f4-4af5-e9c8-3c9d242639df",
        "colab": {
          "base_uri": "https://localhost:8080/"
        }
      },
      "outputs": [
        {
          "output_type": "execute_result",
          "data": {
            "text/plain": [
              "(0       I grew up (b. 1965) watching and loving the Th...\n",
              " 1       When I put this movie in my DVD player, and sa...\n",
              " 2       Why do people who do not know what a particula...\n",
              " 3       Even though I have great interest in Biblical ...\n",
              " 4       Im a die hard Dads Army fan and nothing will e...\n",
              "                               ...                        \n",
              " 3995    It aired on TV yesterday, so I decided to chec...\n",
              " 3996    The only reason I bought the DVD was to satisf...\n",
              " 3997    I ordered this extremely rare and highly overr...\n",
              " 3998    A few weeks ago the German broadcaster \"SAT1\" ...\n",
              " 3999    Every second of the film is gorgeous. And that...\n",
              " Name: text, Length: 4000, dtype: object, 0       0\n",
              " 1       0\n",
              " 2       0\n",
              " 3       0\n",
              " 4       1\n",
              "        ..\n",
              " 3995    1\n",
              " 3996    0\n",
              " 3997    0\n",
              " 3998    0\n",
              " 3999    1\n",
              " Name: label, Length: 4000, dtype: int64)"
            ]
          },
          "metadata": {},
          "execution_count": 2
        }
      ],
      "source": [
        "shuffle = False\n",
        "import pandas as pd\n",
        "from sklearn.model_selection import train_test_split\n",
        "\n",
        "\n",
        "dataset = pd.read_csv('/content/drive/MyDrive/datasets/movie.csv', sep=\",\")\n",
        "X = dataset[\"text\"]\n",
        "y = dataset[\"label\"]\n",
        "\n",
        "X_train, X_test, y_train, y_test = train_test_split(X, y, test_size=0.9, shuffle=shuffle)\n",
        "\n",
        "X_train, y_train"
      ]
    },
    {
      "cell_type": "code",
      "execution_count": 4,
      "metadata": {
        "id": "q0xjpfIBx_y2",
        "outputId": "19aa4257-3fa9-416d-8145-18dedc41d172",
        "colab": {
          "base_uri": "https://localhost:8080/"
        }
      },
      "outputs": [
        {
          "output_type": "stream",
          "name": "stdout",
          "text": [
            "Fitting 5 folds for each of 24 candidates, totalling 120 fits\n",
            "[CV 1/5; 1/24] START SVM__C=0.001, SVM__gamma=0.001, SVM__kernel=rbf, TF__stop_words=english\n",
            "[CV 1/5; 1/24] END SVM__C=0.001, SVM__gamma=0.001, SVM__kernel=rbf, TF__stop_words=english;, score=0.516 total time=  11.9s\n",
            "[CV 2/5; 1/24] START SVM__C=0.001, SVM__gamma=0.001, SVM__kernel=rbf, TF__stop_words=english\n",
            "[CV 2/5; 1/24] END SVM__C=0.001, SVM__gamma=0.001, SVM__kernel=rbf, TF__stop_words=english;, score=0.516 total time=  15.3s\n",
            "[CV 3/5; 1/24] START SVM__C=0.001, SVM__gamma=0.001, SVM__kernel=rbf, TF__stop_words=english\n",
            "[CV 3/5; 1/24] END SVM__C=0.001, SVM__gamma=0.001, SVM__kernel=rbf, TF__stop_words=english;, score=0.515 total time=  19.1s\n",
            "[CV 4/5; 1/24] START SVM__C=0.001, SVM__gamma=0.001, SVM__kernel=rbf, TF__stop_words=english\n",
            "[CV 4/5; 1/24] END SVM__C=0.001, SVM__gamma=0.001, SVM__kernel=rbf, TF__stop_words=english;, score=0.515 total time=  14.2s\n",
            "[CV 5/5; 1/24] START SVM__C=0.001, SVM__gamma=0.001, SVM__kernel=rbf, TF__stop_words=english\n",
            "[CV 5/5; 1/24] END SVM__C=0.001, SVM__gamma=0.001, SVM__kernel=rbf, TF__stop_words=english;, score=0.515 total time=  15.0s\n",
            "[CV 1/5; 2/24] START SVM__C=0.001, SVM__gamma=0.001, SVM__kernel=linear, TF__stop_words=english\n",
            "[CV 1/5; 2/24] END SVM__C=0.001, SVM__gamma=0.001, SVM__kernel=linear, TF__stop_words=english;, score=0.516 total time=  13.4s\n",
            "[CV 2/5; 2/24] START SVM__C=0.001, SVM__gamma=0.001, SVM__kernel=linear, TF__stop_words=english\n",
            "[CV 2/5; 2/24] END SVM__C=0.001, SVM__gamma=0.001, SVM__kernel=linear, TF__stop_words=english;, score=0.516 total time=  11.4s\n",
            "[CV 3/5; 2/24] START SVM__C=0.001, SVM__gamma=0.001, SVM__kernel=linear, TF__stop_words=english\n",
            "[CV 3/5; 2/24] END SVM__C=0.001, SVM__gamma=0.001, SVM__kernel=linear, TF__stop_words=english;, score=0.515 total time=  11.8s\n",
            "[CV 4/5; 2/24] START SVM__C=0.001, SVM__gamma=0.001, SVM__kernel=linear, TF__stop_words=english\n",
            "[CV 4/5; 2/24] END SVM__C=0.001, SVM__gamma=0.001, SVM__kernel=linear, TF__stop_words=english;, score=0.515 total time=  11.5s\n",
            "[CV 5/5; 2/24] START SVM__C=0.001, SVM__gamma=0.001, SVM__kernel=linear, TF__stop_words=english\n",
            "[CV 5/5; 2/24] END SVM__C=0.001, SVM__gamma=0.001, SVM__kernel=linear, TF__stop_words=english;, score=0.515 total time=  11.5s\n",
            "[CV 1/5; 3/24] START SVM__C=0.001, SVM__gamma=0.1, SVM__kernel=rbf, TF__stop_words=english\n",
            "[CV 1/5; 3/24] END SVM__C=0.001, SVM__gamma=0.1, SVM__kernel=rbf, TF__stop_words=english;, score=0.516 total time=  12.2s\n",
            "[CV 2/5; 3/24] START SVM__C=0.001, SVM__gamma=0.1, SVM__kernel=rbf, TF__stop_words=english\n",
            "[CV 2/5; 3/24] END SVM__C=0.001, SVM__gamma=0.1, SVM__kernel=rbf, TF__stop_words=english;, score=0.516 total time=  11.9s\n",
            "[CV 3/5; 3/24] START SVM__C=0.001, SVM__gamma=0.1, SVM__kernel=rbf, TF__stop_words=english\n",
            "[CV 3/5; 3/24] END SVM__C=0.001, SVM__gamma=0.1, SVM__kernel=rbf, TF__stop_words=english;, score=0.515 total time=  11.9s\n",
            "[CV 4/5; 3/24] START SVM__C=0.001, SVM__gamma=0.1, SVM__kernel=rbf, TF__stop_words=english\n",
            "[CV 4/5; 3/24] END SVM__C=0.001, SVM__gamma=0.1, SVM__kernel=rbf, TF__stop_words=english;, score=0.515 total time=  11.9s\n",
            "[CV 5/5; 3/24] START SVM__C=0.001, SVM__gamma=0.1, SVM__kernel=rbf, TF__stop_words=english\n",
            "[CV 5/5; 3/24] END SVM__C=0.001, SVM__gamma=0.1, SVM__kernel=rbf, TF__stop_words=english;, score=0.515 total time=  11.9s\n",
            "[CV 1/5; 4/24] START SVM__C=0.001, SVM__gamma=0.1, SVM__kernel=linear, TF__stop_words=english\n",
            "[CV 1/5; 4/24] END SVM__C=0.001, SVM__gamma=0.1, SVM__kernel=linear, TF__stop_words=english;, score=0.516 total time=  11.4s\n",
            "[CV 2/5; 4/24] START SVM__C=0.001, SVM__gamma=0.1, SVM__kernel=linear, TF__stop_words=english\n",
            "[CV 2/5; 4/24] END SVM__C=0.001, SVM__gamma=0.1, SVM__kernel=linear, TF__stop_words=english;, score=0.516 total time=  11.8s\n",
            "[CV 3/5; 4/24] START SVM__C=0.001, SVM__gamma=0.1, SVM__kernel=linear, TF__stop_words=english\n",
            "[CV 3/5; 4/24] END SVM__C=0.001, SVM__gamma=0.1, SVM__kernel=linear, TF__stop_words=english;, score=0.515 total time=  11.5s\n",
            "[CV 4/5; 4/24] START SVM__C=0.001, SVM__gamma=0.1, SVM__kernel=linear, TF__stop_words=english\n",
            "[CV 4/5; 4/24] END SVM__C=0.001, SVM__gamma=0.1, SVM__kernel=linear, TF__stop_words=english;, score=0.515 total time=  11.4s\n",
            "[CV 5/5; 4/24] START SVM__C=0.001, SVM__gamma=0.1, SVM__kernel=linear, TF__stop_words=english\n",
            "[CV 5/5; 4/24] END SVM__C=0.001, SVM__gamma=0.1, SVM__kernel=linear, TF__stop_words=english;, score=0.515 total time=  12.1s\n",
            "[CV 1/5; 5/24] START SVM__C=0.001, SVM__gamma=0.01, SVM__kernel=rbf, TF__stop_words=english\n",
            "[CV 1/5; 5/24] END SVM__C=0.001, SVM__gamma=0.01, SVM__kernel=rbf, TF__stop_words=english;, score=0.516 total time=  11.9s\n",
            "[CV 2/5; 5/24] START SVM__C=0.001, SVM__gamma=0.01, SVM__kernel=rbf, TF__stop_words=english\n",
            "[CV 2/5; 5/24] END SVM__C=0.001, SVM__gamma=0.01, SVM__kernel=rbf, TF__stop_words=english;, score=0.516 total time=  11.9s\n",
            "[CV 3/5; 5/24] START SVM__C=0.001, SVM__gamma=0.01, SVM__kernel=rbf, TF__stop_words=english\n",
            "[CV 3/5; 5/24] END SVM__C=0.001, SVM__gamma=0.01, SVM__kernel=rbf, TF__stop_words=english;, score=0.515 total time=  11.9s\n",
            "[CV 4/5; 5/24] START SVM__C=0.001, SVM__gamma=0.01, SVM__kernel=rbf, TF__stop_words=english\n",
            "[CV 4/5; 5/24] END SVM__C=0.001, SVM__gamma=0.01, SVM__kernel=rbf, TF__stop_words=english;, score=0.515 total time=  12.0s\n",
            "[CV 5/5; 5/24] START SVM__C=0.001, SVM__gamma=0.01, SVM__kernel=rbf, TF__stop_words=english\n",
            "[CV 5/5; 5/24] END SVM__C=0.001, SVM__gamma=0.01, SVM__kernel=rbf, TF__stop_words=english;, score=0.515 total time=  12.6s\n",
            "[CV 1/5; 6/24] START SVM__C=0.001, SVM__gamma=0.01, SVM__kernel=linear, TF__stop_words=english\n",
            "[CV 1/5; 6/24] END SVM__C=0.001, SVM__gamma=0.01, SVM__kernel=linear, TF__stop_words=english;, score=0.516 total time=  11.5s\n",
            "[CV 2/5; 6/24] START SVM__C=0.001, SVM__gamma=0.01, SVM__kernel=linear, TF__stop_words=english\n",
            "[CV 2/5; 6/24] END SVM__C=0.001, SVM__gamma=0.01, SVM__kernel=linear, TF__stop_words=english;, score=0.516 total time=  11.5s\n",
            "[CV 3/5; 6/24] START SVM__C=0.001, SVM__gamma=0.01, SVM__kernel=linear, TF__stop_words=english\n",
            "[CV 3/5; 6/24] END SVM__C=0.001, SVM__gamma=0.01, SVM__kernel=linear, TF__stop_words=english;, score=0.515 total time=  11.5s\n",
            "[CV 4/5; 6/24] START SVM__C=0.001, SVM__gamma=0.01, SVM__kernel=linear, TF__stop_words=english\n",
            "[CV 4/5; 6/24] END SVM__C=0.001, SVM__gamma=0.01, SVM__kernel=linear, TF__stop_words=english;, score=0.515 total time=  11.5s\n",
            "[CV 5/5; 6/24] START SVM__C=0.001, SVM__gamma=0.01, SVM__kernel=linear, TF__stop_words=english\n",
            "[CV 5/5; 6/24] END SVM__C=0.001, SVM__gamma=0.01, SVM__kernel=linear, TF__stop_words=english;, score=0.515 total time=  11.4s\n",
            "[CV 1/5; 7/24] START SVM__C=0.001, SVM__gamma=0.001, SVM__kernel=rbf, TF__stop_words=english\n",
            "[CV 1/5; 7/24] END SVM__C=0.001, SVM__gamma=0.001, SVM__kernel=rbf, TF__stop_words=english;, score=0.516 total time=  11.8s\n",
            "[CV 2/5; 7/24] START SVM__C=0.001, SVM__gamma=0.001, SVM__kernel=rbf, TF__stop_words=english\n",
            "[CV 2/5; 7/24] END SVM__C=0.001, SVM__gamma=0.001, SVM__kernel=rbf, TF__stop_words=english;, score=0.516 total time=  11.9s\n",
            "[CV 3/5; 7/24] START SVM__C=0.001, SVM__gamma=0.001, SVM__kernel=rbf, TF__stop_words=english\n",
            "[CV 3/5; 7/24] END SVM__C=0.001, SVM__gamma=0.001, SVM__kernel=rbf, TF__stop_words=english;, score=0.515 total time=  11.9s\n",
            "[CV 4/5; 7/24] START SVM__C=0.001, SVM__gamma=0.001, SVM__kernel=rbf, TF__stop_words=english\n",
            "[CV 4/5; 7/24] END SVM__C=0.001, SVM__gamma=0.001, SVM__kernel=rbf, TF__stop_words=english;, score=0.515 total time=  11.9s\n",
            "[CV 5/5; 7/24] START SVM__C=0.001, SVM__gamma=0.001, SVM__kernel=rbf, TF__stop_words=english\n",
            "[CV 5/5; 7/24] END SVM__C=0.001, SVM__gamma=0.001, SVM__kernel=rbf, TF__stop_words=english;, score=0.515 total time=  11.8s\n",
            "[CV 1/5; 8/24] START SVM__C=0.001, SVM__gamma=0.001, SVM__kernel=linear, TF__stop_words=english\n",
            "[CV 1/5; 8/24] END SVM__C=0.001, SVM__gamma=0.001, SVM__kernel=linear, TF__stop_words=english;, score=0.516 total time=  11.4s\n",
            "[CV 2/5; 8/24] START SVM__C=0.001, SVM__gamma=0.001, SVM__kernel=linear, TF__stop_words=english\n",
            "[CV 2/5; 8/24] END SVM__C=0.001, SVM__gamma=0.001, SVM__kernel=linear, TF__stop_words=english;, score=0.516 total time=  11.5s\n",
            "[CV 3/5; 8/24] START SVM__C=0.001, SVM__gamma=0.001, SVM__kernel=linear, TF__stop_words=english\n",
            "[CV 3/5; 8/24] END SVM__C=0.001, SVM__gamma=0.001, SVM__kernel=linear, TF__stop_words=english;, score=0.515 total time=  11.5s\n",
            "[CV 4/5; 8/24] START SVM__C=0.001, SVM__gamma=0.001, SVM__kernel=linear, TF__stop_words=english\n",
            "[CV 4/5; 8/24] END SVM__C=0.001, SVM__gamma=0.001, SVM__kernel=linear, TF__stop_words=english;, score=0.515 total time=  11.5s\n",
            "[CV 5/5; 8/24] START SVM__C=0.001, SVM__gamma=0.001, SVM__kernel=linear, TF__stop_words=english\n",
            "[CV 5/5; 8/24] END SVM__C=0.001, SVM__gamma=0.001, SVM__kernel=linear, TF__stop_words=english;, score=0.515 total time=  11.5s\n",
            "[CV 1/5; 9/24] START SVM__C=10, SVM__gamma=0.001, SVM__kernel=rbf, TF__stop_words=english\n",
            "[CV 1/5; 9/24] END SVM__C=10, SVM__gamma=0.001, SVM__kernel=rbf, TF__stop_words=english;, score=0.516 total time=  11.9s\n",
            "[CV 2/5; 9/24] START SVM__C=10, SVM__gamma=0.001, SVM__kernel=rbf, TF__stop_words=english\n",
            "[CV 2/5; 9/24] END SVM__C=10, SVM__gamma=0.001, SVM__kernel=rbf, TF__stop_words=english;, score=0.516 total time=  11.9s\n",
            "[CV 3/5; 9/24] START SVM__C=10, SVM__gamma=0.001, SVM__kernel=rbf, TF__stop_words=english\n",
            "[CV 3/5; 9/24] END SVM__C=10, SVM__gamma=0.001, SVM__kernel=rbf, TF__stop_words=english;, score=0.515 total time=  11.9s\n",
            "[CV 4/5; 9/24] START SVM__C=10, SVM__gamma=0.001, SVM__kernel=rbf, TF__stop_words=english\n",
            "[CV 4/5; 9/24] END SVM__C=10, SVM__gamma=0.001, SVM__kernel=rbf, TF__stop_words=english;, score=0.515 total time=  12.0s\n",
            "[CV 5/5; 9/24] START SVM__C=10, SVM__gamma=0.001, SVM__kernel=rbf, TF__stop_words=english\n",
            "[CV 5/5; 9/24] END SVM__C=10, SVM__gamma=0.001, SVM__kernel=rbf, TF__stop_words=english;, score=0.515 total time=  12.0s\n",
            "[CV 1/5; 10/24] START SVM__C=10, SVM__gamma=0.001, SVM__kernel=linear, TF__stop_words=english\n",
            "[CV 1/5; 10/24] END SVM__C=10, SVM__gamma=0.001, SVM__kernel=linear, TF__stop_words=english;, score=0.826 total time=  11.2s\n",
            "[CV 2/5; 10/24] START SVM__C=10, SVM__gamma=0.001, SVM__kernel=linear, TF__stop_words=english\n",
            "[CV 2/5; 10/24] END SVM__C=10, SVM__gamma=0.001, SVM__kernel=linear, TF__stop_words=english;, score=0.834 total time=  10.6s\n",
            "[CV 3/5; 10/24] START SVM__C=10, SVM__gamma=0.001, SVM__kernel=linear, TF__stop_words=english\n",
            "[CV 3/5; 10/24] END SVM__C=10, SVM__gamma=0.001, SVM__kernel=linear, TF__stop_words=english;, score=0.830 total time=  10.6s\n",
            "[CV 4/5; 10/24] START SVM__C=10, SVM__gamma=0.001, SVM__kernel=linear, TF__stop_words=english\n",
            "[CV 4/5; 10/24] END SVM__C=10, SVM__gamma=0.001, SVM__kernel=linear, TF__stop_words=english;, score=0.831 total time=  10.7s\n",
            "[CV 5/5; 10/24] START SVM__C=10, SVM__gamma=0.001, SVM__kernel=linear, TF__stop_words=english\n",
            "[CV 5/5; 10/24] END SVM__C=10, SVM__gamma=0.001, SVM__kernel=linear, TF__stop_words=english;, score=0.835 total time=  10.7s\n",
            "[CV 1/5; 11/24] START SVM__C=10, SVM__gamma=0.1, SVM__kernel=rbf, TF__stop_words=english\n",
            "[CV 1/5; 11/24] END SVM__C=10, SVM__gamma=0.1, SVM__kernel=rbf, TF__stop_words=english;, score=0.836 total time=  11.1s\n",
            "[CV 2/5; 11/24] START SVM__C=10, SVM__gamma=0.1, SVM__kernel=rbf, TF__stop_words=english\n",
            "[CV 2/5; 11/24] END SVM__C=10, SVM__gamma=0.1, SVM__kernel=rbf, TF__stop_words=english;, score=0.844 total time=  11.1s\n",
            "[CV 3/5; 11/24] START SVM__C=10, SVM__gamma=0.1, SVM__kernel=rbf, TF__stop_words=english\n",
            "[CV 3/5; 11/24] END SVM__C=10, SVM__gamma=0.1, SVM__kernel=rbf, TF__stop_words=english;, score=0.838 total time=  11.1s\n",
            "[CV 4/5; 11/24] START SVM__C=10, SVM__gamma=0.1, SVM__kernel=rbf, TF__stop_words=english\n",
            "[CV 4/5; 11/24] END SVM__C=10, SVM__gamma=0.1, SVM__kernel=rbf, TF__stop_words=english;, score=0.833 total time=  11.1s\n",
            "[CV 5/5; 11/24] START SVM__C=10, SVM__gamma=0.1, SVM__kernel=rbf, TF__stop_words=english\n",
            "[CV 5/5; 11/24] END SVM__C=10, SVM__gamma=0.1, SVM__kernel=rbf, TF__stop_words=english;, score=0.845 total time=  11.2s\n",
            "[CV 1/5; 12/24] START SVM__C=10, SVM__gamma=0.1, SVM__kernel=linear, TF__stop_words=english\n",
            "[CV 1/5; 12/24] END SVM__C=10, SVM__gamma=0.1, SVM__kernel=linear, TF__stop_words=english;, score=0.826 total time=  10.6s\n",
            "[CV 2/5; 12/24] START SVM__C=10, SVM__gamma=0.1, SVM__kernel=linear, TF__stop_words=english\n",
            "[CV 2/5; 12/24] END SVM__C=10, SVM__gamma=0.1, SVM__kernel=linear, TF__stop_words=english;, score=0.834 total time=  10.6s\n",
            "[CV 3/5; 12/24] START SVM__C=10, SVM__gamma=0.1, SVM__kernel=linear, TF__stop_words=english\n",
            "[CV 3/5; 12/24] END SVM__C=10, SVM__gamma=0.1, SVM__kernel=linear, TF__stop_words=english;, score=0.830 total time=  10.6s\n",
            "[CV 4/5; 12/24] START SVM__C=10, SVM__gamma=0.1, SVM__kernel=linear, TF__stop_words=english\n",
            "[CV 4/5; 12/24] END SVM__C=10, SVM__gamma=0.1, SVM__kernel=linear, TF__stop_words=english;, score=0.831 total time=  10.6s\n",
            "[CV 5/5; 12/24] START SVM__C=10, SVM__gamma=0.1, SVM__kernel=linear, TF__stop_words=english\n",
            "[CV 5/5; 12/24] END SVM__C=10, SVM__gamma=0.1, SVM__kernel=linear, TF__stop_words=english;, score=0.835 total time=  10.7s\n",
            "[CV 1/5; 13/24] START SVM__C=10, SVM__gamma=0.01, SVM__kernel=rbf, TF__stop_words=english\n",
            "[CV 1/5; 13/24] END SVM__C=10, SVM__gamma=0.01, SVM__kernel=rbf, TF__stop_words=english;, score=0.828 total time=  11.3s\n",
            "[CV 2/5; 13/24] START SVM__C=10, SVM__gamma=0.01, SVM__kernel=rbf, TF__stop_words=english\n",
            "[CV 2/5; 13/24] END SVM__C=10, SVM__gamma=0.01, SVM__kernel=rbf, TF__stop_words=english;, score=0.833 total time=  11.3s\n",
            "[CV 3/5; 13/24] START SVM__C=10, SVM__gamma=0.01, SVM__kernel=rbf, TF__stop_words=english\n",
            "[CV 3/5; 13/24] END SVM__C=10, SVM__gamma=0.01, SVM__kernel=rbf, TF__stop_words=english;, score=0.820 total time=  11.3s\n",
            "[CV 4/5; 13/24] START SVM__C=10, SVM__gamma=0.01, SVM__kernel=rbf, TF__stop_words=english\n",
            "[CV 4/5; 13/24] END SVM__C=10, SVM__gamma=0.01, SVM__kernel=rbf, TF__stop_words=english;, score=0.833 total time=  11.4s\n",
            "[CV 5/5; 13/24] START SVM__C=10, SVM__gamma=0.01, SVM__kernel=rbf, TF__stop_words=english\n",
            "[CV 5/5; 13/24] END SVM__C=10, SVM__gamma=0.01, SVM__kernel=rbf, TF__stop_words=english;, score=0.835 total time=  11.3s\n",
            "[CV 1/5; 14/24] START SVM__C=10, SVM__gamma=0.01, SVM__kernel=linear, TF__stop_words=english\n",
            "[CV 1/5; 14/24] END SVM__C=10, SVM__gamma=0.01, SVM__kernel=linear, TF__stop_words=english;, score=0.826 total time=  10.6s\n",
            "[CV 2/5; 14/24] START SVM__C=10, SVM__gamma=0.01, SVM__kernel=linear, TF__stop_words=english\n",
            "[CV 2/5; 14/24] END SVM__C=10, SVM__gamma=0.01, SVM__kernel=linear, TF__stop_words=english;, score=0.834 total time=  10.6s\n",
            "[CV 3/5; 14/24] START SVM__C=10, SVM__gamma=0.01, SVM__kernel=linear, TF__stop_words=english\n",
            "[CV 3/5; 14/24] END SVM__C=10, SVM__gamma=0.01, SVM__kernel=linear, TF__stop_words=english;, score=0.830 total time=  11.2s\n",
            "[CV 4/5; 14/24] START SVM__C=10, SVM__gamma=0.01, SVM__kernel=linear, TF__stop_words=english\n",
            "[CV 4/5; 14/24] END SVM__C=10, SVM__gamma=0.01, SVM__kernel=linear, TF__stop_words=english;, score=0.831 total time=  10.9s\n",
            "[CV 5/5; 14/24] START SVM__C=10, SVM__gamma=0.01, SVM__kernel=linear, TF__stop_words=english\n",
            "[CV 5/5; 14/24] END SVM__C=10, SVM__gamma=0.01, SVM__kernel=linear, TF__stop_words=english;, score=0.835 total time=  10.6s\n",
            "[CV 1/5; 15/24] START SVM__C=10, SVM__gamma=0.001, SVM__kernel=rbf, TF__stop_words=english\n",
            "[CV 1/5; 15/24] END SVM__C=10, SVM__gamma=0.001, SVM__kernel=rbf, TF__stop_words=english;, score=0.516 total time=  12.0s\n",
            "[CV 2/5; 15/24] START SVM__C=10, SVM__gamma=0.001, SVM__kernel=rbf, TF__stop_words=english\n",
            "[CV 2/5; 15/24] END SVM__C=10, SVM__gamma=0.001, SVM__kernel=rbf, TF__stop_words=english;, score=0.516 total time=  12.0s\n",
            "[CV 3/5; 15/24] START SVM__C=10, SVM__gamma=0.001, SVM__kernel=rbf, TF__stop_words=english\n",
            "[CV 3/5; 15/24] END SVM__C=10, SVM__gamma=0.001, SVM__kernel=rbf, TF__stop_words=english;, score=0.515 total time=  11.9s\n",
            "[CV 4/5; 15/24] START SVM__C=10, SVM__gamma=0.001, SVM__kernel=rbf, TF__stop_words=english\n",
            "[CV 4/5; 15/24] END SVM__C=10, SVM__gamma=0.001, SVM__kernel=rbf, TF__stop_words=english;, score=0.515 total time=  12.0s\n",
            "[CV 5/5; 15/24] START SVM__C=10, SVM__gamma=0.001, SVM__kernel=rbf, TF__stop_words=english\n",
            "[CV 5/5; 15/24] END SVM__C=10, SVM__gamma=0.001, SVM__kernel=rbf, TF__stop_words=english;, score=0.515 total time=  11.9s\n",
            "[CV 1/5; 16/24] START SVM__C=10, SVM__gamma=0.001, SVM__kernel=linear, TF__stop_words=english\n",
            "[CV 1/5; 16/24] END SVM__C=10, SVM__gamma=0.001, SVM__kernel=linear, TF__stop_words=english;, score=0.826 total time=  10.6s\n",
            "[CV 2/5; 16/24] START SVM__C=10, SVM__gamma=0.001, SVM__kernel=linear, TF__stop_words=english\n",
            "[CV 2/5; 16/24] END SVM__C=10, SVM__gamma=0.001, SVM__kernel=linear, TF__stop_words=english;, score=0.834 total time=  10.7s\n",
            "[CV 3/5; 16/24] START SVM__C=10, SVM__gamma=0.001, SVM__kernel=linear, TF__stop_words=english\n",
            "[CV 3/5; 16/24] END SVM__C=10, SVM__gamma=0.001, SVM__kernel=linear, TF__stop_words=english;, score=0.830 total time=  10.6s\n",
            "[CV 4/5; 16/24] START SVM__C=10, SVM__gamma=0.001, SVM__kernel=linear, TF__stop_words=english\n",
            "[CV 4/5; 16/24] END SVM__C=10, SVM__gamma=0.001, SVM__kernel=linear, TF__stop_words=english;, score=0.831 total time=  10.7s\n",
            "[CV 5/5; 16/24] START SVM__C=10, SVM__gamma=0.001, SVM__kernel=linear, TF__stop_words=english\n",
            "[CV 5/5; 16/24] END SVM__C=10, SVM__gamma=0.001, SVM__kernel=linear, TF__stop_words=english;, score=0.835 total time=  10.7s\n",
            "[CV 1/5; 17/24] START SVM__C=1000, SVM__gamma=0.001, SVM__kernel=rbf, TF__stop_words=english\n",
            "[CV 1/5; 17/24] END SVM__C=1000, SVM__gamma=0.001, SVM__kernel=rbf, TF__stop_words=english;, score=0.833 total time=  10.8s\n",
            "[CV 2/5; 17/24] START SVM__C=1000, SVM__gamma=0.001, SVM__kernel=rbf, TF__stop_words=english\n",
            "[CV 2/5; 17/24] END SVM__C=1000, SVM__gamma=0.001, SVM__kernel=rbf, TF__stop_words=english;, score=0.843 total time=  10.9s\n",
            "[CV 3/5; 17/24] START SVM__C=1000, SVM__gamma=0.001, SVM__kernel=rbf, TF__stop_words=english\n",
            "[CV 3/5; 17/24] END SVM__C=1000, SVM__gamma=0.001, SVM__kernel=rbf, TF__stop_words=english;, score=0.830 total time=  10.9s\n",
            "[CV 4/5; 17/24] START SVM__C=1000, SVM__gamma=0.001, SVM__kernel=rbf, TF__stop_words=english\n",
            "[CV 4/5; 17/24] END SVM__C=1000, SVM__gamma=0.001, SVM__kernel=rbf, TF__stop_words=english;, score=0.826 total time=  11.0s\n",
            "[CV 5/5; 17/24] START SVM__C=1000, SVM__gamma=0.001, SVM__kernel=rbf, TF__stop_words=english\n",
            "[CV 5/5; 17/24] END SVM__C=1000, SVM__gamma=0.001, SVM__kernel=rbf, TF__stop_words=english;, score=0.841 total time=  10.9s\n",
            "[CV 1/5; 18/24] START SVM__C=1000, SVM__gamma=0.001, SVM__kernel=linear, TF__stop_words=english\n",
            "[CV 1/5; 18/24] END SVM__C=1000, SVM__gamma=0.001, SVM__kernel=linear, TF__stop_words=english;, score=0.824 total time=  10.5s\n",
            "[CV 2/5; 18/24] START SVM__C=1000, SVM__gamma=0.001, SVM__kernel=linear, TF__stop_words=english\n",
            "[CV 2/5; 18/24] END SVM__C=1000, SVM__gamma=0.001, SVM__kernel=linear, TF__stop_words=english;, score=0.834 total time=  10.6s\n",
            "[CV 3/5; 18/24] START SVM__C=1000, SVM__gamma=0.001, SVM__kernel=linear, TF__stop_words=english\n",
            "[CV 3/5; 18/24] END SVM__C=1000, SVM__gamma=0.001, SVM__kernel=linear, TF__stop_words=english;, score=0.830 total time=  10.5s\n",
            "[CV 4/5; 18/24] START SVM__C=1000, SVM__gamma=0.001, SVM__kernel=linear, TF__stop_words=english\n",
            "[CV 4/5; 18/24] END SVM__C=1000, SVM__gamma=0.001, SVM__kernel=linear, TF__stop_words=english;, score=0.831 total time=  10.7s\n",
            "[CV 5/5; 18/24] START SVM__C=1000, SVM__gamma=0.001, SVM__kernel=linear, TF__stop_words=english\n",
            "[CV 5/5; 18/24] END SVM__C=1000, SVM__gamma=0.001, SVM__kernel=linear, TF__stop_words=english;, score=0.833 total time=  10.7s\n",
            "[CV 1/5; 19/24] START SVM__C=1000, SVM__gamma=0.1, SVM__kernel=rbf, TF__stop_words=english\n",
            "[CV 1/5; 19/24] END SVM__C=1000, SVM__gamma=0.1, SVM__kernel=rbf, TF__stop_words=english;, score=0.830 total time=  11.9s\n",
            "[CV 2/5; 19/24] START SVM__C=1000, SVM__gamma=0.1, SVM__kernel=rbf, TF__stop_words=english\n",
            "[CV 2/5; 19/24] END SVM__C=1000, SVM__gamma=0.1, SVM__kernel=rbf, TF__stop_words=english;, score=0.841 total time=  11.3s\n",
            "[CV 3/5; 19/24] START SVM__C=1000, SVM__gamma=0.1, SVM__kernel=rbf, TF__stop_words=english\n",
            "[CV 3/5; 19/24] END SVM__C=1000, SVM__gamma=0.1, SVM__kernel=rbf, TF__stop_words=english;, score=0.840 total time=  11.2s\n",
            "[CV 4/5; 19/24] START SVM__C=1000, SVM__gamma=0.1, SVM__kernel=rbf, TF__stop_words=english\n",
            "[CV 4/5; 19/24] END SVM__C=1000, SVM__gamma=0.1, SVM__kernel=rbf, TF__stop_words=english;, score=0.833 total time=  11.3s\n",
            "[CV 5/5; 19/24] START SVM__C=1000, SVM__gamma=0.1, SVM__kernel=rbf, TF__stop_words=english\n",
            "[CV 5/5; 19/24] END SVM__C=1000, SVM__gamma=0.1, SVM__kernel=rbf, TF__stop_words=english;, score=0.840 total time=  11.3s\n",
            "[CV 1/5; 20/24] START SVM__C=1000, SVM__gamma=0.1, SVM__kernel=linear, TF__stop_words=english\n",
            "[CV 1/5; 20/24] END SVM__C=1000, SVM__gamma=0.1, SVM__kernel=linear, TF__stop_words=english;, score=0.824 total time=  10.6s\n",
            "[CV 2/5; 20/24] START SVM__C=1000, SVM__gamma=0.1, SVM__kernel=linear, TF__stop_words=english\n",
            "[CV 2/5; 20/24] END SVM__C=1000, SVM__gamma=0.1, SVM__kernel=linear, TF__stop_words=english;, score=0.834 total time=  10.6s\n",
            "[CV 3/5; 20/24] START SVM__C=1000, SVM__gamma=0.1, SVM__kernel=linear, TF__stop_words=english\n",
            "[CV 3/5; 20/24] END SVM__C=1000, SVM__gamma=0.1, SVM__kernel=linear, TF__stop_words=english;, score=0.830 total time=  10.6s\n",
            "[CV 4/5; 20/24] START SVM__C=1000, SVM__gamma=0.1, SVM__kernel=linear, TF__stop_words=english\n",
            "[CV 4/5; 20/24] END SVM__C=1000, SVM__gamma=0.1, SVM__kernel=linear, TF__stop_words=english;, score=0.831 total time=  10.7s\n",
            "[CV 5/5; 20/24] START SVM__C=1000, SVM__gamma=0.1, SVM__kernel=linear, TF__stop_words=english\n",
            "[CV 5/5; 20/24] END SVM__C=1000, SVM__gamma=0.1, SVM__kernel=linear, TF__stop_words=english;, score=0.833 total time=  10.8s\n",
            "[CV 1/5; 21/24] START SVM__C=1000, SVM__gamma=0.01, SVM__kernel=rbf, TF__stop_words=english\n",
            "[CV 1/5; 21/24] END SVM__C=1000, SVM__gamma=0.01, SVM__kernel=rbf, TF__stop_words=english;, score=0.825 total time=  11.0s\n",
            "[CV 2/5; 21/24] START SVM__C=1000, SVM__gamma=0.01, SVM__kernel=rbf, TF__stop_words=english\n",
            "[CV 2/5; 21/24] END SVM__C=1000, SVM__gamma=0.01, SVM__kernel=rbf, TF__stop_words=english;, score=0.834 total time=  11.0s\n",
            "[CV 3/5; 21/24] START SVM__C=1000, SVM__gamma=0.01, SVM__kernel=rbf, TF__stop_words=english\n",
            "[CV 3/5; 21/24] END SVM__C=1000, SVM__gamma=0.01, SVM__kernel=rbf, TF__stop_words=english;, score=0.830 total time=  11.0s\n",
            "[CV 4/5; 21/24] START SVM__C=1000, SVM__gamma=0.01, SVM__kernel=rbf, TF__stop_words=english\n",
            "[CV 4/5; 21/24] END SVM__C=1000, SVM__gamma=0.01, SVM__kernel=rbf, TF__stop_words=english;, score=0.833 total time=  11.1s\n",
            "[CV 5/5; 21/24] START SVM__C=1000, SVM__gamma=0.01, SVM__kernel=rbf, TF__stop_words=english\n",
            "[CV 5/5; 21/24] END SVM__C=1000, SVM__gamma=0.01, SVM__kernel=rbf, TF__stop_words=english;, score=0.834 total time=  11.1s\n",
            "[CV 1/5; 22/24] START SVM__C=1000, SVM__gamma=0.01, SVM__kernel=linear, TF__stop_words=english\n",
            "[CV 1/5; 22/24] END SVM__C=1000, SVM__gamma=0.01, SVM__kernel=linear, TF__stop_words=english;, score=0.824 total time=  10.5s\n",
            "[CV 2/5; 22/24] START SVM__C=1000, SVM__gamma=0.01, SVM__kernel=linear, TF__stop_words=english\n",
            "[CV 2/5; 22/24] END SVM__C=1000, SVM__gamma=0.01, SVM__kernel=linear, TF__stop_words=english;, score=0.834 total time=  10.7s\n",
            "[CV 3/5; 22/24] START SVM__C=1000, SVM__gamma=0.01, SVM__kernel=linear, TF__stop_words=english\n",
            "[CV 3/5; 22/24] END SVM__C=1000, SVM__gamma=0.01, SVM__kernel=linear, TF__stop_words=english;, score=0.830 total time=  10.6s\n",
            "[CV 4/5; 22/24] START SVM__C=1000, SVM__gamma=0.01, SVM__kernel=linear, TF__stop_words=english\n",
            "[CV 4/5; 22/24] END SVM__C=1000, SVM__gamma=0.01, SVM__kernel=linear, TF__stop_words=english;, score=0.831 total time=  10.7s\n",
            "[CV 5/5; 22/24] START SVM__C=1000, SVM__gamma=0.01, SVM__kernel=linear, TF__stop_words=english\n",
            "[CV 5/5; 22/24] END SVM__C=1000, SVM__gamma=0.01, SVM__kernel=linear, TF__stop_words=english;, score=0.833 total time=  10.7s\n",
            "[CV 1/5; 23/24] START SVM__C=1000, SVM__gamma=0.001, SVM__kernel=rbf, TF__stop_words=english\n",
            "[CV 1/5; 23/24] END SVM__C=1000, SVM__gamma=0.001, SVM__kernel=rbf, TF__stop_words=english;, score=0.833 total time=  11.5s\n",
            "[CV 2/5; 23/24] START SVM__C=1000, SVM__gamma=0.001, SVM__kernel=rbf, TF__stop_words=english\n",
            "[CV 2/5; 23/24] END SVM__C=1000, SVM__gamma=0.001, SVM__kernel=rbf, TF__stop_words=english;, score=0.843 total time=  10.8s\n",
            "[CV 3/5; 23/24] START SVM__C=1000, SVM__gamma=0.001, SVM__kernel=rbf, TF__stop_words=english\n",
            "[CV 3/5; 23/24] END SVM__C=1000, SVM__gamma=0.001, SVM__kernel=rbf, TF__stop_words=english;, score=0.830 total time=  10.9s\n",
            "[CV 4/5; 23/24] START SVM__C=1000, SVM__gamma=0.001, SVM__kernel=rbf, TF__stop_words=english\n",
            "[CV 4/5; 23/24] END SVM__C=1000, SVM__gamma=0.001, SVM__kernel=rbf, TF__stop_words=english;, score=0.826 total time=  11.0s\n",
            "[CV 5/5; 23/24] START SVM__C=1000, SVM__gamma=0.001, SVM__kernel=rbf, TF__stop_words=english\n",
            "[CV 5/5; 23/24] END SVM__C=1000, SVM__gamma=0.001, SVM__kernel=rbf, TF__stop_words=english;, score=0.841 total time=  11.0s\n",
            "[CV 1/5; 24/24] START SVM__C=1000, SVM__gamma=0.001, SVM__kernel=linear, TF__stop_words=english\n",
            "[CV 1/5; 24/24] END SVM__C=1000, SVM__gamma=0.001, SVM__kernel=linear, TF__stop_words=english;, score=0.824 total time=  10.6s\n",
            "[CV 2/5; 24/24] START SVM__C=1000, SVM__gamma=0.001, SVM__kernel=linear, TF__stop_words=english\n",
            "[CV 2/5; 24/24] END SVM__C=1000, SVM__gamma=0.001, SVM__kernel=linear, TF__stop_words=english;, score=0.834 total time=  10.6s\n",
            "[CV 3/5; 24/24] START SVM__C=1000, SVM__gamma=0.001, SVM__kernel=linear, TF__stop_words=english\n",
            "[CV 3/5; 24/24] END SVM__C=1000, SVM__gamma=0.001, SVM__kernel=linear, TF__stop_words=english;, score=0.830 total time=  10.5s\n",
            "[CV 4/5; 24/24] START SVM__C=1000, SVM__gamma=0.001, SVM__kernel=linear, TF__stop_words=english\n",
            "[CV 4/5; 24/24] END SVM__C=1000, SVM__gamma=0.001, SVM__kernel=linear, TF__stop_words=english;, score=0.831 total time=  10.7s\n",
            "[CV 5/5; 24/24] START SVM__C=1000, SVM__gamma=0.001, SVM__kernel=linear, TF__stop_words=english\n",
            "[CV 5/5; 24/24] END SVM__C=1000, SVM__gamma=0.001, SVM__kernel=linear, TF__stop_words=english;, score=0.833 total time=  10.7s\n"
          ]
        },
        {
          "output_type": "execute_result",
          "data": {
            "text/plain": [
              "GridSearchCV(cv=StratifiedKFold(n_splits=5, random_state=None, shuffle=False),\n",
              "             estimator=Pipeline(steps=[('TF', TfidfVectorizer()),\n",
              "                                       ('SVM', SVC())]),\n",
              "             param_grid={'SVM__C': [0.001, 10, 1000],\n",
              "                         'SVM__gamma': [0.001, 0.1, 0.01, 0.001],\n",
              "                         'SVM__kernel': ['rbf', 'linear'],\n",
              "                         'TF__stop_words': ['english']},\n",
              "             verbose=10)"
            ]
          },
          "metadata": {},
          "execution_count": 4
        }
      ],
      "source": [
        "from sklearn.feature_extraction.text import TfidfVectorizer\n",
        "from sklearn.svm import SVC\n",
        "from sklearn.model_selection import GridSearchCV, StratifiedKFold\n",
        "from sklearn.pipeline import Pipeline\n",
        "\n",
        "steps = [('TF', TfidfVectorizer()), ('SVM', SVC())]\n",
        "\n",
        "clf = Pipeline(steps)\n",
        "parameters={\n",
        "    'SVM__C':[0.001, 10, 1000],\n",
        "    'SVM__gamma':[0.001, 0.1, 0.01, 0.001],\n",
        "    'SVM__kernel': [\"rbf\", \"linear\"],\n",
        "    'TF__stop_words': ['english']\n",
        "}\n",
        "kfold = StratifiedKFold(n_splits=5)\n",
        "grid_search = GridSearchCV(clf, refit=True, cv=kfold, param_grid=parameters, verbose=10)\n",
        "grid_search.fit(X_train, y_train)"
      ]
    },
    {
      "cell_type": "code",
      "execution_count": 5,
      "metadata": {
        "id": "ZbrbJ-7Bx_y4",
        "outputId": "cb5994d4-0d83-49b3-c2b8-863bc272fadb",
        "colab": {
          "base_uri": "https://localhost:8080/"
        }
      },
      "outputs": [
        {
          "output_type": "execute_result",
          "data": {
            "text/plain": [
              "{'SVM__C': 10,\n",
              " 'SVM__gamma': 0.1,\n",
              " 'SVM__kernel': 'rbf',\n",
              " 'TF__stop_words': 'english'}"
            ]
          },
          "metadata": {},
          "execution_count": 5
        }
      ],
      "source": [
        "grid_search.best_params_"
      ]
    },
    {
      "cell_type": "code",
      "execution_count": 7,
      "metadata": {
        "id": "WziwtIRmx_y5",
        "outputId": "ef520962-ab88-43bc-c56f-01ed610845b3",
        "colab": {
          "base_uri": "https://localhost:8080/"
        }
      },
      "outputs": [
        {
          "output_type": "stream",
          "name": "stdout",
          "text": [
            "accuracy 0.8531388888888889\n",
            "recall 0.8511341114292006\n",
            "precision 0.8568419885828299\n",
            "f1 0.8539785124423453\n"
          ]
        }
      ],
      "source": [
        "from sklearn.metrics import accuracy_score, f1_score, precision_score, recall_score\n",
        "import numpy as np\n",
        "\n",
        "for name, score in [(\"accuracy\", accuracy_score), (\"recall\", recall_score), (\"precision\", precision_score), (\"f1\", f1_score)]:\n",
        "    print(name, score(grid_search.predict(X_test), y_test))\n"
      ]
    }
  ],
  "metadata": {
    "interpreter": {
      "hash": "aee8b7b246df8f9039afb4144a1f6fd8d2ca17a180786b69acc140d282b71a49"
    },
    "kernelspec": {
      "display_name": "Python 3.9.10 64-bit",
      "language": "python",
      "name": "python3"
    },
    "language_info": {
      "codemirror_mode": {
        "name": "ipython",
        "version": 3
      },
      "file_extension": ".py",
      "mimetype": "text/x-python",
      "name": "python",
      "nbconvert_exporter": "python",
      "pygments_lexer": "ipython3",
      "version": "3.9.10"
    },
    "orig_nbformat": 4,
    "colab": {
      "name": "01_svm.ipynb",
      "provenance": []
    }
  },
  "nbformat": 4,
  "nbformat_minor": 0
}