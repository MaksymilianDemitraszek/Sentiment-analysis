{
  "cells": [
    {
      "cell_type": "code",
      "execution_count": 1,
      "metadata": {
        "colab": {
          "base_uri": "https://localhost:8080/"
        },
        "id": "IDgfDpwQXl-z",
        "outputId": "6abdc089-5625-4516-843b-445671da9988"
      },
      "outputs": [
        {
          "name": "stdout",
          "output_type": "stream",
          "text": [
            "Drive already mounted at /content/drive; to attempt to forcibly remount, call drive.mount(\"/content/drive\", force_remount=True).\n"
          ]
        }
      ],
      "source": [
        "from google.colab import drive\n",
        "drive.mount('/content/drive')"
      ]
    },
    {
      "cell_type": "code",
      "execution_count": 2,
      "metadata": {
        "colab": {
          "base_uri": "https://localhost:8080/"
        },
        "id": "v-twVYRvX-sl",
        "outputId": "941ad1ee-ff23-4abe-9caf-1997db355787"
      },
      "outputs": [
        {
          "name": "stdout",
          "output_type": "stream",
          "text": [
            "2.8.2\n",
            "2.8.0\n"
          ]
        }
      ],
      "source": [
        "import tensorflow as tf\n",
        "from tensorflow import keras\n",
        "print(tf.__version__)\n",
        "print(keras.__version__)"
      ]
    },
    {
      "cell_type": "code",
      "execution_count": 3,
      "metadata": {
        "colab": {
          "base_uri": "https://localhost:8080/"
        },
        "id": "CdYCRzD6X_0t",
        "outputId": "f5cea243-271c-41bc-f72c-aeda5d1401c8"
      },
      "outputs": [
        {
          "data": {
            "text/plain": [
              "(21779    A terrific B-feature. A virtual two-hander and...\n",
              " 7540     Well...I like Patricia Kaas. She is a beautifu...\n",
              " 14467    I absolutely loved this movie. It met all expe...\n",
              " 16045    Why was this film made? Even keeping in mind t...\n",
              " 1073     This anime is a must-see for fans of Evangelio...\n",
              "                                ...                        \n",
              " 13326    Brilliant acting, excellent plot, wonderful sp...\n",
              " 2078     This was just telecast here in the U.S. Others...\n",
              " 35883    'Blue Desert' may have had the potential to be...\n",
              " 29517    There's nothing new here. All the standard rom...\n",
              " 38590    This satire is just really, really dead-on, an...\n",
              " Name: text, Length: 20000, dtype: object, 21779    1\n",
              " 7540     0\n",
              " 14467    1\n",
              " 16045    0\n",
              " 1073     1\n",
              "         ..\n",
              " 13326    0\n",
              " 2078     0\n",
              " 35883    0\n",
              " 29517    0\n",
              " 38590    1\n",
              " Name: label, Length: 20000, dtype: int64)"
            ]
          },
          "execution_count": 3,
          "metadata": {},
          "output_type": "execute_result"
        }
      ],
      "source": [
        "import pandas as pd\n",
        "import numpy as np\n",
        "from sklearn.model_selection import train_test_split\n",
        "\n",
        "dataset = pd.read_csv('/content/drive/MyDrive/datasets/movie.csv', sep=\",\")\n",
        "X = dataset[\"text\"]\n",
        "y = dataset[\"label\"]\n",
        "\n",
        "\n",
        "X_train, X_test, y_train, y_test = train_test_split(X, y, test_size=0.5, shuffle=True, stratify=y)\n",
        "\n",
        "X_train, y_train"
      ]
    },
    {
      "cell_type": "markdown",
      "metadata": {
        "id": "D9XBcI8lYY1x"
      },
      "source": [
        "# CNN\n"
      ]
    },
    {
      "cell_type": "code",
      "execution_count": 4,
      "metadata": {
        "colab": {
          "base_uri": "https://localhost:8080/"
        },
        "id": "w_0MeIoAYAO3",
        "outputId": "ccea7bfe-f2cb-4205-8b64-804ccf7fd603"
      },
      "outputs": [
        {
          "name": "stdout",
          "output_type": "stream",
          "text": [
            "Model: \"sequential\"\n",
            "_________________________________________________________________\n",
            " Layer (type)                Output Shape              Param #   \n",
            "=================================================================\n",
            " text_vectorization (TextVec  (None, 100)              0         \n",
            " torization)                                                     \n",
            "                                                                 \n",
            " embedding (Embedding)       (None, 100, 16)           800000    \n",
            "                                                                 \n",
            " reshape (Reshape)           (None, 40, 40, 1)         0         \n",
            "                                                                 \n",
            " conv2d (Conv2D)             (None, 38, 38, 1)         10        \n",
            "                                                                 \n",
            " conv2d_1 (Conv2D)           (None, 38, 38, 1)         10        \n",
            "                                                                 \n",
            " dropout (Dropout)           (None, 38, 38, 1)         0         \n",
            "                                                                 \n",
            " max_pooling2d (MaxPooling2D  (None, 19, 19, 1)        0         \n",
            " )                                                               \n",
            "                                                                 \n",
            " conv2d_2 (Conv2D)           (None, 19, 19, 6)         30        \n",
            "                                                                 \n",
            " max_pooling2d_1 (MaxPooling  (None, 9, 9, 6)          0         \n",
            " 2D)                                                             \n",
            "                                                                 \n",
            " flatten (Flatten)           (None, 486)               0         \n",
            "                                                                 \n",
            " dense (Dense)               (None, 16)                7792      \n",
            "                                                                 \n",
            " dense_1 (Dense)             (None, 1)                 17        \n",
            "                                                                 \n",
            "=================================================================\n",
            "Total params: 807,859\n",
            "Trainable params: 807,859\n",
            "Non-trainable params: 0\n",
            "_________________________________________________________________\n"
          ]
        }
      ],
      "source": [
        "from keras.models import Sequential\n",
        "from keras.callbacks import History, EarlyStopping\n",
        "from keras.layers import Embedding, TextVectorization, Dense, LSTM, Input, Reshape, Flatten, Conv2D, MaxPooling2D, Dropout\n",
        "\n",
        "vectorize_layer = TextVectorization(\n",
        "  max_tokens=50000,\n",
        "  standardize=\"lower_and_strip_punctuation\",\n",
        "  output_sequence_length=100,\n",
        "  pad_to_max_tokens=True,\n",
        ")\n",
        "vectorize_layer.adapt(X_train)\n",
        "\n",
        "history_Adam = History()\n",
        "\n",
        "model = Sequential()\n",
        "\n",
        "# Vectorization\n",
        "model.add(Input(shape=(1,), dtype=tf.string))\n",
        "model.add(vectorize_layer)\n",
        "\n",
        "# Embedding\n",
        "model.add(Embedding(input_dim=len(vectorize_layer.get_vocabulary()), output_dim=16, input_length=100))\n",
        "\n",
        "#Embedding returns a tensor so we nee\n",
        "model.add(Reshape((40, 40, 1), input_shape=(16,100)))\n",
        "model.add(Conv2D(1,(3,3), input_shape=(16,16)))\n",
        "model.add(Conv2D(1,(3,3), input_shape=(14,14), padding=\"same\"))\n",
        "model.add(Dropout(0.3))\n",
        "model.add(MaxPooling2D((2,2)))\n",
        "model.add(Conv2D(6,(2,2),padding=\"same\"))\n",
        "model.add(MaxPooling2D((2,2)))\n",
        "model.add(Flatten())\n",
        "model.add(Dense(16, activation='relu'))\n",
        "model.add(Dense(1, activation='sigmoid'))\n",
        "\n",
        "model.summary()\n"
      ]
    },
    {
      "cell_type": "code",
      "execution_count": 5,
      "metadata": {
        "colab": {
          "base_uri": "https://localhost:8080/"
        },
        "id": "2RsZhZmucrMB",
        "outputId": "3b02ce53-2fe3-4481-f6b4-ec26bafa7dbe"
      },
      "outputs": [
        {
          "name": "stdout",
          "output_type": "stream",
          "text": [
            "Epoch 1/200\n",
            "200/200 [==============================] - 7s 18ms/step - loss: 0.5880 - accuracy: 0.6548 - val_loss: 0.5287 - val_accuracy: 0.7468\n",
            "Epoch 2/200\n",
            "200/200 [==============================] - 3s 17ms/step - loss: 0.2963 - accuracy: 0.8771 - val_loss: 0.7202 - val_accuracy: 0.7199\n",
            "Epoch 3/200\n",
            "200/200 [==============================] - 3s 17ms/step - loss: 0.1385 - accuracy: 0.9520 - val_loss: 1.0189 - val_accuracy: 0.7087\n",
            "Epoch 4/200\n",
            "200/200 [==============================] - 3s 17ms/step - loss: 0.0557 - accuracy: 0.9836 - val_loss: 1.5067 - val_accuracy: 0.7058\n",
            "Epoch 5/200\n",
            "200/200 [==============================] - 3s 17ms/step - loss: 0.0233 - accuracy: 0.9935 - val_loss: 1.6492 - val_accuracy: 0.7219\n",
            "Epoch 6/200\n",
            "200/200 [==============================] - 4s 20ms/step - loss: 0.0114 - accuracy: 0.9970 - val_loss: 2.1938 - val_accuracy: 0.7008\n",
            "Epoch 7/200\n",
            "200/200 [==============================] - 3s 17ms/step - loss: 0.0072 - accuracy: 0.9979 - val_loss: 2.2021 - val_accuracy: 0.7137\n",
            "Epoch 8/200\n",
            "200/200 [==============================] - 3s 17ms/step - loss: 0.0060 - accuracy: 0.9984 - val_loss: 2.4542 - val_accuracy: 0.7114\n",
            "Epoch 9/200\n",
            "200/200 [==============================] - 3s 17ms/step - loss: 0.0058 - accuracy: 0.9983 - val_loss: 2.8984 - val_accuracy: 0.6935\n",
            "Epoch 10/200\n",
            "200/200 [==============================] - 3s 17ms/step - loss: 0.0045 - accuracy: 0.9984 - val_loss: 2.6096 - val_accuracy: 0.7233\n",
            "Epoch 11/200\n",
            "200/200 [==============================] - 3s 16ms/step - loss: 0.0070 - accuracy: 0.9976 - val_loss: 2.6026 - val_accuracy: 0.7304\n",
            "Epoch 11: early stopping\n"
          ]
        },
        {
          "data": {
            "text/plain": [
              "<keras.callbacks.History at 0x7f978cd4da90>"
            ]
          },
          "execution_count": 5,
          "metadata": {},
          "output_type": "execute_result"
        }
      ],
      "source": [
        "model.compile(loss=\"binary_crossentropy\",optimizer=\"adam\", metrics=[\"accuracy\"])\n",
        "\n",
        "early_stopping = EarlyStopping(monitor='val_loss', patience=10, mode='min', verbose=1)\n",
        "model.fit(X_train, y_train, validation_data=(X_test, y_test), epochs=200, batch_size=100, callbacks=[history_Adam, early_stopping])"
      ]
    },
    {
      "cell_type": "code",
      "execution_count": 6,
      "metadata": {
        "colab": {
          "base_uri": "https://localhost:8080/"
        },
        "id": "y95qlptHc8vL",
        "outputId": "c65535c0-39ef-461a-b338-638b4786b1ff"
      },
      "outputs": [
        {
          "name": "stdout",
          "output_type": "stream",
          "text": [
            "625/625 [==============================] - 3s 5ms/step - loss: 2.6026 - accuracy: 0.7304\n"
          ]
        },
        {
          "data": {
            "text/plain": [
              "[2.602591037750244, 0.7304499745368958]"
            ]
          },
          "execution_count": 6,
          "metadata": {},
          "output_type": "execute_result"
        }
      ],
      "source": [
        "model.evaluate(X_test,y_test)"
      ]
    },
    {
      "cell_type": "code",
      "execution_count": 7,
      "metadata": {
        "colab": {
          "base_uri": "https://localhost:8080/",
          "height": 266
        },
        "id": "4Y9ORU8Hc-W5",
        "outputId": "574c8049-27ae-4f1e-fb31-f3af50a31ab2"
      },
      "outputs": [
        {
          "data": {
            "image/png": "[encoded data removed]",
            "text/plain": [
              "<Figure size 432x288 with 1 Axes>"
            ]
          },
          "metadata": {
            "needs_background": "light"
          },
          "output_type": "display_data"
        }
      ],
      "source": [
        "import matplotlib.pyplot as plt\n",
        "plt.plot(history_Adam.history['loss'], label = \"train\")\n",
        "plt.plot(history_Adam.history['val_loss'], label = \"test \")\n",
        "plt.legend()\n",
        "plt.show()"
      ]
    },
    {
      "cell_type": "code",
      "execution_count": 8,
      "metadata": {
        "colab": {
          "base_uri": "https://localhost:8080/",
          "height": 265
        },
        "id": "a-v9OxiAdG5j",
        "outputId": "359db2c5-9a98-4ac8-e085-73dc849963fb"
      },
      "outputs": [
        {
          "data": {
            "image/png": "[encoded data removed]",
            "text/plain": [
              "<Figure size 432x288 with 1 Axes>"
            ]
          },
          "metadata": {
            "needs_background": "light"
          },
          "output_type": "display_data"
        }
      ],
      "source": [
        "plt.plot(history_Adam.history['accuracy'], label = \"train\")\n",
        "plt.plot(history_Adam.history['val_accuracy'], label = \"test \")\n",
        "plt.legend()\n",
        "plt.show()"
      ]
    },
    {
      "cell_type": "markdown",
      "metadata": {
        "id": "xdoWhWoGnO97"
      },
      "source": [
        "# CNN with GloVe\n",
        "\n",
        "https://arxiv.org/pdf/1904.04206.pdf \\\n",
        "https://nlp.stanford.edu/projects/glove/"
      ]
    },
    {
      "cell_type": "code",
      "execution_count": 9,
      "metadata": {
        "colab": {
          "base_uri": "https://localhost:8080/"
        },
        "id": "0fu5OY-OnM9d",
        "outputId": "0c3e1a9c-eb2c-4c88-99ed-e03c9d4a9ab8"
      },
      "outputs": [
        {
          "name": "stdout",
          "output_type": "stream",
          "text": [
            "--2022-06-08 19:38:37--  http://nlp.stanford.edu/data/glove.6B.zip\n",
            "Resolving nlp.stanford.edu (nlp.stanford.edu)... 171.64.67.140\n",
            "Connecting to nlp.stanford.edu (nlp.stanford.edu)|171.64.67.140|:80... connected.\n",
            "HTTP request sent, awaiting response... 302 Found\n",
            "Location: https://nlp.stanford.edu/data/glove.6B.zip [following]\n",
            "--2022-06-08 19:38:37--  https://nlp.stanford.edu/data/glove.6B.zip\n",
            "Connecting to nlp.stanford.edu (nlp.stanford.edu)|171.64.67.140|:443... connected.\n",
            "HTTP request sent, awaiting response... 301 Moved Permanently\n",
            "Location: http://downloads.cs.stanford.edu/nlp/data/glove.6B.zip [following]\n",
            "--2022-06-08 19:38:38--  http://downloads.cs.stanford.edu/nlp/data/glove.6B.zip\n",
            "Resolving downloads.cs.stanford.edu (downloads.cs.stanford.edu)... 171.64.64.22\n",
            "Connecting to downloads.cs.stanford.edu (downloads.cs.stanford.edu)|171.64.64.22|:80... connected.\n",
            "HTTP request sent, awaiting response... 200 OK\n",
            "Length: 862182613 (822M) [application/zip]\n",
            "Saving to: ‘glove.6B.zip.1’\n",
            "\n",
            "glove.6B.zip.1      100%[===================>] 822.24M  5.10MB/s    in 2m 42s  \n",
            "\n",
            "2022-06-08 19:41:20 (5.08 MB/s) - ‘glove.6B.zip.1’ saved [862182613/862182613]\n",
            "\n",
            "replace glove.6B.50d.txt? [y]es, [n]o, [A]ll, [N]one, [r]ename: y\n",
            "replace glove.6B.100d.txt? [y]es, [n]o, [A]ll, [N]one, [r]ename: a\n",
            "error:  invalid response [a]\n",
            "replace glove.6B.100d.txt? [y]es, [n]o, [A]ll, [N]one, [r]ename: A\n"
          ]
        }
      ],
      "source": [
        "!wget http://nlp.stanford.edu/data/glove.6B.zip\n",
        "!unzip -q glove.6B.zip"
      ]
    },
    {
      "cell_type": "code",
      "execution_count": 10,
      "metadata": {
        "id": "tdQtDPohorkZ"
      },
      "outputs": [],
      "source": [
        "vectorize_layer = TextVectorization(\n",
        "  max_tokens=50000,\n",
        "  standardize=\"lower_and_strip_punctuation\",\n",
        "  output_sequence_length=100,\n",
        "  pad_to_max_tokens=True,\n",
        ")\n",
        "vectorize_layer.adapt(X_train)\n",
        "voc = vectorize_layer.get_vocabulary()\n",
        "word_index = dict(zip(voc, range(len(voc))))\n",
        "\n"
      ]
    },
    {
      "cell_type": "code",
      "execution_count": 11,
      "metadata": {
        "colab": {
          "base_uri": "https://localhost:8080/"
        },
        "id": "wGvhi2gDoLGx",
        "outputId": "6c63ed9b-70a2-4589-ada6-d9589157c433"
      },
      "outputs": [
        {
          "name": "stdout",
          "output_type": "stream",
          "text": [
            "Found 400000 word vectors.\n",
            "Converted 40374 words (9626 misses)\n"
          ]
        }
      ],
      "source": [
        "import os\n",
        "import numpy as np\n",
        "\n",
        "embeddings_index = {}\n",
        "with open(\"/content/glove.6B.100d.txt\") as f:\n",
        "    for line in f:\n",
        "        word, coefs = line.split(maxsplit=1)\n",
        "        coefs = np.fromstring(coefs, \"f\", sep=\" \")\n",
        "        embeddings_index[word] = coefs\n",
        "\n",
        "print(\"Found %s word vectors.\" % len(embeddings_index))\n",
        "\n",
        "num_tokens = len(voc) + 2\n",
        "embedding_dim = 100\n",
        "hits = 0\n",
        "misses = 0\n",
        "\n",
        "# Prepare embedding matrix\n",
        "embedding_matrix = np.zeros((num_tokens, embedding_dim))\n",
        "for word, i in word_index.items():\n",
        "    embedding_vector = embeddings_index.get(word)\n",
        "    if embedding_vector is not None:\n",
        "        # Words not found in embedding index will be all-zeros.\n",
        "        # This includes the representation for \"padding\" and \"OOV\"\n",
        "        embedding_matrix[i] = embedding_vector\n",
        "        hits += 1\n",
        "    else:\n",
        "        misses += 1\n",
        "print(\"Converted %d words (%d misses)\" % (hits, misses))\n"
      ]
    },
    {
      "cell_type": "code",
      "execution_count": 12,
      "metadata": {
        "id": "UKPr4egqocYZ"
      },
      "outputs": [],
      "source": [
        "from keras.layers import Embedding\n",
        "\n",
        "embedding_layer = Embedding(\n",
        "    num_tokens,\n",
        "    embedding_dim,\n",
        "    embeddings_initializer=keras.initializers.Constant(embedding_matrix),\n",
        "    trainable=False,\n",
        ")"
      ]
    },
    {
      "cell_type": "code",
      "execution_count": 14,
      "metadata": {
        "colab": {
          "base_uri": "https://localhost:8080/"
        },
        "id": "0ob2yqVHlFd3",
        "outputId": "d78e4cda-5455-42a4-9a73-fe8c51679875"
      },
      "outputs": [
        {
          "name": "stdout",
          "output_type": "stream",
          "text": [
            "Model: \"sequential_2\"\n",
            "_________________________________________________________________\n",
            " Layer (type)                Output Shape              Param #   \n",
            "=================================================================\n",
            " text_vectorization_1 (TextV  (None, 100)              0         \n",
            " ectorization)                                                   \n",
            "                                                                 \n",
            " embedding_1 (Embedding)     (None, 100, 100)          5000200   \n",
            "                                                                 \n",
            " reshape_1 (Reshape)         (None, 100, 100, 1)       0         \n",
            "                                                                 \n",
            " conv2d_3 (Conv2D)           (None, 98, 98, 1)         10        \n",
            "                                                                 \n",
            " conv2d_4 (Conv2D)           (None, 98, 98, 1)         10        \n",
            "                                                                 \n",
            " max_pooling2d_2 (MaxPooling  (None, 49, 49, 1)        0         \n",
            " 2D)                                                             \n",
            "                                                                 \n",
            " conv2d_5 (Conv2D)           (None, 49, 49, 1)         5         \n",
            "                                                                 \n",
            " max_pooling2d_3 (MaxPooling  (None, 24, 24, 1)        0         \n",
            " 2D)                                                             \n",
            "                                                                 \n",
            " conv2d_6 (Conv2D)           (None, 22, 22, 6)         60        \n",
            "                                                                 \n",
            " max_pooling2d_4 (MaxPooling  (None, 11, 11, 6)        0         \n",
            " 2D)                                                             \n",
            "                                                                 \n",
            " dropout_1 (Dropout)         (None, 11, 11, 6)         0         \n",
            "                                                                 \n",
            " conv2d_7 (Conv2D)           (None, 9, 9, 6)           330       \n",
            "                                                                 \n",
            " max_pooling2d_5 (MaxPooling  (None, 4, 4, 6)          0         \n",
            " 2D)                                                             \n",
            "                                                                 \n",
            " conv2d_8 (Conv2D)           (None, 2, 2, 6)           330       \n",
            "                                                                 \n",
            " max_pooling2d_6 (MaxPooling  (None, 1, 1, 6)          0         \n",
            " 2D)                                                             \n",
            "                                                                 \n",
            " flatten_1 (Flatten)         (None, 6)                 0         \n",
            "                                                                 \n",
            " dense_2 (Dense)             (None, 16)                112       \n",
            "                                                                 \n",
            " dense_3 (Dense)             (None, 1)                 17        \n",
            "                                                                 \n",
            "=================================================================\n",
            "Total params: 5,001,074\n",
            "Trainable params: 874\n",
            "Non-trainable params: 5,000,200\n",
            "_________________________________________________________________\n"
          ]
        }
      ],
      "source": [
        "from keras.models import Sequential\n",
        "from keras.callbacks import History, EarlyStopping\n",
        "from keras.layers import Embedding, TextVectorization, Dense, LSTM, Input, Reshape, Flatten, Conv2D, MaxPooling2D, Dropout\n",
        "\n",
        "history_Adam = History()\n",
        "\n",
        "model = Sequential()\n",
        "model.add(Input(shape=(1,), dtype=tf.string))\n",
        "model.add(vectorize_layer)\n",
        "model.add(embedding_layer)\n",
        "\n",
        "model.add(Reshape((100, 100, 1), input_shape=(100,100)))\n",
        "\n",
        "model.add(Conv2D(1,(3,3), input_shape=(100,100)))\n",
        "model.add(Conv2D(1,(3,3), input_shape=(98, 98), padding=\"same\"))\n",
        "model.add(MaxPooling2D((2,2)))\n",
        "model.add(Conv2D(1,(2,2),padding=\"same\"))\n",
        "model.add(MaxPooling2D((2,2)))\n",
        "model.add(Conv2D(6,(3,3), input_shape=(24, 24, 6)))\n",
        "model.add(MaxPooling2D((2,2)))\n",
        "model.add(Dropout(0.2))\n",
        "model.add(Conv2D(6,(3,3), input_shape=(12, 12, 6)))\n",
        "model.add(MaxPooling2D((2,2)))\n",
        "model.add(Conv2D(6,(3,3), input_shape=(6, 6, 6)))\n",
        "model.add(MaxPooling2D((2,2)))\n",
        "model.add(Flatten())\n",
        "model.add(Dense(16, activation='relu'))\n",
        "model.add(Dense(1, activation='sigmoid'))\n",
        "\n",
        "model.summary()\n",
        "\n"
      ]
    },
    {
      "cell_type": "code",
      "execution_count": 19,
      "metadata": {
        "colab": {
          "base_uri": "https://localhost:8080/"
        },
        "id": "r33rw48zlpI9",
        "outputId": "ce74767e-28cd-4441-ee8b-4621b928ce91"
      },
      "outputs": [
        {
          "name": "stdout",
          "output_type": "stream",
          "text": [
            "Epoch 1/200\n",
            "40/40 [==============================] - 5s 68ms/step - loss: 0.6160 - accuracy: 0.6573 - val_loss: 0.6224 - val_accuracy: 0.6539\n",
            "Epoch 2/200\n",
            "40/40 [==============================] - 3s 66ms/step - loss: 0.6161 - accuracy: 0.6586 - val_loss: 0.6202 - val_accuracy: 0.6544\n",
            "Epoch 3/200\n",
            "40/40 [==============================] - 3s 69ms/step - loss: 0.6141 - accuracy: 0.6588 - val_loss: 0.6223 - val_accuracy: 0.6535\n",
            "Epoch 4/200\n",
            "40/40 [==============================] - 3s 68ms/step - loss: 0.6145 - accuracy: 0.6615 - val_loss: 0.6199 - val_accuracy: 0.6562\n",
            "Epoch 5/200\n",
            "40/40 [==============================] - 3s 74ms/step - loss: 0.6173 - accuracy: 0.6563 - val_loss: 0.6224 - val_accuracy: 0.6526\n",
            "Epoch 6/200\n",
            "40/40 [==============================] - 3s 75ms/step - loss: 0.6153 - accuracy: 0.6597 - val_loss: 0.6300 - val_accuracy: 0.6492\n",
            "Epoch 7/200\n",
            "40/40 [==============================] - 3s 75ms/step - loss: 0.6147 - accuracy: 0.6610 - val_loss: 0.6307 - val_accuracy: 0.6477\n",
            "Epoch 8/200\n",
            "40/40 [==============================] - 3s 75ms/step - loss: 0.6113 - accuracy: 0.6635 - val_loss: 0.6234 - val_accuracy: 0.6528\n",
            "Epoch 9/200\n",
            "40/40 [==============================] - 3s 75ms/step - loss: 0.6151 - accuracy: 0.6587 - val_loss: 0.6237 - val_accuracy: 0.6521\n",
            "Epoch 10/200\n",
            "40/40 [==============================] - 3s 83ms/step - loss: 0.6145 - accuracy: 0.6589 - val_loss: 0.6255 - val_accuracy: 0.6511\n",
            "Epoch 11/200\n",
            "40/40 [==============================] - 3s 88ms/step - loss: 0.6165 - accuracy: 0.6586 - val_loss: 0.6274 - val_accuracy: 0.6474\n",
            "Epoch 12/200\n",
            "40/40 [==============================] - 3s 69ms/step - loss: 0.6165 - accuracy: 0.6589 - val_loss: 0.6299 - val_accuracy: 0.6488\n",
            "Epoch 13/200\n",
            "40/40 [==============================] - 3s 75ms/step - loss: 0.6125 - accuracy: 0.6613 - val_loss: 0.6209 - val_accuracy: 0.6539\n",
            "Epoch 14/200\n",
            "40/40 [==============================] - 3s 69ms/step - loss: 0.6142 - accuracy: 0.6575 - val_loss: 0.6289 - val_accuracy: 0.6485\n",
            "Epoch 14: early stopping\n"
          ]
        },
        {
          "data": {
            "text/plain": [
              "<keras.callbacks.History at 0x7f96f9850910>"
            ]
          },
          "execution_count": 19,
          "metadata": {},
          "output_type": "execute_result"
        }
      ],
      "source": [
        "model.compile(loss=\"binary_crossentropy\",optimizer=\"adam\", metrics=[\"accuracy\"])\n",
        "\n",
        "early_stopping = EarlyStopping(monitor='val_loss', patience=10, mode='min', verbose=1)\n",
        "model.fit(X_train, y_train, validation_data=(X_test, y_test), epochs=200, batch_size=500, callbacks=[history_Adam, early_stopping])"
      ]
    },
    {
      "cell_type": "code",
      "execution_count": 20,
      "metadata": {
        "colab": {
          "base_uri": "https://localhost:8080/"
        },
        "id": "xXzmEJHAlq9d",
        "outputId": "d248d463-24fd-4af5-cd0c-417f5b4140a1"
      },
      "outputs": [
        {
          "name": "stdout",
          "output_type": "stream",
          "text": [
            "625/625 [==============================] - 3s 5ms/step - loss: 0.6289 - accuracy: 0.6485\n"
          ]
        },
        {
          "data": {
            "text/plain": [
              "[0.6288773417472839, 0.6485000252723694]"
            ]
          },
          "execution_count": 20,
          "metadata": {},
          "output_type": "execute_result"
        }
      ],
      "source": [
        "model.evaluate(X_test,y_test)"
      ]
    },
    {
      "cell_type": "code",
      "execution_count": 21,
      "metadata": {
        "colab": {
          "base_uri": "https://localhost:8080/",
          "height": 265
        },
        "id": "HLrlPkp0lscu",
        "outputId": "9e1c3fba-78cf-49c7-83b4-515571d7b560"
      },
      "outputs": [
        {
          "data": {
            "image/png": "[encoded data removed]",
            "text/plain": [
              "<Figure size 432x288 with 1 Axes>"
            ]
          },
          "metadata": {
            "needs_background": "light"
          },
          "output_type": "display_data"
        }
      ],
      "source": [
        "import matplotlib.pyplot as plt\n",
        "plt.plot(history_Adam.history['loss'], label = \"train\")\n",
        "plt.plot(history_Adam.history['val_loss'], label = \"test \")\n",
        "plt.legend()\n",
        "plt.show()"
      ]
    },
    {
      "cell_type": "code",
      "execution_count": 22,
      "metadata": {
        "colab": {
          "base_uri": "https://localhost:8080/",
          "height": 265
        },
        "id": "OPbmQpCXluqN",
        "outputId": "ae483403-391d-4a8f-941d-f53edb390a19"
      },
      "outputs": [
        {
          "data": {
            "image/png": "[encoded data removed]",
            "text/plain": [
              "<Figure size 432x288 with 1 Axes>"
            ]
          },
          "metadata": {
            "needs_background": "light"
          },
          "output_type": "display_data"
        }
      ],
      "source": [
        "plt.plot(history_Adam.history['accuracy'], label = \"train\")\n",
        "plt.plot(history_Adam.history['val_accuracy'], label = \"test \")\n",
        "plt.legend()\n",
        "plt.show()"
      ]
    },
    {
      "cell_type": "markdown",
      "metadata": {
        "id": "0W9ANiWSYp5D"
      },
      "source": []
    }
  ],
  "metadata": {
    "accelerator": "GPU",
    "colab": {
      "collapsed_sections": [],
      "name": "05_CNN.ipynb",
      "provenance": []
    },
    "kernelspec": {
      "display_name": "Python 3",
      "name": "python3"
    },
    "language_info": {
      "name": "python"
    }
  },
  "nbformat": 4,
  "nbformat_minor": 0
}
