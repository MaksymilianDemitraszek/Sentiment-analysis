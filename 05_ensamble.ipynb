{
  "cells": [
    {
      "cell_type": "code",
      "execution_count": 2,
      "metadata": {
        "id": "RjW5mauAYGT9",
        "outputId": "e1d24f2a-b459-4975-ef5a-3730851f9f59",
        "colab": {
          "base_uri": "https://localhost:8080/"
        }
      },
      "outputs": [
        {
          "output_type": "stream",
          "name": "stdout",
          "text": [
            "Drive already mounted at /content/drive; to attempt to forcibly remount, call drive.mount(\"/content/drive\", force_remount=True).\n"
          ]
        }
      ],
      "source": [
        "from google.colab import drive\n",
        "drive.mount('/content/drive')"
      ]
    },
    {
      "cell_type": "code",
      "execution_count": 3,
      "metadata": {
        "id": "F6448xbAYGT-",
        "outputId": "794af9e6-4680-48ea-dcf0-987a7fe58c04",
        "colab": {
          "base_uri": "https://localhost:8080/"
        }
      },
      "outputs": [
        {
          "output_type": "stream",
          "name": "stdout",
          "text": [
            "2.8.2\n",
            "2.8.0\n"
          ]
        }
      ],
      "source": [
        "import tensorflow as tf\n",
        "from tensorflow import keras\n",
        "print(tf.__version__)\n",
        "print(keras.__version__)"
      ]
    },
    {
      "cell_type": "code",
      "execution_count": 4,
      "metadata": {
        "id": "kpMQBsSXYGT_",
        "outputId": "38c5a654-8945-4776-c72b-193798f9b170",
        "colab": {
          "base_uri": "https://localhost:8080/"
        }
      },
      "outputs": [
        {
          "output_type": "execute_result",
          "data": {
            "text/plain": [
              "(23471    This is definitely one of the better Mel Brook...\n",
              " 819      After playing a nymphomaniac in WRITTEN ON THE...\n",
              " 5848     I've seen a lot of movies in my time and this ...\n",
              " 36330    This is an example of why the majority of acti...\n",
              " 36497    By watching this film you will not only explor...\n",
              "                                ...                        \n",
              " 17159    I never much liked the Myra movie, tho I appre...\n",
              " 20379    Committed stars (Heather Graham) along with (C...\n",
              " 7540     Well...I like Patricia Kaas. She is a beautifu...\n",
              " 39557    Dull acting, weak script...worst spanish movie...\n",
              " 1583     The only possible way to enjoy this flick is t...\n",
              " Name: text, Length: 20000, dtype: object, 23471    1\n",
              " 819      1\n",
              " 5848     0\n",
              " 36330    0\n",
              " 36497    1\n",
              "         ..\n",
              " 17159    0\n",
              " 20379    0\n",
              " 7540     0\n",
              " 39557    0\n",
              " 1583     0\n",
              " Name: label, Length: 20000, dtype: int64)"
            ]
          },
          "metadata": {},
          "execution_count": 4
        }
      ],
      "source": [
        "import pandas as pd\n",
        "import numpy as np\n",
        "from sklearn.model_selection import train_test_split\n",
        "\n",
        "dataset = pd.read_csv('/content/drive/MyDrive/datasets/movie.csv', sep=\",\")\n",
        "X = dataset[\"text\"]\n",
        "y = dataset[\"label\"]\n",
        "\n",
        "\n",
        "X_train, X_test, y_train, y_test = train_test_split(X, y, test_size=0.5, shuffle=True, stratify=y)\n",
        "\n",
        "X_train, y_train"
      ]
    },
    {
      "cell_type": "markdown",
      "metadata": {
        "id": "3N1r_xEXYGUB"
      },
      "source": [
        "## Ensenble \n",
        "### Bidirectional GRU 32\n",
        "### SVM"
      ]
    },
    {
      "cell_type": "code",
      "execution_count": null,
      "metadata": {
        "id": "UaWwrptjYGUC",
        "outputId": "c46aeb7b-d615-46b8-a9d9-d39b3e5da60d",
        "colab": {
          "base_uri": "https://localhost:8080/"
        }
      },
      "outputs": [
        {
          "output_type": "stream",
          "name": "stdout",
          "text": [
            "[LibSVM]"
          ]
        }
      ],
      "source": [
        "from sklearn.feature_extraction.text import TfidfVectorizer\n",
        "from sklearn.svm import SVC\n",
        "from sklearn.pipeline import Pipeline\n",
        "\n",
        "vectorizer = TfidfVectorizer(stop_words='english')\n",
        "\n",
        "X_train_sv = vectorizer.fit_transform(X_train)\n",
        "clf1 = SVC(C=10, gamma=0.1, kernel=\"rbf\", verbose=True)\n",
        "\n",
        "clf1.fit(X_train_sv, y_train)\n"
      ]
    },
    {
      "cell_type": "code",
      "execution_count": null,
      "metadata": {
        "id": "ng4s2Ss4YGUD"
      },
      "outputs": [],
      "source": [
        "from keras.models import Sequential\n",
        "from keras.callbacks import History, EarlyStopping\n",
        "from keras.layers import Embedding, TextVectorization, Dense, LSTM, Input, Bidirectional\n",
        "\n",
        "vectorize_layer = TextVectorization(max_tokens=50000)\n",
        "vectorize_layer.adapt(X_train)\n",
        "\n",
        "history_Adam = History()\n",
        "\n",
        "model = Sequential()\n",
        "\n",
        "# Vectorization\n",
        "model.add(Input(shape=(1,), dtype=tf.string))\n",
        "model.add(vectorize_layer)\n",
        "\n",
        "# Embedding\n",
        "model.add(Embedding(input_dim=len(vectorize_layer.get_vocabulary()), output_dim=64))\n",
        "\n",
        "\n",
        "model.add(Bidirectional(tf.keras.layers.GRU(32)))\n",
        "model.add(Dense(24, activation='relu'))\n",
        "model.add(Dense(1, activation='sigmoid'))\n",
        "\n",
        "\n",
        "model.summary()\n"
      ]
    },
    {
      "cell_type": "code",
      "execution_count": null,
      "metadata": {
        "id": "FxiEFjdjYGUE"
      },
      "outputs": [],
      "source": [
        "model.compile(loss=\"binary_crossentropy\",optimizer=\"adam\", metrics=[\"accuracy\"])\n",
        "\n",
        "early_stopping = EarlyStopping(monitor='val_loss', patience=3, mode='min', verbose=1)\n",
        "model.fit(X_train, y_train, validation_data=(X_test, y_test), epochs=20, batch_size=100, callbacks=[history_Adam, early_stopping])"
      ]
    },
    {
      "cell_type": "code",
      "execution_count": null,
      "metadata": {
        "id": "meDTUB2JYGUG"
      },
      "outputs": [],
      "source": [
        "from mlxtend.classifier import EnsembleVoteClassifier\n",
        "eclf = EnsembleVoteClassifier(clfs=[clf1, model], weights=[1,1], fit_base_estimators=False)\n"
      ]
    },
    {
      "cell_type": "code",
      "source": [
        "from sklearn.metrics import accuracy_score, f1_score, precision_score, recall_score\n",
        "import numpy as np\n",
        "\n",
        "for name, score in [(\"accuracy\", accuracy_score), (\"recall\", recall_score), (\"precision\", precision_score), (\"f1\", f1_score)]:\n",
        "    print(name, score(grid_search.predict(X_test), y_test))\n"
      ],
      "metadata": {
        "id": "0gTADhSsYmWf"
      },
      "execution_count": null,
      "outputs": []
    },
    {
      "cell_type": "markdown",
      "metadata": {
        "id": "tRtJH4WBYGUG"
      },
      "source": [
        ""
      ]
    }
  ],
  "metadata": {
    "language_info": {
      "name": "python"
    },
    "orig_nbformat": 4,
    "colab": {
      "name": "05_ensamble.ipynb",
      "provenance": []
    },
    "kernelspec": {
      "name": "python3",
      "display_name": "Python 3"
    },
    "accelerator": "GPU"
  },
  "nbformat": 4,
  "nbformat_minor": 0
}